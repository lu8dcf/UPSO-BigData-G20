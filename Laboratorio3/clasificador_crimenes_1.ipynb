{
  "cells": [
    {
      "cell_type": "markdown",
      "metadata": {
        "id": "qERCNLS3Hkjf"
      },
      "source": [
        "En este bloque importamos todas las librerias a utilizar"
      ]
    },
    {
      "cell_type": "code",
      "execution_count": 1,
      "metadata": {
        "colab": {
          "base_uri": "https://localhost:8080/"
        },
        "id": "sTRWUifcnaS6",
        "outputId": "c8f42032-e873-4c06-954c-252d204703fb"
      },
      "outputs": [],
      "source": [
        "import numpy as np\n",
        "import pandas as pd\n",
        "import seaborn as sns\n",
        "import matplotlib.pyplot as plt\n",
        "from sklearn import preprocessing\n",
        "from sklearn.datasets import make_blobs\n",
        "from sklearn.cluster import KMeans, MeanShift, DBSCAN\n",
        "from sklearn.preprocessing import StandardScaler\n",
        "import plotly.express as px\n",
        "\n",
        "\n",
        "\n",
        "#from google.colab import drive\n",
        "#drive.mount('/content/drive')\n"
      ]
    },
    {
      "cell_type": "markdown",
      "metadata": {
        "id": "5F3mvxGunaTC"
      },
      "source": [
        "1:CARGA DE DATOS"
      ]
    },
    {
      "cell_type": "markdown",
      "metadata": {
        "id": "QgtitHzyH4cx"
      },
      "source": [
        "En este bloque nos preparamos paera la carga de datos definiendo nuestras rutas."
      ]
    },
    {
      "cell_type": "code",
      "execution_count": 2,
      "metadata": {
        "id": "8qZgFayTnaTD"
      },
      "outputs": [],
      "source": [
        "# ruta lucia\n",
        "# ruta = \"C:/Dropbox/Estudio/Upso/GRUPO-TRABAJO/Laboratorio3/Crimenes.csv\"\n",
        "\n",
        "# ruta heber\n",
        "ruta= \"D:/Dropbox/Estudio/Upso/GRUPO-TRABAJO/BigData/Laboratorio3/Crimenes.csv\"\n",
        "\n",
        "# ruta viviana\n",
        "#ruta=\"/content/drive/MyDrive/BIG_DATA/Crimenes.csv\"\n",
        "\n",
        "# ruta pastor\n",
        "#ruta=\"C:/Users/pasto/Dropbox/GRUPO-TRABAJO/BigData/Laboratorio3/Crimenes.csv\"\n"
      ]
    },
    {
      "cell_type": "markdown",
      "metadata": {
        "id": "kzpirgWPLd6-"
      },
      "source": [
        "Hacemos una previsualizacion para verificar haber cargado correctamente el csv."
      ]
    },
    {
      "cell_type": "code",
      "execution_count": 3,
      "metadata": {
        "colab": {
          "base_uri": "https://localhost:8080/",
          "height": 1000
        },
        "id": "Wx2H1WsYHSF4",
        "outputId": "1132890e-2c44-4696-ad2d-eb052fdc2b6a"
      },
      "outputs": [
        {
          "data": {
            "text/html": [
              "<div>\n",
              "<style scoped>\n",
              "    .dataframe tbody tr th:only-of-type {\n",
              "        vertical-align: middle;\n",
              "    }\n",
              "\n",
              "    .dataframe tbody tr th {\n",
              "        vertical-align: top;\n",
              "    }\n",
              "\n",
              "    .dataframe thead th {\n",
              "        text-align: right;\n",
              "    }\n",
              "</style>\n",
              "<table border=\"1\" class=\"dataframe\">\n",
              "  <thead>\n",
              "    <tr style=\"text-align: right;\">\n",
              "      <th></th>\n",
              "      <th>Estado</th>\n",
              "      <th>Asesinatos</th>\n",
              "      <th>Asaltos</th>\n",
              "      <th>Poblacion Urbana</th>\n",
              "      <th>Violaciones</th>\n",
              "    </tr>\n",
              "  </thead>\n",
              "  <tbody>\n",
              "    <tr>\n",
              "      <th>0</th>\n",
              "      <td>Alabama</td>\n",
              "      <td>13.2</td>\n",
              "      <td>236</td>\n",
              "      <td>58</td>\n",
              "      <td>21.2</td>\n",
              "    </tr>\n",
              "    <tr>\n",
              "      <th>1</th>\n",
              "      <td>Alaska</td>\n",
              "      <td>10.0</td>\n",
              "      <td>263</td>\n",
              "      <td>48</td>\n",
              "      <td>44.5</td>\n",
              "    </tr>\n",
              "    <tr>\n",
              "      <th>2</th>\n",
              "      <td>Arizona</td>\n",
              "      <td>8.1</td>\n",
              "      <td>294</td>\n",
              "      <td>80</td>\n",
              "      <td>31.0</td>\n",
              "    </tr>\n",
              "    <tr>\n",
              "      <th>3</th>\n",
              "      <td>Arkansas</td>\n",
              "      <td>8.8</td>\n",
              "      <td>190</td>\n",
              "      <td>50</td>\n",
              "      <td>19.5</td>\n",
              "    </tr>\n",
              "    <tr>\n",
              "      <th>4</th>\n",
              "      <td>California</td>\n",
              "      <td>9.0</td>\n",
              "      <td>276</td>\n",
              "      <td>91</td>\n",
              "      <td>40.6</td>\n",
              "    </tr>\n",
              "    <tr>\n",
              "      <th>5</th>\n",
              "      <td>Colorado</td>\n",
              "      <td>7.9</td>\n",
              "      <td>204</td>\n",
              "      <td>78</td>\n",
              "      <td>38.7</td>\n",
              "    </tr>\n",
              "    <tr>\n",
              "      <th>6</th>\n",
              "      <td>Connecticut</td>\n",
              "      <td>3.3</td>\n",
              "      <td>110</td>\n",
              "      <td>77</td>\n",
              "      <td>11.1</td>\n",
              "    </tr>\n",
              "    <tr>\n",
              "      <th>7</th>\n",
              "      <td>Delaware</td>\n",
              "      <td>5.9</td>\n",
              "      <td>238</td>\n",
              "      <td>72</td>\n",
              "      <td>15.8</td>\n",
              "    </tr>\n",
              "    <tr>\n",
              "      <th>8</th>\n",
              "      <td>Florida</td>\n",
              "      <td>15.4</td>\n",
              "      <td>335</td>\n",
              "      <td>80</td>\n",
              "      <td>31.9</td>\n",
              "    </tr>\n",
              "    <tr>\n",
              "      <th>9</th>\n",
              "      <td>Georgia</td>\n",
              "      <td>17.4</td>\n",
              "      <td>211</td>\n",
              "      <td>60</td>\n",
              "      <td>25.8</td>\n",
              "    </tr>\n",
              "    <tr>\n",
              "      <th>10</th>\n",
              "      <td>Hawaii</td>\n",
              "      <td>5.3</td>\n",
              "      <td>46</td>\n",
              "      <td>83</td>\n",
              "      <td>20.2</td>\n",
              "    </tr>\n",
              "    <tr>\n",
              "      <th>11</th>\n",
              "      <td>Idaho</td>\n",
              "      <td>2.6</td>\n",
              "      <td>120</td>\n",
              "      <td>54</td>\n",
              "      <td>14.2</td>\n",
              "    </tr>\n",
              "    <tr>\n",
              "      <th>12</th>\n",
              "      <td>Illinois</td>\n",
              "      <td>10.4</td>\n",
              "      <td>249</td>\n",
              "      <td>83</td>\n",
              "      <td>24.0</td>\n",
              "    </tr>\n",
              "    <tr>\n",
              "      <th>13</th>\n",
              "      <td>Indiana</td>\n",
              "      <td>7.2</td>\n",
              "      <td>113</td>\n",
              "      <td>65</td>\n",
              "      <td>21.0</td>\n",
              "    </tr>\n",
              "    <tr>\n",
              "      <th>14</th>\n",
              "      <td>Iowa</td>\n",
              "      <td>2.2</td>\n",
              "      <td>56</td>\n",
              "      <td>57</td>\n",
              "      <td>11.3</td>\n",
              "    </tr>\n",
              "    <tr>\n",
              "      <th>15</th>\n",
              "      <td>Kansas</td>\n",
              "      <td>6.0</td>\n",
              "      <td>115</td>\n",
              "      <td>66</td>\n",
              "      <td>18.0</td>\n",
              "    </tr>\n",
              "    <tr>\n",
              "      <th>16</th>\n",
              "      <td>Kentucky</td>\n",
              "      <td>9.7</td>\n",
              "      <td>109</td>\n",
              "      <td>52</td>\n",
              "      <td>16.3</td>\n",
              "    </tr>\n",
              "    <tr>\n",
              "      <th>17</th>\n",
              "      <td>Louisiana</td>\n",
              "      <td>15.4</td>\n",
              "      <td>249</td>\n",
              "      <td>66</td>\n",
              "      <td>22.2</td>\n",
              "    </tr>\n",
              "    <tr>\n",
              "      <th>18</th>\n",
              "      <td>Maine</td>\n",
              "      <td>2.1</td>\n",
              "      <td>83</td>\n",
              "      <td>51</td>\n",
              "      <td>7.8</td>\n",
              "    </tr>\n",
              "    <tr>\n",
              "      <th>19</th>\n",
              "      <td>Maryland</td>\n",
              "      <td>11.3</td>\n",
              "      <td>300</td>\n",
              "      <td>67</td>\n",
              "      <td>27.8</td>\n",
              "    </tr>\n",
              "    <tr>\n",
              "      <th>20</th>\n",
              "      <td>Massachusetts</td>\n",
              "      <td>4.4</td>\n",
              "      <td>149</td>\n",
              "      <td>85</td>\n",
              "      <td>16.3</td>\n",
              "    </tr>\n",
              "    <tr>\n",
              "      <th>21</th>\n",
              "      <td>Michigan</td>\n",
              "      <td>12.1</td>\n",
              "      <td>255</td>\n",
              "      <td>74</td>\n",
              "      <td>35.1</td>\n",
              "    </tr>\n",
              "    <tr>\n",
              "      <th>22</th>\n",
              "      <td>Minnesota</td>\n",
              "      <td>2.7</td>\n",
              "      <td>72</td>\n",
              "      <td>66</td>\n",
              "      <td>14.9</td>\n",
              "    </tr>\n",
              "    <tr>\n",
              "      <th>23</th>\n",
              "      <td>Mississippi</td>\n",
              "      <td>16.1</td>\n",
              "      <td>259</td>\n",
              "      <td>44</td>\n",
              "      <td>17.1</td>\n",
              "    </tr>\n",
              "    <tr>\n",
              "      <th>24</th>\n",
              "      <td>Missouri</td>\n",
              "      <td>9.0</td>\n",
              "      <td>178</td>\n",
              "      <td>70</td>\n",
              "      <td>28.2</td>\n",
              "    </tr>\n",
              "    <tr>\n",
              "      <th>25</th>\n",
              "      <td>Montana</td>\n",
              "      <td>6.0</td>\n",
              "      <td>109</td>\n",
              "      <td>53</td>\n",
              "      <td>16.4</td>\n",
              "    </tr>\n",
              "    <tr>\n",
              "      <th>26</th>\n",
              "      <td>Nebraska</td>\n",
              "      <td>4.3</td>\n",
              "      <td>102</td>\n",
              "      <td>62</td>\n",
              "      <td>16.5</td>\n",
              "    </tr>\n",
              "    <tr>\n",
              "      <th>27</th>\n",
              "      <td>Nevada</td>\n",
              "      <td>12.2</td>\n",
              "      <td>252</td>\n",
              "      <td>81</td>\n",
              "      <td>46.0</td>\n",
              "    </tr>\n",
              "    <tr>\n",
              "      <th>28</th>\n",
              "      <td>New Hampshire</td>\n",
              "      <td>2.1</td>\n",
              "      <td>57</td>\n",
              "      <td>56</td>\n",
              "      <td>9.5</td>\n",
              "    </tr>\n",
              "    <tr>\n",
              "      <th>29</th>\n",
              "      <td>New Jersey</td>\n",
              "      <td>7.4</td>\n",
              "      <td>159</td>\n",
              "      <td>89</td>\n",
              "      <td>18.8</td>\n",
              "    </tr>\n",
              "    <tr>\n",
              "      <th>30</th>\n",
              "      <td>New Mexico</td>\n",
              "      <td>11.4</td>\n",
              "      <td>285</td>\n",
              "      <td>70</td>\n",
              "      <td>32.1</td>\n",
              "    </tr>\n",
              "    <tr>\n",
              "      <th>31</th>\n",
              "      <td>New York</td>\n",
              "      <td>11.1</td>\n",
              "      <td>254</td>\n",
              "      <td>86</td>\n",
              "      <td>26.1</td>\n",
              "    </tr>\n",
              "    <tr>\n",
              "      <th>32</th>\n",
              "      <td>North Carolina</td>\n",
              "      <td>13.0</td>\n",
              "      <td>337</td>\n",
              "      <td>45</td>\n",
              "      <td>16.1</td>\n",
              "    </tr>\n",
              "    <tr>\n",
              "      <th>33</th>\n",
              "      <td>North Dakota</td>\n",
              "      <td>0.8</td>\n",
              "      <td>45</td>\n",
              "      <td>44</td>\n",
              "      <td>7.3</td>\n",
              "    </tr>\n",
              "    <tr>\n",
              "      <th>34</th>\n",
              "      <td>Ohio</td>\n",
              "      <td>7.3</td>\n",
              "      <td>120</td>\n",
              "      <td>75</td>\n",
              "      <td>21.4</td>\n",
              "    </tr>\n",
              "    <tr>\n",
              "      <th>35</th>\n",
              "      <td>Oklahoma</td>\n",
              "      <td>6.6</td>\n",
              "      <td>151</td>\n",
              "      <td>68</td>\n",
              "      <td>20.0</td>\n",
              "    </tr>\n",
              "    <tr>\n",
              "      <th>36</th>\n",
              "      <td>Oregon</td>\n",
              "      <td>4.9</td>\n",
              "      <td>159</td>\n",
              "      <td>67</td>\n",
              "      <td>29.3</td>\n",
              "    </tr>\n",
              "    <tr>\n",
              "      <th>37</th>\n",
              "      <td>Pennsylvania</td>\n",
              "      <td>6.3</td>\n",
              "      <td>106</td>\n",
              "      <td>72</td>\n",
              "      <td>14.9</td>\n",
              "    </tr>\n",
              "    <tr>\n",
              "      <th>38</th>\n",
              "      <td>Rhode Island</td>\n",
              "      <td>3.4</td>\n",
              "      <td>174</td>\n",
              "      <td>87</td>\n",
              "      <td>8.3</td>\n",
              "    </tr>\n",
              "    <tr>\n",
              "      <th>39</th>\n",
              "      <td>South Carolina</td>\n",
              "      <td>14.4</td>\n",
              "      <td>279</td>\n",
              "      <td>48</td>\n",
              "      <td>22.5</td>\n",
              "    </tr>\n",
              "    <tr>\n",
              "      <th>40</th>\n",
              "      <td>South Dakota</td>\n",
              "      <td>3.8</td>\n",
              "      <td>86</td>\n",
              "      <td>45</td>\n",
              "      <td>12.8</td>\n",
              "    </tr>\n",
              "    <tr>\n",
              "      <th>41</th>\n",
              "      <td>Tennessee</td>\n",
              "      <td>13.2</td>\n",
              "      <td>188</td>\n",
              "      <td>59</td>\n",
              "      <td>26.9</td>\n",
              "    </tr>\n",
              "    <tr>\n",
              "      <th>42</th>\n",
              "      <td>Texas</td>\n",
              "      <td>12.7</td>\n",
              "      <td>201</td>\n",
              "      <td>80</td>\n",
              "      <td>25.5</td>\n",
              "    </tr>\n",
              "    <tr>\n",
              "      <th>43</th>\n",
              "      <td>Utah</td>\n",
              "      <td>3.2</td>\n",
              "      <td>120</td>\n",
              "      <td>80</td>\n",
              "      <td>22.9</td>\n",
              "    </tr>\n",
              "    <tr>\n",
              "      <th>44</th>\n",
              "      <td>Vermont</td>\n",
              "      <td>2.2</td>\n",
              "      <td>48</td>\n",
              "      <td>32</td>\n",
              "      <td>11.2</td>\n",
              "    </tr>\n",
              "    <tr>\n",
              "      <th>45</th>\n",
              "      <td>Virginia</td>\n",
              "      <td>8.5</td>\n",
              "      <td>156</td>\n",
              "      <td>63</td>\n",
              "      <td>20.7</td>\n",
              "    </tr>\n",
              "    <tr>\n",
              "      <th>46</th>\n",
              "      <td>Washington</td>\n",
              "      <td>4.0</td>\n",
              "      <td>145</td>\n",
              "      <td>73</td>\n",
              "      <td>26.2</td>\n",
              "    </tr>\n",
              "    <tr>\n",
              "      <th>47</th>\n",
              "      <td>West Virginia</td>\n",
              "      <td>5.7</td>\n",
              "      <td>81</td>\n",
              "      <td>39</td>\n",
              "      <td>9.3</td>\n",
              "    </tr>\n",
              "    <tr>\n",
              "      <th>48</th>\n",
              "      <td>Wisconsin</td>\n",
              "      <td>2.6</td>\n",
              "      <td>53</td>\n",
              "      <td>66</td>\n",
              "      <td>10.8</td>\n",
              "    </tr>\n",
              "    <tr>\n",
              "      <th>49</th>\n",
              "      <td>Wyoming</td>\n",
              "      <td>6.8</td>\n",
              "      <td>161</td>\n",
              "      <td>60</td>\n",
              "      <td>15.6</td>\n",
              "    </tr>\n",
              "  </tbody>\n",
              "</table>\n",
              "</div>"
            ],
            "text/plain": [
              "            Estado  Asesinatos  Asaltos  Poblacion Urbana  Violaciones\n",
              "0          Alabama        13.2      236                58         21.2\n",
              "1           Alaska        10.0      263                48         44.5\n",
              "2          Arizona         8.1      294                80         31.0\n",
              "3         Arkansas         8.8      190                50         19.5\n",
              "4       California         9.0      276                91         40.6\n",
              "5         Colorado         7.9      204                78         38.7\n",
              "6      Connecticut         3.3      110                77         11.1\n",
              "7         Delaware         5.9      238                72         15.8\n",
              "8          Florida        15.4      335                80         31.9\n",
              "9          Georgia        17.4      211                60         25.8\n",
              "10          Hawaii         5.3       46                83         20.2\n",
              "11           Idaho         2.6      120                54         14.2\n",
              "12        Illinois        10.4      249                83         24.0\n",
              "13         Indiana         7.2      113                65         21.0\n",
              "14            Iowa         2.2       56                57         11.3\n",
              "15          Kansas         6.0      115                66         18.0\n",
              "16        Kentucky         9.7      109                52         16.3\n",
              "17       Louisiana        15.4      249                66         22.2\n",
              "18           Maine         2.1       83                51          7.8\n",
              "19        Maryland        11.3      300                67         27.8\n",
              "20   Massachusetts         4.4      149                85         16.3\n",
              "21        Michigan        12.1      255                74         35.1\n",
              "22       Minnesota         2.7       72                66         14.9\n",
              "23     Mississippi        16.1      259                44         17.1\n",
              "24        Missouri         9.0      178                70         28.2\n",
              "25         Montana         6.0      109                53         16.4\n",
              "26        Nebraska         4.3      102                62         16.5\n",
              "27          Nevada        12.2      252                81         46.0\n",
              "28   New Hampshire         2.1       57                56          9.5\n",
              "29      New Jersey         7.4      159                89         18.8\n",
              "30      New Mexico        11.4      285                70         32.1\n",
              "31        New York        11.1      254                86         26.1\n",
              "32  North Carolina        13.0      337                45         16.1\n",
              "33    North Dakota         0.8       45                44          7.3\n",
              "34            Ohio         7.3      120                75         21.4\n",
              "35        Oklahoma         6.6      151                68         20.0\n",
              "36          Oregon         4.9      159                67         29.3\n",
              "37    Pennsylvania         6.3      106                72         14.9\n",
              "38    Rhode Island         3.4      174                87          8.3\n",
              "39  South Carolina        14.4      279                48         22.5\n",
              "40    South Dakota         3.8       86                45         12.8\n",
              "41       Tennessee        13.2      188                59         26.9\n",
              "42           Texas        12.7      201                80         25.5\n",
              "43            Utah         3.2      120                80         22.9\n",
              "44         Vermont         2.2       48                32         11.2\n",
              "45        Virginia         8.5      156                63         20.7\n",
              "46      Washington         4.0      145                73         26.2\n",
              "47   West Virginia         5.7       81                39          9.3\n",
              "48       Wisconsin         2.6       53                66         10.8\n",
              "49         Wyoming         6.8      161                60         15.6"
            ]
          },
          "execution_count": 3,
          "metadata": {},
          "output_type": "execute_result"
        }
      ],
      "source": [
        "df = pd.read_csv(ruta)\n",
        "df"
      ]
    },
    {
      "cell_type": "markdown",
      "metadata": {},
      "source": [
        "Se fitran los datos sin las regiones pero manteniendo el id. \n",
        "Para el analisis se toman los tres delitos, en referencia al la cantidad de poblacion de cada estado."
      ]
    },
    {
      "cell_type": "code",
      "execution_count": 4,
      "metadata": {
        "colab": {
          "base_uri": "https://localhost:8080/",
          "height": 1000
        },
        "id": "hnBp6Txio_mV",
        "outputId": "c2089214-81fb-4375-99ee-58c395cbbc8c"
      },
      "outputs": [
        {
          "data": {
            "text/html": [
              "<div>\n",
              "<style scoped>\n",
              "    .dataframe tbody tr th:only-of-type {\n",
              "        vertical-align: middle;\n",
              "    }\n",
              "\n",
              "    .dataframe tbody tr th {\n",
              "        vertical-align: top;\n",
              "    }\n",
              "\n",
              "    .dataframe thead th {\n",
              "        text-align: right;\n",
              "    }\n",
              "</style>\n",
              "<table border=\"1\" class=\"dataframe\">\n",
              "  <thead>\n",
              "    <tr style=\"text-align: right;\">\n",
              "      <th></th>\n",
              "      <th>Asesinatos</th>\n",
              "      <th>Asaltos</th>\n",
              "      <th>Poblacion Urbana</th>\n",
              "      <th>Violaciones</th>\n",
              "    </tr>\n",
              "  </thead>\n",
              "  <tbody>\n",
              "    <tr>\n",
              "      <th>0</th>\n",
              "      <td>13.2</td>\n",
              "      <td>236</td>\n",
              "      <td>58</td>\n",
              "      <td>21.2</td>\n",
              "    </tr>\n",
              "    <tr>\n",
              "      <th>1</th>\n",
              "      <td>10.0</td>\n",
              "      <td>263</td>\n",
              "      <td>48</td>\n",
              "      <td>44.5</td>\n",
              "    </tr>\n",
              "    <tr>\n",
              "      <th>2</th>\n",
              "      <td>8.1</td>\n",
              "      <td>294</td>\n",
              "      <td>80</td>\n",
              "      <td>31.0</td>\n",
              "    </tr>\n",
              "    <tr>\n",
              "      <th>3</th>\n",
              "      <td>8.8</td>\n",
              "      <td>190</td>\n",
              "      <td>50</td>\n",
              "      <td>19.5</td>\n",
              "    </tr>\n",
              "    <tr>\n",
              "      <th>4</th>\n",
              "      <td>9.0</td>\n",
              "      <td>276</td>\n",
              "      <td>91</td>\n",
              "      <td>40.6</td>\n",
              "    </tr>\n",
              "    <tr>\n",
              "      <th>5</th>\n",
              "      <td>7.9</td>\n",
              "      <td>204</td>\n",
              "      <td>78</td>\n",
              "      <td>38.7</td>\n",
              "    </tr>\n",
              "    <tr>\n",
              "      <th>6</th>\n",
              "      <td>3.3</td>\n",
              "      <td>110</td>\n",
              "      <td>77</td>\n",
              "      <td>11.1</td>\n",
              "    </tr>\n",
              "    <tr>\n",
              "      <th>7</th>\n",
              "      <td>5.9</td>\n",
              "      <td>238</td>\n",
              "      <td>72</td>\n",
              "      <td>15.8</td>\n",
              "    </tr>\n",
              "    <tr>\n",
              "      <th>8</th>\n",
              "      <td>15.4</td>\n",
              "      <td>335</td>\n",
              "      <td>80</td>\n",
              "      <td>31.9</td>\n",
              "    </tr>\n",
              "    <tr>\n",
              "      <th>9</th>\n",
              "      <td>17.4</td>\n",
              "      <td>211</td>\n",
              "      <td>60</td>\n",
              "      <td>25.8</td>\n",
              "    </tr>\n",
              "    <tr>\n",
              "      <th>10</th>\n",
              "      <td>5.3</td>\n",
              "      <td>46</td>\n",
              "      <td>83</td>\n",
              "      <td>20.2</td>\n",
              "    </tr>\n",
              "    <tr>\n",
              "      <th>11</th>\n",
              "      <td>2.6</td>\n",
              "      <td>120</td>\n",
              "      <td>54</td>\n",
              "      <td>14.2</td>\n",
              "    </tr>\n",
              "    <tr>\n",
              "      <th>12</th>\n",
              "      <td>10.4</td>\n",
              "      <td>249</td>\n",
              "      <td>83</td>\n",
              "      <td>24.0</td>\n",
              "    </tr>\n",
              "    <tr>\n",
              "      <th>13</th>\n",
              "      <td>7.2</td>\n",
              "      <td>113</td>\n",
              "      <td>65</td>\n",
              "      <td>21.0</td>\n",
              "    </tr>\n",
              "    <tr>\n",
              "      <th>14</th>\n",
              "      <td>2.2</td>\n",
              "      <td>56</td>\n",
              "      <td>57</td>\n",
              "      <td>11.3</td>\n",
              "    </tr>\n",
              "    <tr>\n",
              "      <th>15</th>\n",
              "      <td>6.0</td>\n",
              "      <td>115</td>\n",
              "      <td>66</td>\n",
              "      <td>18.0</td>\n",
              "    </tr>\n",
              "    <tr>\n",
              "      <th>16</th>\n",
              "      <td>9.7</td>\n",
              "      <td>109</td>\n",
              "      <td>52</td>\n",
              "      <td>16.3</td>\n",
              "    </tr>\n",
              "    <tr>\n",
              "      <th>17</th>\n",
              "      <td>15.4</td>\n",
              "      <td>249</td>\n",
              "      <td>66</td>\n",
              "      <td>22.2</td>\n",
              "    </tr>\n",
              "    <tr>\n",
              "      <th>18</th>\n",
              "      <td>2.1</td>\n",
              "      <td>83</td>\n",
              "      <td>51</td>\n",
              "      <td>7.8</td>\n",
              "    </tr>\n",
              "    <tr>\n",
              "      <th>19</th>\n",
              "      <td>11.3</td>\n",
              "      <td>300</td>\n",
              "      <td>67</td>\n",
              "      <td>27.8</td>\n",
              "    </tr>\n",
              "    <tr>\n",
              "      <th>20</th>\n",
              "      <td>4.4</td>\n",
              "      <td>149</td>\n",
              "      <td>85</td>\n",
              "      <td>16.3</td>\n",
              "    </tr>\n",
              "    <tr>\n",
              "      <th>21</th>\n",
              "      <td>12.1</td>\n",
              "      <td>255</td>\n",
              "      <td>74</td>\n",
              "      <td>35.1</td>\n",
              "    </tr>\n",
              "    <tr>\n",
              "      <th>22</th>\n",
              "      <td>2.7</td>\n",
              "      <td>72</td>\n",
              "      <td>66</td>\n",
              "      <td>14.9</td>\n",
              "    </tr>\n",
              "    <tr>\n",
              "      <th>23</th>\n",
              "      <td>16.1</td>\n",
              "      <td>259</td>\n",
              "      <td>44</td>\n",
              "      <td>17.1</td>\n",
              "    </tr>\n",
              "    <tr>\n",
              "      <th>24</th>\n",
              "      <td>9.0</td>\n",
              "      <td>178</td>\n",
              "      <td>70</td>\n",
              "      <td>28.2</td>\n",
              "    </tr>\n",
              "    <tr>\n",
              "      <th>25</th>\n",
              "      <td>6.0</td>\n",
              "      <td>109</td>\n",
              "      <td>53</td>\n",
              "      <td>16.4</td>\n",
              "    </tr>\n",
              "    <tr>\n",
              "      <th>26</th>\n",
              "      <td>4.3</td>\n",
              "      <td>102</td>\n",
              "      <td>62</td>\n",
              "      <td>16.5</td>\n",
              "    </tr>\n",
              "    <tr>\n",
              "      <th>27</th>\n",
              "      <td>12.2</td>\n",
              "      <td>252</td>\n",
              "      <td>81</td>\n",
              "      <td>46.0</td>\n",
              "    </tr>\n",
              "    <tr>\n",
              "      <th>28</th>\n",
              "      <td>2.1</td>\n",
              "      <td>57</td>\n",
              "      <td>56</td>\n",
              "      <td>9.5</td>\n",
              "    </tr>\n",
              "    <tr>\n",
              "      <th>29</th>\n",
              "      <td>7.4</td>\n",
              "      <td>159</td>\n",
              "      <td>89</td>\n",
              "      <td>18.8</td>\n",
              "    </tr>\n",
              "    <tr>\n",
              "      <th>30</th>\n",
              "      <td>11.4</td>\n",
              "      <td>285</td>\n",
              "      <td>70</td>\n",
              "      <td>32.1</td>\n",
              "    </tr>\n",
              "    <tr>\n",
              "      <th>31</th>\n",
              "      <td>11.1</td>\n",
              "      <td>254</td>\n",
              "      <td>86</td>\n",
              "      <td>26.1</td>\n",
              "    </tr>\n",
              "    <tr>\n",
              "      <th>32</th>\n",
              "      <td>13.0</td>\n",
              "      <td>337</td>\n",
              "      <td>45</td>\n",
              "      <td>16.1</td>\n",
              "    </tr>\n",
              "    <tr>\n",
              "      <th>33</th>\n",
              "      <td>0.8</td>\n",
              "      <td>45</td>\n",
              "      <td>44</td>\n",
              "      <td>7.3</td>\n",
              "    </tr>\n",
              "    <tr>\n",
              "      <th>34</th>\n",
              "      <td>7.3</td>\n",
              "      <td>120</td>\n",
              "      <td>75</td>\n",
              "      <td>21.4</td>\n",
              "    </tr>\n",
              "    <tr>\n",
              "      <th>35</th>\n",
              "      <td>6.6</td>\n",
              "      <td>151</td>\n",
              "      <td>68</td>\n",
              "      <td>20.0</td>\n",
              "    </tr>\n",
              "    <tr>\n",
              "      <th>36</th>\n",
              "      <td>4.9</td>\n",
              "      <td>159</td>\n",
              "      <td>67</td>\n",
              "      <td>29.3</td>\n",
              "    </tr>\n",
              "    <tr>\n",
              "      <th>37</th>\n",
              "      <td>6.3</td>\n",
              "      <td>106</td>\n",
              "      <td>72</td>\n",
              "      <td>14.9</td>\n",
              "    </tr>\n",
              "    <tr>\n",
              "      <th>38</th>\n",
              "      <td>3.4</td>\n",
              "      <td>174</td>\n",
              "      <td>87</td>\n",
              "      <td>8.3</td>\n",
              "    </tr>\n",
              "    <tr>\n",
              "      <th>39</th>\n",
              "      <td>14.4</td>\n",
              "      <td>279</td>\n",
              "      <td>48</td>\n",
              "      <td>22.5</td>\n",
              "    </tr>\n",
              "    <tr>\n",
              "      <th>40</th>\n",
              "      <td>3.8</td>\n",
              "      <td>86</td>\n",
              "      <td>45</td>\n",
              "      <td>12.8</td>\n",
              "    </tr>\n",
              "    <tr>\n",
              "      <th>41</th>\n",
              "      <td>13.2</td>\n",
              "      <td>188</td>\n",
              "      <td>59</td>\n",
              "      <td>26.9</td>\n",
              "    </tr>\n",
              "    <tr>\n",
              "      <th>42</th>\n",
              "      <td>12.7</td>\n",
              "      <td>201</td>\n",
              "      <td>80</td>\n",
              "      <td>25.5</td>\n",
              "    </tr>\n",
              "    <tr>\n",
              "      <th>43</th>\n",
              "      <td>3.2</td>\n",
              "      <td>120</td>\n",
              "      <td>80</td>\n",
              "      <td>22.9</td>\n",
              "    </tr>\n",
              "    <tr>\n",
              "      <th>44</th>\n",
              "      <td>2.2</td>\n",
              "      <td>48</td>\n",
              "      <td>32</td>\n",
              "      <td>11.2</td>\n",
              "    </tr>\n",
              "    <tr>\n",
              "      <th>45</th>\n",
              "      <td>8.5</td>\n",
              "      <td>156</td>\n",
              "      <td>63</td>\n",
              "      <td>20.7</td>\n",
              "    </tr>\n",
              "    <tr>\n",
              "      <th>46</th>\n",
              "      <td>4.0</td>\n",
              "      <td>145</td>\n",
              "      <td>73</td>\n",
              "      <td>26.2</td>\n",
              "    </tr>\n",
              "    <tr>\n",
              "      <th>47</th>\n",
              "      <td>5.7</td>\n",
              "      <td>81</td>\n",
              "      <td>39</td>\n",
              "      <td>9.3</td>\n",
              "    </tr>\n",
              "    <tr>\n",
              "      <th>48</th>\n",
              "      <td>2.6</td>\n",
              "      <td>53</td>\n",
              "      <td>66</td>\n",
              "      <td>10.8</td>\n",
              "    </tr>\n",
              "    <tr>\n",
              "      <th>49</th>\n",
              "      <td>6.8</td>\n",
              "      <td>161</td>\n",
              "      <td>60</td>\n",
              "      <td>15.6</td>\n",
              "    </tr>\n",
              "  </tbody>\n",
              "</table>\n",
              "</div>"
            ],
            "text/plain": [
              "    Asesinatos  Asaltos  Poblacion Urbana  Violaciones\n",
              "0         13.2      236                58         21.2\n",
              "1         10.0      263                48         44.5\n",
              "2          8.1      294                80         31.0\n",
              "3          8.8      190                50         19.5\n",
              "4          9.0      276                91         40.6\n",
              "5          7.9      204                78         38.7\n",
              "6          3.3      110                77         11.1\n",
              "7          5.9      238                72         15.8\n",
              "8         15.4      335                80         31.9\n",
              "9         17.4      211                60         25.8\n",
              "10         5.3       46                83         20.2\n",
              "11         2.6      120                54         14.2\n",
              "12        10.4      249                83         24.0\n",
              "13         7.2      113                65         21.0\n",
              "14         2.2       56                57         11.3\n",
              "15         6.0      115                66         18.0\n",
              "16         9.7      109                52         16.3\n",
              "17        15.4      249                66         22.2\n",
              "18         2.1       83                51          7.8\n",
              "19        11.3      300                67         27.8\n",
              "20         4.4      149                85         16.3\n",
              "21        12.1      255                74         35.1\n",
              "22         2.7       72                66         14.9\n",
              "23        16.1      259                44         17.1\n",
              "24         9.0      178                70         28.2\n",
              "25         6.0      109                53         16.4\n",
              "26         4.3      102                62         16.5\n",
              "27        12.2      252                81         46.0\n",
              "28         2.1       57                56          9.5\n",
              "29         7.4      159                89         18.8\n",
              "30        11.4      285                70         32.1\n",
              "31        11.1      254                86         26.1\n",
              "32        13.0      337                45         16.1\n",
              "33         0.8       45                44          7.3\n",
              "34         7.3      120                75         21.4\n",
              "35         6.6      151                68         20.0\n",
              "36         4.9      159                67         29.3\n",
              "37         6.3      106                72         14.9\n",
              "38         3.4      174                87          8.3\n",
              "39        14.4      279                48         22.5\n",
              "40         3.8       86                45         12.8\n",
              "41        13.2      188                59         26.9\n",
              "42        12.7      201                80         25.5\n",
              "43         3.2      120                80         22.9\n",
              "44         2.2       48                32         11.2\n",
              "45         8.5      156                63         20.7\n",
              "46         4.0      145                73         26.2\n",
              "47         5.7       81                39          9.3\n",
              "48         2.6       53                66         10.8\n",
              "49         6.8      161                60         15.6"
            ]
          },
          "execution_count": 4,
          "metadata": {},
          "output_type": "execute_result"
        }
      ],
      "source": [
        "X1=df[[\"Asesinatos\", \"Asaltos\",\t\"Poblacion Urbana\",\t\"Violaciones\"]]\n",
        "X1"
      ]
    },
    {
      "cell_type": "markdown",
      "metadata": {},
      "source": [
        "Se aplica la Funcion StandardScaler al df para que tengan media cero y desviacion estandar uno."
      ]
    },
    {
      "cell_type": "code",
      "execution_count": 5,
      "metadata": {
        "id": "SJlLdFylo_mX"
      },
      "outputs": [],
      "source": [
        "scaler = StandardScaler()\n",
        "X_scaled = scaler.fit_transform(X1)"
      ]
    },
    {
      "cell_type": "code",
      "execution_count": 6,
      "metadata": {
        "colab": {
          "base_uri": "https://localhost:8080/"
        },
        "id": "CPqscOnZo_ma",
        "outputId": "d1747784-8df4-4d2a-cc89-93e742cadca7"
      },
      "outputs": [
        {
          "data": {
            "text/plain": [
              "array([[ 1.25517927,  0.79078716, -0.52619514, -0.00345116],\n",
              "       [ 0.51301858,  1.11805959, -1.22406668,  2.50942392],\n",
              "       [ 0.07236067,  1.49381682,  1.00912225,  1.05346626],\n",
              "       [ 0.23470832,  0.23321191, -1.08449238, -0.18679398],\n",
              "       [ 0.28109336,  1.2756352 ,  1.77678094,  2.08881393],\n",
              "       [ 0.02597562,  0.40290872,  0.86954794,  1.88390137],\n",
              "       [-1.04088037, -0.73648418,  0.79976079, -1.09272319],\n",
              "       [-0.43787481,  0.81502956,  0.45082502, -0.58583422],\n",
              "       [ 1.76541475,  1.99078607,  1.00912225,  1.1505301 ],\n",
              "       [ 2.22926518,  0.48775713, -0.38662083,  0.49265293],\n",
              "       [-0.57702994, -1.51224105,  1.21848371, -0.11129987],\n",
              "       [-1.20322802, -0.61527217, -0.80534376, -0.75839217],\n",
              "       [ 0.60578867,  0.94836277,  1.21848371,  0.29852525],\n",
              "       [-0.13637203, -0.70012057, -0.03768506, -0.0250209 ],\n",
              "       [-1.29599811, -1.39102904, -0.5959823 , -1.07115345],\n",
              "       [-0.41468229, -0.67587817,  0.03210209, -0.34856705],\n",
              "       [ 0.44344101, -0.74860538, -0.94491807, -0.53190987],\n",
              "       [ 1.76541475,  0.94836277,  0.03210209,  0.10439756],\n",
              "       [-1.31919063, -1.06375661, -1.01470522, -1.44862395],\n",
              "       [ 0.81452136,  1.56654403,  0.10188925,  0.70835037],\n",
              "       [-0.78576263, -0.26375734,  1.35805802, -0.53190987],\n",
              "       [ 1.00006153,  1.02108998,  0.59039932,  1.49564599],\n",
              "       [-1.1800355 , -1.19708982,  0.03210209, -0.68289807],\n",
              "       [ 1.9277624 ,  1.06957478, -1.5032153 , -0.44563089],\n",
              "       [ 0.28109336,  0.0877575 ,  0.31125071,  0.75148985],\n",
              "       [-0.41468229, -0.74860538, -0.87513091, -0.521125  ],\n",
              "       [-0.80895515, -0.83345379, -0.24704653, -0.51034012],\n",
              "       [ 1.02325405,  0.98472638,  1.0789094 ,  2.671197  ],\n",
              "       [-1.31919063, -1.37890783, -0.66576945, -1.26528114],\n",
              "       [-0.08998698, -0.14254532,  1.63720664, -0.26228808],\n",
              "       [ 0.83771388,  1.38472601,  0.31125071,  1.17209984],\n",
              "       [ 0.76813632,  1.00896878,  1.42784517,  0.52500755],\n",
              "       [ 1.20879423,  2.01502847, -1.43342815, -0.55347961],\n",
              "       [-1.62069341, -1.52436225, -1.5032153 , -1.50254831],\n",
              "       [-0.11317951, -0.61527217,  0.66018648,  0.01811858],\n",
              "       [-0.27552716, -0.23951493,  0.1716764 , -0.13286962],\n",
              "       [-0.66980002, -0.14254532,  0.10188925,  0.87012344],\n",
              "       [-0.34510472, -0.78496898,  0.45082502, -0.68289807],\n",
              "       [-1.01768785,  0.03927269,  1.49763233, -1.39469959],\n",
              "       [ 1.53348953,  1.3119988 , -1.22406668,  0.13675217],\n",
              "       [-0.92491776, -1.027393  , -1.43342815, -0.90938037],\n",
              "       [ 1.25517927,  0.20896951, -0.45640799,  0.61128652],\n",
              "       [ 1.13921666,  0.36654512,  1.00912225,  0.46029832],\n",
              "       [-1.06407289, -0.61527217,  1.00912225,  0.17989166],\n",
              "       [-1.29599811, -1.48799864, -2.34066115, -1.08193832],\n",
              "       [ 0.16513075, -0.17890893, -0.17725937, -0.05737552],\n",
              "       [-0.87853272, -0.31224214,  0.52061217,  0.53579242],\n",
              "       [-0.48425985, -1.08799901, -1.85215107, -1.28685088],\n",
              "       [-1.20322802, -1.42739264,  0.03210209, -1.1250778 ],\n",
              "       [-0.22914211, -0.11830292, -0.38662083, -0.60740397]])"
            ]
          },
          "execution_count": 6,
          "metadata": {},
          "output_type": "execute_result"
        }
      ],
      "source": [
        "X_scaled"
      ]
    },
    {
      "cell_type": "markdown",
      "metadata": {},
      "source": [
        "Graficamos los los diferentes comportamientos a diferentes vaores de k, y por el metodo del codo se elije la relación mas eficiente, entre rendimiento y costo computacional."
      ]
    },
    {
      "cell_type": "code",
      "execution_count": 7,
      "metadata": {
        "colab": {
          "base_uri": "https://localhost:8080/",
          "height": 564
        },
        "id": "ZdX5UWdNo_mb",
        "outputId": "7afe1c15-3263-4ed2-e70d-5ab86f991261"
      },
      "outputs": [
        {
          "data": {
            "image/png": "[encoded data removed]",
            "text/plain": [
              "<Figure size 800x600 with 1 Axes>"
            ]
          },
          "metadata": {},
          "output_type": "display_data"
        }
      ],
      "source": [
        "\n",
        "wcss = []\n",
        "for i in range(1, 11):\n",
        "    kmeans = KMeans(n_clusters=i, init='k-means++', max_iter=300, n_init=10, random_state=0)\n",
        "    kmeans.fit(X_scaled)\n",
        "    wcss.append(kmeans.inertia_)\n",
        "\n",
        "# Visualiza el método del codo\n",
        "plt.figure(figsize=(8, 6))\n",
        "plt.plot(range(1, 11), wcss, marker='o', linestyle='--')\n",
        "plt.title('Método del Codo')\n",
        "plt.xlabel('Número de clusters')\n",
        "plt.ylabel('WCSS')  # Within-Cluster-Sum-of-Squares\n",
        "plt.show()"
      ]
    },
    {
      "cell_type": "markdown",
      "metadata": {},
      "source": [
        "Se elige el valor de k=3 que es donde el grafico muestra el codo.\n",
        "\n",
        "Se aplica el numero 3 de cluster el KMeans"
      ]
    },
    {
      "cell_type": "code",
      "execution_count": 8,
      "metadata": {
        "id": "4THQ1oBJo_mc"
      },
      "outputs": [],
      "source": [
        "k_optimo = 3\n",
        "\n",
        "kmeans = KMeans(n_clusters=k_optimo, init='k-means++', max_iter=300, n_init=10, random_state=0)\n",
        "df['Cluster'] = kmeans.fit_predict(X_scaled)\n"
      ]
    },
    {
      "cell_type": "markdown",
      "metadata": {},
      "source": [
        "Para encontrar automáticamente el valor de k, analizamos el codo en la curva. buscando el \"codo\" en la gráfica, que es el punto donde la disminución en WCSS disminuye significativamente y comienza a aplanarse.\n",
        "\n",
        "Automáticamente es encontrar el punto donde la segunda derivada de la curva es máxima.\n",
        "\n",
        "En este caso el k fue muy alto en un promedio de 9 se prefiere usar el elegido anteriormente (graficamente) por el costo computacional."
      ]
    },
    {
      "cell_type": "code",
      "execution_count": 9,
      "metadata": {},
      "outputs": [
        {
          "data": {
            "image/png": "[encoded data removed]",
            "text/plain": [
              "<Figure size 800x600 with 1 Axes>"
            ]
          },
          "metadata": {},
          "output_type": "display_data"
        },
        {
          "name": "stdout",
          "output_type": "stream",
          "text": [
            "El valor óptimo de k es: 9\n"
          ]
        }
      ],
      "source": [
        "from scipy.signal import find_peaks, peak_widths\n",
        "\n",
        "# Encuentra los picos en la curva\n",
        "peaks, _ = find_peaks(-np.gradient(wcss))\n",
        "# Encuentra los anchos de los picos\n",
        "widths, _, _, _ = peak_widths(-np.gradient(wcss), peaks)\n",
        "\n",
        "# Encuentra el pico más ancho, que corresponde al codo\n",
        "optimal_k_index = peaks[np.argmax(widths)]\n",
        "\n",
        "# Visualiza el método del codo con el punto óptimo\n",
        "plt.figure(figsize=(8, 6))\n",
        "plt.plot(range(1, 11), wcss, marker='o', linestyle='--')\n",
        "plt.scatter(optimal_k_index + 1, wcss[optimal_k_index], c='red', marker='x', label='Óptimo k')\n",
        "plt.title('Método del Codo')\n",
        "plt.xlabel('Número de clusters')\n",
        "plt.ylabel('WCSS')  # Within-Cluster-Sum-of-Squares\n",
        "plt.legend()\n",
        "plt.show()\n",
        "\n",
        "# Imprime el valor óptimo de k\n",
        "print(f'El valor óptimo de k es: {optimal_k_index + 1}')"
      ]
    },
    {
      "cell_type": "markdown",
      "metadata": {},
      "source": [
        "En los siguientes 3 pasos se obtienen las estadísticas descriptivas de la columnas Asesinatos, Asaltos y Violaciones, agrupandolos en cada grupo cluster de niveles segun cada caso."
      ]
    },
    {
      "cell_type": "code",
      "execution_count": 10,
      "metadata": {},
      "outputs": [
        {
          "data": {
            "text/html": [
              "<div>\n",
              "<style scoped>\n",
              "    .dataframe tbody tr th:only-of-type {\n",
              "        vertical-align: middle;\n",
              "    }\n",
              "\n",
              "    .dataframe tbody tr th {\n",
              "        vertical-align: top;\n",
              "    }\n",
              "\n",
              "    .dataframe thead th {\n",
              "        text-align: right;\n",
              "    }\n",
              "</style>\n",
              "<table border=\"1\" class=\"dataframe\">\n",
              "  <thead>\n",
              "    <tr style=\"text-align: right;\">\n",
              "      <th></th>\n",
              "      <th>count</th>\n",
              "      <th>mean</th>\n",
              "      <th>std</th>\n",
              "      <th>min</th>\n",
              "      <th>25%</th>\n",
              "      <th>50%</th>\n",
              "      <th>75%</th>\n",
              "      <th>max</th>\n",
              "    </tr>\n",
              "    <tr>\n",
              "      <th>Cluster</th>\n",
              "      <th></th>\n",
              "      <th></th>\n",
              "      <th></th>\n",
              "      <th></th>\n",
              "      <th></th>\n",
              "      <th></th>\n",
              "      <th></th>\n",
              "      <th></th>\n",
              "    </tr>\n",
              "  </thead>\n",
              "  <tbody>\n",
              "    <tr>\n",
              "      <th>0</th>\n",
              "      <td>20.0</td>\n",
              "      <td>12.165000</td>\n",
              "      <td>2.684904</td>\n",
              "      <td>7.9</td>\n",
              "      <td>10.3</td>\n",
              "      <td>12.15</td>\n",
              "      <td>13.50</td>\n",
              "      <td>17.4</td>\n",
              "    </tr>\n",
              "    <tr>\n",
              "      <th>1</th>\n",
              "      <td>16.0</td>\n",
              "      <td>5.656250</td>\n",
              "      <td>1.647207</td>\n",
              "      <td>3.2</td>\n",
              "      <td>4.3</td>\n",
              "      <td>5.95</td>\n",
              "      <td>6.90</td>\n",
              "      <td>8.5</td>\n",
              "    </tr>\n",
              "    <tr>\n",
              "      <th>2</th>\n",
              "      <td>14.0</td>\n",
              "      <td>3.971429</td>\n",
              "      <td>2.661529</td>\n",
              "      <td>0.8</td>\n",
              "      <td>2.2</td>\n",
              "      <td>2.65</td>\n",
              "      <td>5.35</td>\n",
              "      <td>9.7</td>\n",
              "    </tr>\n",
              "  </tbody>\n",
              "</table>\n",
              "</div>"
            ],
            "text/plain": [
              "         count       mean       std  min   25%    50%    75%   max\n",
              "Cluster                                                           \n",
              "0         20.0  12.165000  2.684904  7.9  10.3  12.15  13.50  17.4\n",
              "1         16.0   5.656250  1.647207  3.2   4.3   5.95   6.90   8.5\n",
              "2         14.0   3.971429  2.661529  0.8   2.2   2.65   5.35   9.7"
            ]
          },
          "execution_count": 10,
          "metadata": {},
          "output_type": "execute_result"
        }
      ],
      "source": [
        "cluster_asen = df.groupby('Cluster')['Asesinatos'].describe()\n",
        "cluster_asen"
      ]
    },
    {
      "cell_type": "code",
      "execution_count": 11,
      "metadata": {},
      "outputs": [
        {
          "data": {
            "text/html": [
              "<div>\n",
              "<style scoped>\n",
              "    .dataframe tbody tr th:only-of-type {\n",
              "        vertical-align: middle;\n",
              "    }\n",
              "\n",
              "    .dataframe tbody tr th {\n",
              "        vertical-align: top;\n",
              "    }\n",
              "\n",
              "    .dataframe thead th {\n",
              "        text-align: right;\n",
              "    }\n",
              "</style>\n",
              "<table border=\"1\" class=\"dataframe\">\n",
              "  <thead>\n",
              "    <tr style=\"text-align: right;\">\n",
              "      <th></th>\n",
              "      <th>count</th>\n",
              "      <th>mean</th>\n",
              "      <th>std</th>\n",
              "      <th>min</th>\n",
              "      <th>25%</th>\n",
              "      <th>50%</th>\n",
              "      <th>75%</th>\n",
              "      <th>max</th>\n",
              "    </tr>\n",
              "    <tr>\n",
              "      <th>Cluster</th>\n",
              "      <th></th>\n",
              "      <th></th>\n",
              "      <th></th>\n",
              "      <th></th>\n",
              "      <th></th>\n",
              "      <th></th>\n",
              "      <th></th>\n",
              "      <th></th>\n",
              "    </tr>\n",
              "  </thead>\n",
              "  <tbody>\n",
              "    <tr>\n",
              "      <th>0</th>\n",
              "      <td>20.0</td>\n",
              "      <td>255.250</td>\n",
              "      <td>44.116920</td>\n",
              "      <td>178.0</td>\n",
              "      <td>229.75</td>\n",
              "      <td>254.5</td>\n",
              "      <td>280.50</td>\n",
              "      <td>337.0</td>\n",
              "    </tr>\n",
              "    <tr>\n",
              "      <th>1</th>\n",
              "      <td>16.0</td>\n",
              "      <td>138.875</td>\n",
              "      <td>41.175842</td>\n",
              "      <td>46.0</td>\n",
              "      <td>114.50</td>\n",
              "      <td>147.0</td>\n",
              "      <td>159.00</td>\n",
              "      <td>238.0</td>\n",
              "    </tr>\n",
              "    <tr>\n",
              "      <th>2</th>\n",
              "      <td>14.0</td>\n",
              "      <td>86.500</td>\n",
              "      <td>38.697545</td>\n",
              "      <td>45.0</td>\n",
              "      <td>56.25</td>\n",
              "      <td>82.0</td>\n",
              "      <td>107.25</td>\n",
              "      <td>190.0</td>\n",
              "    </tr>\n",
              "  </tbody>\n",
              "</table>\n",
              "</div>"
            ],
            "text/plain": [
              "         count     mean        std    min     25%    50%     75%    max\n",
              "Cluster                                                                \n",
              "0         20.0  255.250  44.116920  178.0  229.75  254.5  280.50  337.0\n",
              "1         16.0  138.875  41.175842   46.0  114.50  147.0  159.00  238.0\n",
              "2         14.0   86.500  38.697545   45.0   56.25   82.0  107.25  190.0"
            ]
          },
          "execution_count": 11,
          "metadata": {},
          "output_type": "execute_result"
        }
      ],
      "source": [
        "cluster_asal = df.groupby('Cluster')['Asaltos'].describe()\n",
        "cluster_asal"
      ]
    },
    {
      "cell_type": "code",
      "execution_count": 12,
      "metadata": {},
      "outputs": [
        {
          "data": {
            "text/html": [
              "<div>\n",
              "<style scoped>\n",
              "    .dataframe tbody tr th:only-of-type {\n",
              "        vertical-align: middle;\n",
              "    }\n",
              "\n",
              "    .dataframe tbody tr th {\n",
              "        vertical-align: top;\n",
              "    }\n",
              "\n",
              "    .dataframe thead th {\n",
              "        text-align: right;\n",
              "    }\n",
              "</style>\n",
              "<table border=\"1\" class=\"dataframe\">\n",
              "  <thead>\n",
              "    <tr style=\"text-align: right;\">\n",
              "      <th></th>\n",
              "      <th>count</th>\n",
              "      <th>mean</th>\n",
              "      <th>std</th>\n",
              "      <th>min</th>\n",
              "      <th>25%</th>\n",
              "      <th>50%</th>\n",
              "      <th>75%</th>\n",
              "      <th>max</th>\n",
              "    </tr>\n",
              "    <tr>\n",
              "      <th>Cluster</th>\n",
              "      <th></th>\n",
              "      <th></th>\n",
              "      <th></th>\n",
              "      <th></th>\n",
              "      <th></th>\n",
              "      <th></th>\n",
              "      <th></th>\n",
              "      <th></th>\n",
              "    </tr>\n",
              "  </thead>\n",
              "  <tbody>\n",
              "    <tr>\n",
              "      <th>0</th>\n",
              "      <td>20.0</td>\n",
              "      <td>29.16500</td>\n",
              "      <td>8.386473</td>\n",
              "      <td>16.1</td>\n",
              "      <td>23.625</td>\n",
              "      <td>27.35</td>\n",
              "      <td>32.85</td>\n",
              "      <td>46.0</td>\n",
              "    </tr>\n",
              "    <tr>\n",
              "      <th>1</th>\n",
              "      <td>16.0</td>\n",
              "      <td>18.78125</td>\n",
              "      <td>5.236439</td>\n",
              "      <td>8.3</td>\n",
              "      <td>15.750</td>\n",
              "      <td>19.40</td>\n",
              "      <td>21.10</td>\n",
              "      <td>29.3</td>\n",
              "    </tr>\n",
              "    <tr>\n",
              "      <th>2</th>\n",
              "      <td>14.0</td>\n",
              "      <td>12.70000</td>\n",
              "      <td>3.692196</td>\n",
              "      <td>7.3</td>\n",
              "      <td>9.825</td>\n",
              "      <td>12.05</td>\n",
              "      <td>15.95</td>\n",
              "      <td>19.5</td>\n",
              "    </tr>\n",
              "  </tbody>\n",
              "</table>\n",
              "</div>"
            ],
            "text/plain": [
              "         count      mean       std   min     25%    50%    75%   max\n",
              "Cluster                                                             \n",
              "0         20.0  29.16500  8.386473  16.1  23.625  27.35  32.85  46.0\n",
              "1         16.0  18.78125  5.236439   8.3  15.750  19.40  21.10  29.3\n",
              "2         14.0  12.70000  3.692196   7.3   9.825  12.05  15.95  19.5"
            ]
          },
          "execution_count": 12,
          "metadata": {},
          "output_type": "execute_result"
        }
      ],
      "source": [
        "cluster_viol= df.groupby('Cluster')['Violaciones'].describe()\n",
        "cluster_viol.loc[0,\"mean\"]\n",
        "cluster_viol"
      ]
    },
    {
      "cell_type": "code",
      "execution_count": 13,
      "metadata": {},
      "outputs": [
        {
          "data": {
            "text/html": [
              "<div>\n",
              "<style scoped>\n",
              "    .dataframe tbody tr th:only-of-type {\n",
              "        vertical-align: middle;\n",
              "    }\n",
              "\n",
              "    .dataframe tbody tr th {\n",
              "        vertical-align: top;\n",
              "    }\n",
              "\n",
              "    .dataframe thead th {\n",
              "        text-align: right;\n",
              "    }\n",
              "</style>\n",
              "<table border=\"1\" class=\"dataframe\">\n",
              "  <thead>\n",
              "    <tr style=\"text-align: right;\">\n",
              "      <th></th>\n",
              "      <th>count</th>\n",
              "      <th>mean</th>\n",
              "      <th>std</th>\n",
              "      <th>min</th>\n",
              "      <th>25%</th>\n",
              "      <th>50%</th>\n",
              "      <th>75%</th>\n",
              "      <th>max</th>\n",
              "    </tr>\n",
              "    <tr>\n",
              "      <th>Cluster</th>\n",
              "      <th></th>\n",
              "      <th></th>\n",
              "      <th></th>\n",
              "      <th></th>\n",
              "      <th></th>\n",
              "      <th></th>\n",
              "      <th></th>\n",
              "      <th></th>\n",
              "    </tr>\n",
              "  </thead>\n",
              "  <tbody>\n",
              "    <tr>\n",
              "      <th>0</th>\n",
              "      <td>60.0</td>\n",
              "      <td>296.580000</td>\n",
              "      <td>55.188297</td>\n",
              "      <td>202.0</td>\n",
              "      <td>263.675</td>\n",
              "      <td>294.00</td>\n",
              "      <td>326.85</td>\n",
              "      <td>400.4</td>\n",
              "    </tr>\n",
              "    <tr>\n",
              "      <th>1</th>\n",
              "      <td>48.0</td>\n",
              "      <td>163.312500</td>\n",
              "      <td>48.059488</td>\n",
              "      <td>57.5</td>\n",
              "      <td>134.550</td>\n",
              "      <td>172.35</td>\n",
              "      <td>187.00</td>\n",
              "      <td>275.8</td>\n",
              "    </tr>\n",
              "    <tr>\n",
              "      <th>2</th>\n",
              "      <td>42.0</td>\n",
              "      <td>103.171429</td>\n",
              "      <td>45.051270</td>\n",
              "      <td>53.1</td>\n",
              "      <td>68.275</td>\n",
              "      <td>96.70</td>\n",
              "      <td>128.55</td>\n",
              "      <td>219.2</td>\n",
              "    </tr>\n",
              "  </tbody>\n",
              "</table>\n",
              "</div>"
            ],
            "text/plain": [
              "         count        mean        std    min      25%     50%     75%    max\n",
              "Cluster                                                                     \n",
              "0         60.0  296.580000  55.188297  202.0  263.675  294.00  326.85  400.4\n",
              "1         48.0  163.312500  48.059488   57.5  134.550  172.35  187.00  275.8\n",
              "2         42.0  103.171429  45.051270   53.1   68.275   96.70  128.55  219.2"
            ]
          },
          "execution_count": 13,
          "metadata": {},
          "output_type": "execute_result"
        }
      ],
      "source": [
        "sumacluster=cluster_viol+cluster_asal+cluster_asen\n",
        "sumacluster"
      ]
    },
    {
      "cell_type": "markdown",
      "metadata": {},
      "source": [
        "Graficamos cada nivel de cluster en el caso de Asesinatos.  clasificando los niveles de peligrosidad por colores de mayor a menor ( rojo-amarillo-verde)"
      ]
    },
    {
      "cell_type": "code",
      "execution_count": 56,
      "metadata": {},
      "outputs": [
        {
          "data": {
            "image/png": "[encoded data removed]",
            "text/plain": [
              "<Figure size 660.361x600 with 1 Axes>"
            ]
          },
          "metadata": {},
          "output_type": "display_data"
        }
      ],
      "source": [
        "\n",
        "g = sns.catplot(\n",
        "    data=df, kind=\"bar\",\n",
        "    x=\"Cluster\", y=\"Asesinatos\", hue=\"Cluster\",\n",
        "    errorbar=\"sd\", palette=[\"red\", \"yellow\", \"green\"], alpha=.6, height=6\n",
        ")\n",
        "g.despine(left=True)\n",
        "g.set_axis_labels(\"clusters\", \"Crimenes\")\n",
        "g.legend.set_title(\"clusters\")"
      ]
    },
    {
      "cell_type": "markdown",
      "metadata": {},
      "source": [
        "Cada grupo tendra un valor numerico diferente de cluster, para igualar conceptos generamos una columna con tres datos referentes a los cluster, ('alta','medio','bajo'), de esta manera en cada df tendremos la referencia que corresponde de igual modo en todos los graficos."
      ]
    },
    {
      "cell_type": "code",
      "execution_count": 15,
      "metadata": {},
      "outputs": [
        {
          "name": "stdout",
          "output_type": "stream",
          "text": [
            "Grupo con los mayores valores: 0\n",
            "Grupo con los valores medios: 1\n",
            "Grupo con los más bajos valores: 2\n"
          ]
        }
      ],
      "source": [
        "# Encuentra el grupo con los mayores valores de Y\n",
        "grupo_max = sumacluster[sumacluster['mean'] == sumacluster['mean'].max()].index[0]\n",
        "\n",
        "# Encuentra el grupo con los valores medios de Y\n",
        "grupo_medio = sumacluster[sumacluster['mean'] == sumacluster['mean'].median()].index[0]\n",
        "\n",
        "# Encuentra el grupo con los más bajos valores de Y\n",
        "grupo_min = sumacluster[sumacluster['mean'] == sumacluster['mean'].min()].index[0]\n",
        "\n",
        "# resultados\n",
        "print(f\"Grupo con los mayores valores: {grupo_max}\")\n",
        "print(f\"Grupo con los valores medios: {grupo_medio}\")\n",
        "print(f\"Grupo con los más bajos valores: {grupo_min}\")\n",
        "\n",
        "df['Categoria'] = df['Cluster'].apply(lambda x: 'bajo' if x == grupo_min else (\"alta\" if x==grupo_max else \"medio\" ))"
      ]
    },
    {
      "cell_type": "markdown",
      "metadata": {},
      "source": [
        "En el campo \"Categoria\" esta plasmada la categorización del nivel de crimenes por estado en funcion de todos ellos y la Población Urbana."
      ]
    },
    {
      "cell_type": "code",
      "execution_count": 16,
      "metadata": {
        "colab": {
          "base_uri": "https://localhost:8080/",
          "height": 1000
        },
        "id": "MjTjTtXdo_md",
        "outputId": "5a366c00-49d8-4ad2-bafd-403f1e1cb7ae"
      },
      "outputs": [
        {
          "data": {
            "text/html": [
              "<div>\n",
              "<style scoped>\n",
              "    .dataframe tbody tr th:only-of-type {\n",
              "        vertical-align: middle;\n",
              "    }\n",
              "\n",
              "    .dataframe tbody tr th {\n",
              "        vertical-align: top;\n",
              "    }\n",
              "\n",
              "    .dataframe thead th {\n",
              "        text-align: right;\n",
              "    }\n",
              "</style>\n",
              "<table border=\"1\" class=\"dataframe\">\n",
              "  <thead>\n",
              "    <tr style=\"text-align: right;\">\n",
              "      <th></th>\n",
              "      <th>Estado</th>\n",
              "      <th>Asesinatos</th>\n",
              "      <th>Asaltos</th>\n",
              "      <th>Poblacion Urbana</th>\n",
              "      <th>Violaciones</th>\n",
              "      <th>Cluster</th>\n",
              "      <th>Categoria</th>\n",
              "    </tr>\n",
              "  </thead>\n",
              "  <tbody>\n",
              "    <tr>\n",
              "      <th>0</th>\n",
              "      <td>Alabama</td>\n",
              "      <td>13.2</td>\n",
              "      <td>236</td>\n",
              "      <td>58</td>\n",
              "      <td>21.2</td>\n",
              "      <td>0</td>\n",
              "      <td>alta</td>\n",
              "    </tr>\n",
              "    <tr>\n",
              "      <th>1</th>\n",
              "      <td>Alaska</td>\n",
              "      <td>10.0</td>\n",
              "      <td>263</td>\n",
              "      <td>48</td>\n",
              "      <td>44.5</td>\n",
              "      <td>0</td>\n",
              "      <td>alta</td>\n",
              "    </tr>\n",
              "    <tr>\n",
              "      <th>2</th>\n",
              "      <td>Arizona</td>\n",
              "      <td>8.1</td>\n",
              "      <td>294</td>\n",
              "      <td>80</td>\n",
              "      <td>31.0</td>\n",
              "      <td>0</td>\n",
              "      <td>alta</td>\n",
              "    </tr>\n",
              "    <tr>\n",
              "      <th>3</th>\n",
              "      <td>Arkansas</td>\n",
              "      <td>8.8</td>\n",
              "      <td>190</td>\n",
              "      <td>50</td>\n",
              "      <td>19.5</td>\n",
              "      <td>2</td>\n",
              "      <td>bajo</td>\n",
              "    </tr>\n",
              "    <tr>\n",
              "      <th>4</th>\n",
              "      <td>California</td>\n",
              "      <td>9.0</td>\n",
              "      <td>276</td>\n",
              "      <td>91</td>\n",
              "      <td>40.6</td>\n",
              "      <td>0</td>\n",
              "      <td>alta</td>\n",
              "    </tr>\n",
              "    <tr>\n",
              "      <th>5</th>\n",
              "      <td>Colorado</td>\n",
              "      <td>7.9</td>\n",
              "      <td>204</td>\n",
              "      <td>78</td>\n",
              "      <td>38.7</td>\n",
              "      <td>0</td>\n",
              "      <td>alta</td>\n",
              "    </tr>\n",
              "    <tr>\n",
              "      <th>6</th>\n",
              "      <td>Connecticut</td>\n",
              "      <td>3.3</td>\n",
              "      <td>110</td>\n",
              "      <td>77</td>\n",
              "      <td>11.1</td>\n",
              "      <td>1</td>\n",
              "      <td>medio</td>\n",
              "    </tr>\n",
              "    <tr>\n",
              "      <th>7</th>\n",
              "      <td>Delaware</td>\n",
              "      <td>5.9</td>\n",
              "      <td>238</td>\n",
              "      <td>72</td>\n",
              "      <td>15.8</td>\n",
              "      <td>1</td>\n",
              "      <td>medio</td>\n",
              "    </tr>\n",
              "    <tr>\n",
              "      <th>8</th>\n",
              "      <td>Florida</td>\n",
              "      <td>15.4</td>\n",
              "      <td>335</td>\n",
              "      <td>80</td>\n",
              "      <td>31.9</td>\n",
              "      <td>0</td>\n",
              "      <td>alta</td>\n",
              "    </tr>\n",
              "    <tr>\n",
              "      <th>9</th>\n",
              "      <td>Georgia</td>\n",
              "      <td>17.4</td>\n",
              "      <td>211</td>\n",
              "      <td>60</td>\n",
              "      <td>25.8</td>\n",
              "      <td>0</td>\n",
              "      <td>alta</td>\n",
              "    </tr>\n",
              "    <tr>\n",
              "      <th>10</th>\n",
              "      <td>Hawaii</td>\n",
              "      <td>5.3</td>\n",
              "      <td>46</td>\n",
              "      <td>83</td>\n",
              "      <td>20.2</td>\n",
              "      <td>1</td>\n",
              "      <td>medio</td>\n",
              "    </tr>\n",
              "    <tr>\n",
              "      <th>11</th>\n",
              "      <td>Idaho</td>\n",
              "      <td>2.6</td>\n",
              "      <td>120</td>\n",
              "      <td>54</td>\n",
              "      <td>14.2</td>\n",
              "      <td>2</td>\n",
              "      <td>bajo</td>\n",
              "    </tr>\n",
              "    <tr>\n",
              "      <th>12</th>\n",
              "      <td>Illinois</td>\n",
              "      <td>10.4</td>\n",
              "      <td>249</td>\n",
              "      <td>83</td>\n",
              "      <td>24.0</td>\n",
              "      <td>0</td>\n",
              "      <td>alta</td>\n",
              "    </tr>\n",
              "    <tr>\n",
              "      <th>13</th>\n",
              "      <td>Indiana</td>\n",
              "      <td>7.2</td>\n",
              "      <td>113</td>\n",
              "      <td>65</td>\n",
              "      <td>21.0</td>\n",
              "      <td>1</td>\n",
              "      <td>medio</td>\n",
              "    </tr>\n",
              "    <tr>\n",
              "      <th>14</th>\n",
              "      <td>Iowa</td>\n",
              "      <td>2.2</td>\n",
              "      <td>56</td>\n",
              "      <td>57</td>\n",
              "      <td>11.3</td>\n",
              "      <td>2</td>\n",
              "      <td>bajo</td>\n",
              "    </tr>\n",
              "    <tr>\n",
              "      <th>15</th>\n",
              "      <td>Kansas</td>\n",
              "      <td>6.0</td>\n",
              "      <td>115</td>\n",
              "      <td>66</td>\n",
              "      <td>18.0</td>\n",
              "      <td>1</td>\n",
              "      <td>medio</td>\n",
              "    </tr>\n",
              "    <tr>\n",
              "      <th>16</th>\n",
              "      <td>Kentucky</td>\n",
              "      <td>9.7</td>\n",
              "      <td>109</td>\n",
              "      <td>52</td>\n",
              "      <td>16.3</td>\n",
              "      <td>2</td>\n",
              "      <td>bajo</td>\n",
              "    </tr>\n",
              "    <tr>\n",
              "      <th>17</th>\n",
              "      <td>Louisiana</td>\n",
              "      <td>15.4</td>\n",
              "      <td>249</td>\n",
              "      <td>66</td>\n",
              "      <td>22.2</td>\n",
              "      <td>0</td>\n",
              "      <td>alta</td>\n",
              "    </tr>\n",
              "    <tr>\n",
              "      <th>18</th>\n",
              "      <td>Maine</td>\n",
              "      <td>2.1</td>\n",
              "      <td>83</td>\n",
              "      <td>51</td>\n",
              "      <td>7.8</td>\n",
              "      <td>2</td>\n",
              "      <td>bajo</td>\n",
              "    </tr>\n",
              "    <tr>\n",
              "      <th>19</th>\n",
              "      <td>Maryland</td>\n",
              "      <td>11.3</td>\n",
              "      <td>300</td>\n",
              "      <td>67</td>\n",
              "      <td>27.8</td>\n",
              "      <td>0</td>\n",
              "      <td>alta</td>\n",
              "    </tr>\n",
              "    <tr>\n",
              "      <th>20</th>\n",
              "      <td>Massachusetts</td>\n",
              "      <td>4.4</td>\n",
              "      <td>149</td>\n",
              "      <td>85</td>\n",
              "      <td>16.3</td>\n",
              "      <td>1</td>\n",
              "      <td>medio</td>\n",
              "    </tr>\n",
              "    <tr>\n",
              "      <th>21</th>\n",
              "      <td>Michigan</td>\n",
              "      <td>12.1</td>\n",
              "      <td>255</td>\n",
              "      <td>74</td>\n",
              "      <td>35.1</td>\n",
              "      <td>0</td>\n",
              "      <td>alta</td>\n",
              "    </tr>\n",
              "    <tr>\n",
              "      <th>22</th>\n",
              "      <td>Minnesota</td>\n",
              "      <td>2.7</td>\n",
              "      <td>72</td>\n",
              "      <td>66</td>\n",
              "      <td>14.9</td>\n",
              "      <td>2</td>\n",
              "      <td>bajo</td>\n",
              "    </tr>\n",
              "    <tr>\n",
              "      <th>23</th>\n",
              "      <td>Mississippi</td>\n",
              "      <td>16.1</td>\n",
              "      <td>259</td>\n",
              "      <td>44</td>\n",
              "      <td>17.1</td>\n",
              "      <td>0</td>\n",
              "      <td>alta</td>\n",
              "    </tr>\n",
              "    <tr>\n",
              "      <th>24</th>\n",
              "      <td>Missouri</td>\n",
              "      <td>9.0</td>\n",
              "      <td>178</td>\n",
              "      <td>70</td>\n",
              "      <td>28.2</td>\n",
              "      <td>0</td>\n",
              "      <td>alta</td>\n",
              "    </tr>\n",
              "    <tr>\n",
              "      <th>25</th>\n",
              "      <td>Montana</td>\n",
              "      <td>6.0</td>\n",
              "      <td>109</td>\n",
              "      <td>53</td>\n",
              "      <td>16.4</td>\n",
              "      <td>2</td>\n",
              "      <td>bajo</td>\n",
              "    </tr>\n",
              "    <tr>\n",
              "      <th>26</th>\n",
              "      <td>Nebraska</td>\n",
              "      <td>4.3</td>\n",
              "      <td>102</td>\n",
              "      <td>62</td>\n",
              "      <td>16.5</td>\n",
              "      <td>2</td>\n",
              "      <td>bajo</td>\n",
              "    </tr>\n",
              "    <tr>\n",
              "      <th>27</th>\n",
              "      <td>Nevada</td>\n",
              "      <td>12.2</td>\n",
              "      <td>252</td>\n",
              "      <td>81</td>\n",
              "      <td>46.0</td>\n",
              "      <td>0</td>\n",
              "      <td>alta</td>\n",
              "    </tr>\n",
              "    <tr>\n",
              "      <th>28</th>\n",
              "      <td>New Hampshire</td>\n",
              "      <td>2.1</td>\n",
              "      <td>57</td>\n",
              "      <td>56</td>\n",
              "      <td>9.5</td>\n",
              "      <td>2</td>\n",
              "      <td>bajo</td>\n",
              "    </tr>\n",
              "    <tr>\n",
              "      <th>29</th>\n",
              "      <td>New Jersey</td>\n",
              "      <td>7.4</td>\n",
              "      <td>159</td>\n",
              "      <td>89</td>\n",
              "      <td>18.8</td>\n",
              "      <td>1</td>\n",
              "      <td>medio</td>\n",
              "    </tr>\n",
              "    <tr>\n",
              "      <th>30</th>\n",
              "      <td>New Mexico</td>\n",
              "      <td>11.4</td>\n",
              "      <td>285</td>\n",
              "      <td>70</td>\n",
              "      <td>32.1</td>\n",
              "      <td>0</td>\n",
              "      <td>alta</td>\n",
              "    </tr>\n",
              "    <tr>\n",
              "      <th>31</th>\n",
              "      <td>New York</td>\n",
              "      <td>11.1</td>\n",
              "      <td>254</td>\n",
              "      <td>86</td>\n",
              "      <td>26.1</td>\n",
              "      <td>0</td>\n",
              "      <td>alta</td>\n",
              "    </tr>\n",
              "    <tr>\n",
              "      <th>32</th>\n",
              "      <td>North Carolina</td>\n",
              "      <td>13.0</td>\n",
              "      <td>337</td>\n",
              "      <td>45</td>\n",
              "      <td>16.1</td>\n",
              "      <td>0</td>\n",
              "      <td>alta</td>\n",
              "    </tr>\n",
              "    <tr>\n",
              "      <th>33</th>\n",
              "      <td>North Dakota</td>\n",
              "      <td>0.8</td>\n",
              "      <td>45</td>\n",
              "      <td>44</td>\n",
              "      <td>7.3</td>\n",
              "      <td>2</td>\n",
              "      <td>bajo</td>\n",
              "    </tr>\n",
              "    <tr>\n",
              "      <th>34</th>\n",
              "      <td>Ohio</td>\n",
              "      <td>7.3</td>\n",
              "      <td>120</td>\n",
              "      <td>75</td>\n",
              "      <td>21.4</td>\n",
              "      <td>1</td>\n",
              "      <td>medio</td>\n",
              "    </tr>\n",
              "    <tr>\n",
              "      <th>35</th>\n",
              "      <td>Oklahoma</td>\n",
              "      <td>6.6</td>\n",
              "      <td>151</td>\n",
              "      <td>68</td>\n",
              "      <td>20.0</td>\n",
              "      <td>1</td>\n",
              "      <td>medio</td>\n",
              "    </tr>\n",
              "    <tr>\n",
              "      <th>36</th>\n",
              "      <td>Oregon</td>\n",
              "      <td>4.9</td>\n",
              "      <td>159</td>\n",
              "      <td>67</td>\n",
              "      <td>29.3</td>\n",
              "      <td>1</td>\n",
              "      <td>medio</td>\n",
              "    </tr>\n",
              "    <tr>\n",
              "      <th>37</th>\n",
              "      <td>Pennsylvania</td>\n",
              "      <td>6.3</td>\n",
              "      <td>106</td>\n",
              "      <td>72</td>\n",
              "      <td>14.9</td>\n",
              "      <td>1</td>\n",
              "      <td>medio</td>\n",
              "    </tr>\n",
              "    <tr>\n",
              "      <th>38</th>\n",
              "      <td>Rhode Island</td>\n",
              "      <td>3.4</td>\n",
              "      <td>174</td>\n",
              "      <td>87</td>\n",
              "      <td>8.3</td>\n",
              "      <td>1</td>\n",
              "      <td>medio</td>\n",
              "    </tr>\n",
              "    <tr>\n",
              "      <th>39</th>\n",
              "      <td>South Carolina</td>\n",
              "      <td>14.4</td>\n",
              "      <td>279</td>\n",
              "      <td>48</td>\n",
              "      <td>22.5</td>\n",
              "      <td>0</td>\n",
              "      <td>alta</td>\n",
              "    </tr>\n",
              "    <tr>\n",
              "      <th>40</th>\n",
              "      <td>South Dakota</td>\n",
              "      <td>3.8</td>\n",
              "      <td>86</td>\n",
              "      <td>45</td>\n",
              "      <td>12.8</td>\n",
              "      <td>2</td>\n",
              "      <td>bajo</td>\n",
              "    </tr>\n",
              "    <tr>\n",
              "      <th>41</th>\n",
              "      <td>Tennessee</td>\n",
              "      <td>13.2</td>\n",
              "      <td>188</td>\n",
              "      <td>59</td>\n",
              "      <td>26.9</td>\n",
              "      <td>0</td>\n",
              "      <td>alta</td>\n",
              "    </tr>\n",
              "    <tr>\n",
              "      <th>42</th>\n",
              "      <td>Texas</td>\n",
              "      <td>12.7</td>\n",
              "      <td>201</td>\n",
              "      <td>80</td>\n",
              "      <td>25.5</td>\n",
              "      <td>0</td>\n",
              "      <td>alta</td>\n",
              "    </tr>\n",
              "    <tr>\n",
              "      <th>43</th>\n",
              "      <td>Utah</td>\n",
              "      <td>3.2</td>\n",
              "      <td>120</td>\n",
              "      <td>80</td>\n",
              "      <td>22.9</td>\n",
              "      <td>1</td>\n",
              "      <td>medio</td>\n",
              "    </tr>\n",
              "    <tr>\n",
              "      <th>44</th>\n",
              "      <td>Vermont</td>\n",
              "      <td>2.2</td>\n",
              "      <td>48</td>\n",
              "      <td>32</td>\n",
              "      <td>11.2</td>\n",
              "      <td>2</td>\n",
              "      <td>bajo</td>\n",
              "    </tr>\n",
              "    <tr>\n",
              "      <th>45</th>\n",
              "      <td>Virginia</td>\n",
              "      <td>8.5</td>\n",
              "      <td>156</td>\n",
              "      <td>63</td>\n",
              "      <td>20.7</td>\n",
              "      <td>1</td>\n",
              "      <td>medio</td>\n",
              "    </tr>\n",
              "    <tr>\n",
              "      <th>46</th>\n",
              "      <td>Washington</td>\n",
              "      <td>4.0</td>\n",
              "      <td>145</td>\n",
              "      <td>73</td>\n",
              "      <td>26.2</td>\n",
              "      <td>1</td>\n",
              "      <td>medio</td>\n",
              "    </tr>\n",
              "    <tr>\n",
              "      <th>47</th>\n",
              "      <td>West Virginia</td>\n",
              "      <td>5.7</td>\n",
              "      <td>81</td>\n",
              "      <td>39</td>\n",
              "      <td>9.3</td>\n",
              "      <td>2</td>\n",
              "      <td>bajo</td>\n",
              "    </tr>\n",
              "    <tr>\n",
              "      <th>48</th>\n",
              "      <td>Wisconsin</td>\n",
              "      <td>2.6</td>\n",
              "      <td>53</td>\n",
              "      <td>66</td>\n",
              "      <td>10.8</td>\n",
              "      <td>2</td>\n",
              "      <td>bajo</td>\n",
              "    </tr>\n",
              "    <tr>\n",
              "      <th>49</th>\n",
              "      <td>Wyoming</td>\n",
              "      <td>6.8</td>\n",
              "      <td>161</td>\n",
              "      <td>60</td>\n",
              "      <td>15.6</td>\n",
              "      <td>1</td>\n",
              "      <td>medio</td>\n",
              "    </tr>\n",
              "  </tbody>\n",
              "</table>\n",
              "</div>"
            ],
            "text/plain": [
              "            Estado  Asesinatos  Asaltos  Poblacion Urbana  Violaciones  \\\n",
              "0          Alabama        13.2      236                58         21.2   \n",
              "1           Alaska        10.0      263                48         44.5   \n",
              "2          Arizona         8.1      294                80         31.0   \n",
              "3         Arkansas         8.8      190                50         19.5   \n",
              "4       California         9.0      276                91         40.6   \n",
              "5         Colorado         7.9      204                78         38.7   \n",
              "6      Connecticut         3.3      110                77         11.1   \n",
              "7         Delaware         5.9      238                72         15.8   \n",
              "8          Florida        15.4      335                80         31.9   \n",
              "9          Georgia        17.4      211                60         25.8   \n",
              "10          Hawaii         5.3       46                83         20.2   \n",
              "11           Idaho         2.6      120                54         14.2   \n",
              "12        Illinois        10.4      249                83         24.0   \n",
              "13         Indiana         7.2      113                65         21.0   \n",
              "14            Iowa         2.2       56                57         11.3   \n",
              "15          Kansas         6.0      115                66         18.0   \n",
              "16        Kentucky         9.7      109                52         16.3   \n",
              "17       Louisiana        15.4      249                66         22.2   \n",
              "18           Maine         2.1       83                51          7.8   \n",
              "19        Maryland        11.3      300                67         27.8   \n",
              "20   Massachusetts         4.4      149                85         16.3   \n",
              "21        Michigan        12.1      255                74         35.1   \n",
              "22       Minnesota         2.7       72                66         14.9   \n",
              "23     Mississippi        16.1      259                44         17.1   \n",
              "24        Missouri         9.0      178                70         28.2   \n",
              "25         Montana         6.0      109                53         16.4   \n",
              "26        Nebraska         4.3      102                62         16.5   \n",
              "27          Nevada        12.2      252                81         46.0   \n",
              "28   New Hampshire         2.1       57                56          9.5   \n",
              "29      New Jersey         7.4      159                89         18.8   \n",
              "30      New Mexico        11.4      285                70         32.1   \n",
              "31        New York        11.1      254                86         26.1   \n",
              "32  North Carolina        13.0      337                45         16.1   \n",
              "33    North Dakota         0.8       45                44          7.3   \n",
              "34            Ohio         7.3      120                75         21.4   \n",
              "35        Oklahoma         6.6      151                68         20.0   \n",
              "36          Oregon         4.9      159                67         29.3   \n",
              "37    Pennsylvania         6.3      106                72         14.9   \n",
              "38    Rhode Island         3.4      174                87          8.3   \n",
              "39  South Carolina        14.4      279                48         22.5   \n",
              "40    South Dakota         3.8       86                45         12.8   \n",
              "41       Tennessee        13.2      188                59         26.9   \n",
              "42           Texas        12.7      201                80         25.5   \n",
              "43            Utah         3.2      120                80         22.9   \n",
              "44         Vermont         2.2       48                32         11.2   \n",
              "45        Virginia         8.5      156                63         20.7   \n",
              "46      Washington         4.0      145                73         26.2   \n",
              "47   West Virginia         5.7       81                39          9.3   \n",
              "48       Wisconsin         2.6       53                66         10.8   \n",
              "49         Wyoming         6.8      161                60         15.6   \n",
              "\n",
              "    Cluster Categoria  \n",
              "0         0      alta  \n",
              "1         0      alta  \n",
              "2         0      alta  \n",
              "3         2      bajo  \n",
              "4         0      alta  \n",
              "5         0      alta  \n",
              "6         1     medio  \n",
              "7         1     medio  \n",
              "8         0      alta  \n",
              "9         0      alta  \n",
              "10        1     medio  \n",
              "11        2      bajo  \n",
              "12        0      alta  \n",
              "13        1     medio  \n",
              "14        2      bajo  \n",
              "15        1     medio  \n",
              "16        2      bajo  \n",
              "17        0      alta  \n",
              "18        2      bajo  \n",
              "19        0      alta  \n",
              "20        1     medio  \n",
              "21        0      alta  \n",
              "22        2      bajo  \n",
              "23        0      alta  \n",
              "24        0      alta  \n",
              "25        2      bajo  \n",
              "26        2      bajo  \n",
              "27        0      alta  \n",
              "28        2      bajo  \n",
              "29        1     medio  \n",
              "30        0      alta  \n",
              "31        0      alta  \n",
              "32        0      alta  \n",
              "33        2      bajo  \n",
              "34        1     medio  \n",
              "35        1     medio  \n",
              "36        1     medio  \n",
              "37        1     medio  \n",
              "38        1     medio  \n",
              "39        0      alta  \n",
              "40        2      bajo  \n",
              "41        0      alta  \n",
              "42        0      alta  \n",
              "43        1     medio  \n",
              "44        2      bajo  \n",
              "45        1     medio  \n",
              "46        1     medio  \n",
              "47        2      bajo  \n",
              "48        2      bajo  \n",
              "49        1     medio  "
            ]
          },
          "execution_count": 16,
          "metadata": {},
          "output_type": "execute_result"
        }
      ],
      "source": [
        "df"
      ]
    },
    {
      "cell_type": "markdown",
      "metadata": {},
      "source": [
        "Graficamos los Cluster de Asecinatos del df, dando colores a los niveles de alto=rojo, medio=amarillo, bajo=verde, segun como agruparon."
      ]
    },
    {
      "cell_type": "code",
      "execution_count": 17,
      "metadata": {},
      "outputs": [
        {
          "data": {
            "application/vnd.plotly.v1+json": {
              "config": {
                "plotlyServerURL": "https://plot.ly"
              },
              "data": [
                {
                  "customdata": [
                    [
                      0
                    ],
                    [
                      0
                    ],
                    [
                      0
                    ],
                    [
                      0
                    ],
                    [
                      0
                    ],
                    [
                      0
                    ],
                    [
                      0
                    ],
                    [
                      0
                    ],
                    [
                      0
                    ],
                    [
                      0
                    ],
                    [
                      0
                    ],
                    [
                      0
                    ],
                    [
                      0
                    ],
                    [
                      0
                    ],
                    [
                      0
                    ],
                    [
                      0
                    ],
                    [
                      0
                    ],
                    [
                      0
                    ],
                    [
                      0
                    ],
                    [
                      0
                    ]
                  ],
                  "hovertemplate": "Categoria=alta<br>Poblacion Urbana=%{x}<br>Asesinatos=%{y}<br>Cluster=%{customdata[0]}<extra></extra>",
                  "legendgroup": "alta",
                  "marker": {
                    "color": "red",
                    "symbol": "circle"
                  },
                  "mode": "markers",
                  "name": "alta",
                  "orientation": "v",
                  "showlegend": true,
                  "type": "scatter",
                  "x": [
                    58,
                    48,
                    80,
                    91,
                    78,
                    80,
                    60,
                    83,
                    66,
                    67,
                    74,
                    44,
                    70,
                    81,
                    70,
                    86,
                    45,
                    48,
                    59,
                    80
                  ],
                  "xaxis": "x",
                  "y": [
                    13.2,
                    10,
                    8.1,
                    9,
                    7.9,
                    15.4,
                    17.4,
                    10.4,
                    15.4,
                    11.3,
                    12.1,
                    16.1,
                    9,
                    12.2,
                    11.4,
                    11.1,
                    13,
                    14.4,
                    13.2,
                    12.7
                  ],
                  "yaxis": "y"
                },
                {
                  "customdata": [
                    [
                      2
                    ],
                    [
                      2
                    ],
                    [
                      2
                    ],
                    [
                      2
                    ],
                    [
                      2
                    ],
                    [
                      2
                    ],
                    [
                      2
                    ],
                    [
                      2
                    ],
                    [
                      2
                    ],
                    [
                      2
                    ],
                    [
                      2
                    ],
                    [
                      2
                    ],
                    [
                      2
                    ],
                    [
                      2
                    ]
                  ],
                  "hovertemplate": "Categoria=bajo<br>Poblacion Urbana=%{x}<br>Asesinatos=%{y}<br>Cluster=%{customdata[0]}<extra></extra>",
                  "legendgroup": "bajo",
                  "marker": {
                    "color": "#ab63fa",
                    "symbol": "diamond"
                  },
                  "mode": "markers",
                  "name": "bajo",
                  "orientation": "v",
                  "showlegend": true,
                  "type": "scatter",
                  "x": [
                    50,
                    54,
                    57,
                    52,
                    51,
                    66,
                    53,
                    62,
                    56,
                    44,
                    45,
                    32,
                    39,
                    66
                  ],
                  "xaxis": "x",
                  "y": [
                    8.8,
                    2.6,
                    2.2,
                    9.7,
                    2.1,
                    2.7,
                    6,
                    4.3,
                    2.1,
                    0.8,
                    3.8,
                    2.2,
                    5.7,
                    2.6
                  ],
                  "yaxis": "y"
                },
                {
                  "customdata": [
                    [
                      1
                    ],
                    [
                      1
                    ],
                    [
                      1
                    ],
                    [
                      1
                    ],
                    [
                      1
                    ],
                    [
                      1
                    ],
                    [
                      1
                    ],
                    [
                      1
                    ],
                    [
                      1
                    ],
                    [
                      1
                    ],
                    [
                      1
                    ],
                    [
                      1
                    ],
                    [
                      1
                    ],
                    [
                      1
                    ],
                    [
                      1
                    ],
                    [
                      1
                    ]
                  ],
                  "hovertemplate": "Categoria=medio<br>Poblacion Urbana=%{x}<br>Asesinatos=%{y}<br>Cluster=%{customdata[0]}<extra></extra>",
                  "legendgroup": "medio",
                  "marker": {
                    "color": "#FFA15A",
                    "symbol": "square"
                  },
                  "mode": "markers",
                  "name": "medio",
                  "orientation": "v",
                  "showlegend": true,
                  "type": "scatter",
                  "x": [
                    77,
                    72,
                    83,
                    65,
                    66,
                    85,
                    89,
                    75,
                    68,
                    67,
                    72,
                    87,
                    80,
                    63,
                    73,
                    60
                  ],
                  "xaxis": "x",
                  "y": [
                    3.3,
                    5.9,
                    5.3,
                    7.2,
                    6,
                    4.4,
                    7.4,
                    7.3,
                    6.6,
                    4.9,
                    6.3,
                    3.4,
                    3.2,
                    8.5,
                    4,
                    6.8
                  ],
                  "yaxis": "y"
                }
              ],
              "layout": {
                "legend": {
                  "title": {
                    "text": "Categoria"
                  },
                  "tracegroupgap": 0
                },
                "margin": {
                  "t": 60
                },
                "template": {
                  "data": {
                    "bar": [
                      {
                        "error_x": {
                          "color": "#2a3f5f"
                        },
                        "error_y": {
                          "color": "#2a3f5f"
                        },
                        "marker": {
                          "line": {
                            "color": "#E5ECF6",
                            "width": 0.5
                          },
                          "pattern": {
                            "fillmode": "overlay",
                            "size": 10,
                            "solidity": 0.2
                          }
                        },
                        "type": "bar"
                      }
                    ],
                    "barpolar": [
                      {
                        "marker": {
                          "line": {
                            "color": "#E5ECF6",
                            "width": 0.5
                          },
                          "pattern": {
                            "fillmode": "overlay",
                            "size": 10,
                            "solidity": 0.2
                          }
                        },
                        "type": "barpolar"
                      }
                    ],
                    "carpet": [
                      {
                        "aaxis": {
                          "endlinecolor": "#2a3f5f",
                          "gridcolor": "white",
                          "linecolor": "white",
                          "minorgridcolor": "white",
                          "startlinecolor": "#2a3f5f"
                        },
                        "baxis": {
                          "endlinecolor": "#2a3f5f",
                          "gridcolor": "white",
                          "linecolor": "white",
                          "minorgridcolor": "white",
                          "startlinecolor": "#2a3f5f"
                        },
                        "type": "carpet"
                      }
                    ],
                    "choropleth": [
                      {
                        "colorbar": {
                          "outlinewidth": 0,
                          "ticks": ""
                        },
                        "type": "choropleth"
                      }
                    ],
                    "contour": [
                      {
                        "colorbar": {
                          "outlinewidth": 0,
                          "ticks": ""
                        },
                        "colorscale": [
                          [
                            0,
                            "#0d0887"
                          ],
                          [
                            0.1111111111111111,
                            "#46039f"
                          ],
                          [
                            0.2222222222222222,
                            "#7201a8"
                          ],
                          [
                            0.3333333333333333,
                            "#9c179e"
                          ],
                          [
                            0.4444444444444444,
                            "#bd3786"
                          ],
                          [
                            0.5555555555555556,
                            "#d8576b"
                          ],
                          [
                            0.6666666666666666,
                            "#ed7953"
                          ],
                          [
                            0.7777777777777778,
                            "#fb9f3a"
                          ],
                          [
                            0.8888888888888888,
                            "#fdca26"
                          ],
                          [
                            1,
                            "#f0f921"
                          ]
                        ],
                        "type": "contour"
                      }
                    ],
                    "contourcarpet": [
                      {
                        "colorbar": {
                          "outlinewidth": 0,
                          "ticks": ""
                        },
                        "type": "contourcarpet"
                      }
                    ],
                    "heatmap": [
                      {
                        "colorbar": {
                          "outlinewidth": 0,
                          "ticks": ""
                        },
                        "colorscale": [
                          [
                            0,
                            "#0d0887"
                          ],
                          [
                            0.1111111111111111,
                            "#46039f"
                          ],
                          [
                            0.2222222222222222,
                            "#7201a8"
                          ],
                          [
                            0.3333333333333333,
                            "#9c179e"
                          ],
                          [
                            0.4444444444444444,
                            "#bd3786"
                          ],
                          [
                            0.5555555555555556,
                            "#d8576b"
                          ],
                          [
                            0.6666666666666666,
                            "#ed7953"
                          ],
                          [
                            0.7777777777777778,
                            "#fb9f3a"
                          ],
                          [
                            0.8888888888888888,
                            "#fdca26"
                          ],
                          [
                            1,
                            "#f0f921"
                          ]
                        ],
                        "type": "heatmap"
                      }
                    ],
                    "heatmapgl": [
                      {
                        "colorbar": {
                          "outlinewidth": 0,
                          "ticks": ""
                        },
                        "colorscale": [
                          [
                            0,
                            "#0d0887"
                          ],
                          [
                            0.1111111111111111,
                            "#46039f"
                          ],
                          [
                            0.2222222222222222,
                            "#7201a8"
                          ],
                          [
                            0.3333333333333333,
                            "#9c179e"
                          ],
                          [
                            0.4444444444444444,
                            "#bd3786"
                          ],
                          [
                            0.5555555555555556,
                            "#d8576b"
                          ],
                          [
                            0.6666666666666666,
                            "#ed7953"
                          ],
                          [
                            0.7777777777777778,
                            "#fb9f3a"
                          ],
                          [
                            0.8888888888888888,
                            "#fdca26"
                          ],
                          [
                            1,
                            "#f0f921"
                          ]
                        ],
                        "type": "heatmapgl"
                      }
                    ],
                    "histogram": [
                      {
                        "marker": {
                          "pattern": {
                            "fillmode": "overlay",
                            "size": 10,
                            "solidity": 0.2
                          }
                        },
                        "type": "histogram"
                      }
                    ],
                    "histogram2d": [
                      {
                        "colorbar": {
                          "outlinewidth": 0,
                          "ticks": ""
                        },
                        "colorscale": [
                          [
                            0,
                            "#0d0887"
                          ],
                          [
                            0.1111111111111111,
                            "#46039f"
                          ],
                          [
                            0.2222222222222222,
                            "#7201a8"
                          ],
                          [
                            0.3333333333333333,
                            "#9c179e"
                          ],
                          [
                            0.4444444444444444,
                            "#bd3786"
                          ],
                          [
                            0.5555555555555556,
                            "#d8576b"
                          ],
                          [
                            0.6666666666666666,
                            "#ed7953"
                          ],
                          [
                            0.7777777777777778,
                            "#fb9f3a"
                          ],
                          [
                            0.8888888888888888,
                            "#fdca26"
                          ],
                          [
                            1,
                            "#f0f921"
                          ]
                        ],
                        "type": "histogram2d"
                      }
                    ],
                    "histogram2dcontour": [
                      {
                        "colorbar": {
                          "outlinewidth": 0,
                          "ticks": ""
                        },
                        "colorscale": [
                          [
                            0,
                            "#0d0887"
                          ],
                          [
                            0.1111111111111111,
                            "#46039f"
                          ],
                          [
                            0.2222222222222222,
                            "#7201a8"
                          ],
                          [
                            0.3333333333333333,
                            "#9c179e"
                          ],
                          [
                            0.4444444444444444,
                            "#bd3786"
                          ],
                          [
                            0.5555555555555556,
                            "#d8576b"
                          ],
                          [
                            0.6666666666666666,
                            "#ed7953"
                          ],
                          [
                            0.7777777777777778,
                            "#fb9f3a"
                          ],
                          [
                            0.8888888888888888,
                            "#fdca26"
                          ],
                          [
                            1,
                            "#f0f921"
                          ]
                        ],
                        "type": "histogram2dcontour"
                      }
                    ],
                    "mesh3d": [
                      {
                        "colorbar": {
                          "outlinewidth": 0,
                          "ticks": ""
                        },
                        "type": "mesh3d"
                      }
                    ],
                    "parcoords": [
                      {
                        "line": {
                          "colorbar": {
                            "outlinewidth": 0,
                            "ticks": ""
                          }
                        },
                        "type": "parcoords"
                      }
                    ],
                    "pie": [
                      {
                        "automargin": true,
                        "type": "pie"
                      }
                    ],
                    "scatter": [
                      {
                        "fillpattern": {
                          "fillmode": "overlay",
                          "size": 10,
                          "solidity": 0.2
                        },
                        "type": "scatter"
                      }
                    ],
                    "scatter3d": [
                      {
                        "line": {
                          "colorbar": {
                            "outlinewidth": 0,
                            "ticks": ""
                          }
                        },
                        "marker": {
                          "colorbar": {
                            "outlinewidth": 0,
                            "ticks": ""
                          }
                        },
                        "type": "scatter3d"
                      }
                    ],
                    "scattercarpet": [
                      {
                        "marker": {
                          "colorbar": {
                            "outlinewidth": 0,
                            "ticks": ""
                          }
                        },
                        "type": "scattercarpet"
                      }
                    ],
                    "scattergeo": [
                      {
                        "marker": {
                          "colorbar": {
                            "outlinewidth": 0,
                            "ticks": ""
                          }
                        },
                        "type": "scattergeo"
                      }
                    ],
                    "scattergl": [
                      {
                        "marker": {
                          "colorbar": {
                            "outlinewidth": 0,
                            "ticks": ""
                          }
                        },
                        "type": "scattergl"
                      }
                    ],
                    "scattermapbox": [
                      {
                        "marker": {
                          "colorbar": {
                            "outlinewidth": 0,
                            "ticks": ""
                          }
                        },
                        "type": "scattermapbox"
                      }
                    ],
                    "scatterpolar": [
                      {
                        "marker": {
                          "colorbar": {
                            "outlinewidth": 0,
                            "ticks": ""
                          }
                        },
                        "type": "scatterpolar"
                      }
                    ],
                    "scatterpolargl": [
                      {
                        "marker": {
                          "colorbar": {
                            "outlinewidth": 0,
                            "ticks": ""
                          }
                        },
                        "type": "scatterpolargl"
                      }
                    ],
                    "scatterternary": [
                      {
                        "marker": {
                          "colorbar": {
                            "outlinewidth": 0,
                            "ticks": ""
                          }
                        },
                        "type": "scatterternary"
                      }
                    ],
                    "surface": [
                      {
                        "colorbar": {
                          "outlinewidth": 0,
                          "ticks": ""
                        },
                        "colorscale": [
                          [
                            0,
                            "#0d0887"
                          ],
                          [
                            0.1111111111111111,
                            "#46039f"
                          ],
                          [
                            0.2222222222222222,
                            "#7201a8"
                          ],
                          [
                            0.3333333333333333,
                            "#9c179e"
                          ],
                          [
                            0.4444444444444444,
                            "#bd3786"
                          ],
                          [
                            0.5555555555555556,
                            "#d8576b"
                          ],
                          [
                            0.6666666666666666,
                            "#ed7953"
                          ],
                          [
                            0.7777777777777778,
                            "#fb9f3a"
                          ],
                          [
                            0.8888888888888888,
                            "#fdca26"
                          ],
                          [
                            1,
                            "#f0f921"
                          ]
                        ],
                        "type": "surface"
                      }
                    ],
                    "table": [
                      {
                        "cells": {
                          "fill": {
                            "color": "#EBF0F8"
                          },
                          "line": {
                            "color": "white"
                          }
                        },
                        "header": {
                          "fill": {
                            "color": "#C8D4E3"
                          },
                          "line": {
                            "color": "white"
                          }
                        },
                        "type": "table"
                      }
                    ]
                  },
                  "layout": {
                    "annotationdefaults": {
                      "arrowcolor": "#2a3f5f",
                      "arrowhead": 0,
                      "arrowwidth": 1
                    },
                    "autotypenumbers": "strict",
                    "coloraxis": {
                      "colorbar": {
                        "outlinewidth": 0,
                        "ticks": ""
                      }
                    },
                    "colorscale": {
                      "diverging": [
                        [
                          0,
                          "#8e0152"
                        ],
                        [
                          0.1,
                          "#c51b7d"
                        ],
                        [
                          0.2,
                          "#de77ae"
                        ],
                        [
                          0.3,
                          "#f1b6da"
                        ],
                        [
                          0.4,
                          "#fde0ef"
                        ],
                        [
                          0.5,
                          "#f7f7f7"
                        ],
                        [
                          0.6,
                          "#e6f5d0"
                        ],
                        [
                          0.7,
                          "#b8e186"
                        ],
                        [
                          0.8,
                          "#7fbc41"
                        ],
                        [
                          0.9,
                          "#4d9221"
                        ],
                        [
                          1,
                          "#276419"
                        ]
                      ],
                      "sequential": [
                        [
                          0,
                          "#0d0887"
                        ],
                        [
                          0.1111111111111111,
                          "#46039f"
                        ],
                        [
                          0.2222222222222222,
                          "#7201a8"
                        ],
                        [
                          0.3333333333333333,
                          "#9c179e"
                        ],
                        [
                          0.4444444444444444,
                          "#bd3786"
                        ],
                        [
                          0.5555555555555556,
                          "#d8576b"
                        ],
                        [
                          0.6666666666666666,
                          "#ed7953"
                        ],
                        [
                          0.7777777777777778,
                          "#fb9f3a"
                        ],
                        [
                          0.8888888888888888,
                          "#fdca26"
                        ],
                        [
                          1,
                          "#f0f921"
                        ]
                      ],
                      "sequentialminus": [
                        [
                          0,
                          "#0d0887"
                        ],
                        [
                          0.1111111111111111,
                          "#46039f"
                        ],
                        [
                          0.2222222222222222,
                          "#7201a8"
                        ],
                        [
                          0.3333333333333333,
                          "#9c179e"
                        ],
                        [
                          0.4444444444444444,
                          "#bd3786"
                        ],
                        [
                          0.5555555555555556,
                          "#d8576b"
                        ],
                        [
                          0.6666666666666666,
                          "#ed7953"
                        ],
                        [
                          0.7777777777777778,
                          "#fb9f3a"
                        ],
                        [
                          0.8888888888888888,
                          "#fdca26"
                        ],
                        [
                          1,
                          "#f0f921"
                        ]
                      ]
                    },
                    "colorway": [
                      "#636efa",
                      "#EF553B",
                      "#00cc96",
                      "#ab63fa",
                      "#FFA15A",
                      "#19d3f3",
                      "#FF6692",
                      "#B6E880",
                      "#FF97FF",
                      "#FECB52"
                    ],
                    "font": {
                      "color": "#2a3f5f"
                    },
                    "geo": {
                      "bgcolor": "white",
                      "lakecolor": "white",
                      "landcolor": "#E5ECF6",
                      "showlakes": true,
                      "showland": true,
                      "subunitcolor": "white"
                    },
                    "hoverlabel": {
                      "align": "left"
                    },
                    "hovermode": "closest",
                    "mapbox": {
                      "style": "light"
                    },
                    "paper_bgcolor": "white",
                    "plot_bgcolor": "#E5ECF6",
                    "polar": {
                      "angularaxis": {
                        "gridcolor": "white",
                        "linecolor": "white",
                        "ticks": ""
                      },
                      "bgcolor": "#E5ECF6",
                      "radialaxis": {
                        "gridcolor": "white",
                        "linecolor": "white",
                        "ticks": ""
                      }
                    },
                    "scene": {
                      "xaxis": {
                        "backgroundcolor": "#E5ECF6",
                        "gridcolor": "white",
                        "gridwidth": 2,
                        "linecolor": "white",
                        "showbackground": true,
                        "ticks": "",
                        "zerolinecolor": "white"
                      },
                      "yaxis": {
                        "backgroundcolor": "#E5ECF6",
                        "gridcolor": "white",
                        "gridwidth": 2,
                        "linecolor": "white",
                        "showbackground": true,
                        "ticks": "",
                        "zerolinecolor": "white"
                      },
                      "zaxis": {
                        "backgroundcolor": "#E5ECF6",
                        "gridcolor": "white",
                        "gridwidth": 2,
                        "linecolor": "white",
                        "showbackground": true,
                        "ticks": "",
                        "zerolinecolor": "white"
                      }
                    },
                    "shapedefaults": {
                      "line": {
                        "color": "#2a3f5f"
                      }
                    },
                    "ternary": {
                      "aaxis": {
                        "gridcolor": "white",
                        "linecolor": "white",
                        "ticks": ""
                      },
                      "baxis": {
                        "gridcolor": "white",
                        "linecolor": "white",
                        "ticks": ""
                      },
                      "bgcolor": "#E5ECF6",
                      "caxis": {
                        "gridcolor": "white",
                        "linecolor": "white",
                        "ticks": ""
                      }
                    },
                    "title": {
                      "x": 0.05
                    },
                    "xaxis": {
                      "automargin": true,
                      "gridcolor": "white",
                      "linecolor": "white",
                      "ticks": "",
                      "title": {
                        "standoff": 15
                      },
                      "zerolinecolor": "white",
                      "zerolinewidth": 2
                    },
                    "yaxis": {
                      "automargin": true,
                      "gridcolor": "white",
                      "linecolor": "white",
                      "ticks": "",
                      "title": {
                        "standoff": 15
                      },
                      "zerolinecolor": "white",
                      "zerolinewidth": 2
                    }
                  }
                },
                "xaxis": {
                  "anchor": "y",
                  "domain": [
                    0,
                    1
                  ],
                  "title": {
                    "text": "Poblacion Urbana"
                  }
                },
                "yaxis": {
                  "anchor": "x",
                  "domain": [
                    0,
                    1
                  ],
                  "title": {
                    "text": "Asesinatos"
                  }
                }
              }
            }
          },
          "metadata": {},
          "output_type": "display_data"
        }
      ],
      "source": [
        "# Aplicar KMeans con n_clusters=3\n",
        "\n",
        "#color_discrete_map1 = {0: 'red', 1: 'blue', 2: 'green'}\n",
        "\n",
        "fig = px.scatter(df,x=df[\"Poblacion Urbana\"] ,y=df[\"Asesinatos\"], color=\"Categoria\",symbol=\"Categoria\",\n",
        "                  hover_data=['Cluster'],color_discrete_map={'alta': 'red', 'media': 'yellow', 'baja': 'green'})\n",
        "fig.show()\n"
      ]
    },
    {
      "cell_type": "markdown",
      "metadata": {},
      "source": [
        "Se genera un diagrama de caja (boxplot) que representa la distribución estadística de los asesinatos en diferentes categorías y niveles de clúster. Y manteniendo los colores representativos"
      ]
    },
    {
      "cell_type": "code",
      "execution_count": 18,
      "metadata": {},
      "outputs": [
        {
          "data": {
            "image/png": "[encoded data removed]",
            "text/plain": [
              "<Figure size 640x480 with 1 Axes>"
            ]
          },
          "metadata": {},
          "output_type": "display_data"
        }
      ],
      "source": [
        "import seaborn as sns\n",
        "\n",
        "sns.boxplot(x=\"Cluster\", y=\"Asesinatos\",\n",
        "            hue=\"Categoria\", palette=[\"r\", \"y\",\"g\"],\n",
        "            data=df)\n",
        "sns.despine(offset=10, trim=True)\n"
      ]
    },
    {
      "cell_type": "markdown",
      "metadata": {},
      "source": [
        "Dado que el df contiene la informacion de cad aestado de los EEUU, se agregan un campo que hace referencia al los Codigos postales para poder representar geograficamente con colores los niveles de peligrosidad."
      ]
    },
    {
      "cell_type": "code",
      "execution_count": 19,
      "metadata": {},
      "outputs": [
        {
          "data": {
            "application/vnd.plotly.v1+json": {
              "config": {
                "plotlyServerURL": "https://plot.ly"
              },
              "data": [
                {
                  "colorscale": [
                    [
                      0,
                      "red"
                    ],
                    [
                      1,
                      "red"
                    ]
                  ],
                  "geo": "geo",
                  "hovertemplate": "Peligrosidad=alta<br>Abreviatura=%{location}<extra></extra>",
                  "locationmode": "USA-states",
                  "locations": [
                    "AL",
                    "AK",
                    "AZ",
                    "CA",
                    "CO",
                    "FL",
                    "GA",
                    "IL",
                    "LA",
                    "MD",
                    "MI",
                    "MS",
                    "MO",
                    "NV",
                    "NM",
                    "NY",
                    "NC",
                    "SC",
                    "TN",
                    "TX"
                  ],
                  "name": "alta",
                  "showlegend": true,
                  "showscale": false,
                  "type": "choropleth",
                  "z": [
                    1,
                    1,
                    1,
                    1,
                    1,
                    1,
                    1,
                    1,
                    1,
                    1,
                    1,
                    1,
                    1,
                    1,
                    1,
                    1,
                    1,
                    1,
                    1,
                    1
                  ]
                },
                {
                  "colorscale": [
                    [
                      0,
                      "#ab63fa"
                    ],
                    [
                      1,
                      "#ab63fa"
                    ]
                  ],
                  "geo": "geo",
                  "hovertemplate": "Peligrosidad=bajo<br>Abreviatura=%{location}<extra></extra>",
                  "locationmode": "USA-states",
                  "locations": [
                    "AR",
                    "ID",
                    "IA",
                    "KY",
                    "ME",
                    "MN",
                    "MT",
                    "NE",
                    "NH",
                    "ND",
                    "SD",
                    "VT",
                    "WV",
                    "WI"
                  ],
                  "name": "bajo",
                  "showlegend": true,
                  "showscale": false,
                  "type": "choropleth",
                  "z": [
                    1,
                    1,
                    1,
                    1,
                    1,
                    1,
                    1,
                    1,
                    1,
                    1,
                    1,
                    1,
                    1,
                    1
                  ]
                },
                {
                  "colorscale": [
                    [
                      0,
                      "#FFA15A"
                    ],
                    [
                      1,
                      "#FFA15A"
                    ]
                  ],
                  "geo": "geo",
                  "hovertemplate": "Peligrosidad=medio<br>Abreviatura=%{location}<extra></extra>",
                  "locationmode": "USA-states",
                  "locations": [
                    "CT",
                    "DE",
                    "HI",
                    "IN",
                    "KS",
                    "MA",
                    "NJ",
                    "OH",
                    "OK",
                    "OR",
                    "PA",
                    "RI",
                    "UT",
                    "VA",
                    "WA",
                    "WY"
                  ],
                  "name": "medio",
                  "showlegend": true,
                  "showscale": false,
                  "type": "choropleth",
                  "z": [
                    1,
                    1,
                    1,
                    1,
                    1,
                    1,
                    1,
                    1,
                    1,
                    1,
                    1,
                    1,
                    1,
                    1,
                    1,
                    1
                  ]
                }
              ],
              "layout": {
                "geo": {
                  "center": {},
                  "domain": {
                    "x": [
                      0,
                      1
                    ],
                    "y": [
                      0,
                      1
                    ]
                  },
                  "scope": "usa"
                },
                "legend": {
                  "title": {
                    "text": "Peligrosidad"
                  },
                  "tracegroupgap": 0
                },
                "template": {
                  "data": {
                    "bar": [
                      {
                        "error_x": {
                          "color": "#2a3f5f"
                        },
                        "error_y": {
                          "color": "#2a3f5f"
                        },
                        "marker": {
                          "line": {
                            "color": "#E5ECF6",
                            "width": 0.5
                          },
                          "pattern": {
                            "fillmode": "overlay",
                            "size": 10,
                            "solidity": 0.2
                          }
                        },
                        "type": "bar"
                      }
                    ],
                    "barpolar": [
                      {
                        "marker": {
                          "line": {
                            "color": "#E5ECF6",
                            "width": 0.5
                          },
                          "pattern": {
                            "fillmode": "overlay",
                            "size": 10,
                            "solidity": 0.2
                          }
                        },
                        "type": "barpolar"
                      }
                    ],
                    "carpet": [
                      {
                        "aaxis": {
                          "endlinecolor": "#2a3f5f",
                          "gridcolor": "white",
                          "linecolor": "white",
                          "minorgridcolor": "white",
                          "startlinecolor": "#2a3f5f"
                        },
                        "baxis": {
                          "endlinecolor": "#2a3f5f",
                          "gridcolor": "white",
                          "linecolor": "white",
                          "minorgridcolor": "white",
                          "startlinecolor": "#2a3f5f"
                        },
                        "type": "carpet"
                      }
                    ],
                    "choropleth": [
                      {
                        "colorbar": {
                          "outlinewidth": 0,
                          "ticks": ""
                        },
                        "type": "choropleth"
                      }
                    ],
                    "contour": [
                      {
                        "colorbar": {
                          "outlinewidth": 0,
                          "ticks": ""
                        },
                        "colorscale": [
                          [
                            0,
                            "#0d0887"
                          ],
                          [
                            0.1111111111111111,
                            "#46039f"
                          ],
                          [
                            0.2222222222222222,
                            "#7201a8"
                          ],
                          [
                            0.3333333333333333,
                            "#9c179e"
                          ],
                          [
                            0.4444444444444444,
                            "#bd3786"
                          ],
                          [
                            0.5555555555555556,
                            "#d8576b"
                          ],
                          [
                            0.6666666666666666,
                            "#ed7953"
                          ],
                          [
                            0.7777777777777778,
                            "#fb9f3a"
                          ],
                          [
                            0.8888888888888888,
                            "#fdca26"
                          ],
                          [
                            1,
                            "#f0f921"
                          ]
                        ],
                        "type": "contour"
                      }
                    ],
                    "contourcarpet": [
                      {
                        "colorbar": {
                          "outlinewidth": 0,
                          "ticks": ""
                        },
                        "type": "contourcarpet"
                      }
                    ],
                    "heatmap": [
                      {
                        "colorbar": {
                          "outlinewidth": 0,
                          "ticks": ""
                        },
                        "colorscale": [
                          [
                            0,
                            "#0d0887"
                          ],
                          [
                            0.1111111111111111,
                            "#46039f"
                          ],
                          [
                            0.2222222222222222,
                            "#7201a8"
                          ],
                          [
                            0.3333333333333333,
                            "#9c179e"
                          ],
                          [
                            0.4444444444444444,
                            "#bd3786"
                          ],
                          [
                            0.5555555555555556,
                            "#d8576b"
                          ],
                          [
                            0.6666666666666666,
                            "#ed7953"
                          ],
                          [
                            0.7777777777777778,
                            "#fb9f3a"
                          ],
                          [
                            0.8888888888888888,
                            "#fdca26"
                          ],
                          [
                            1,
                            "#f0f921"
                          ]
                        ],
                        "type": "heatmap"
                      }
                    ],
                    "heatmapgl": [
                      {
                        "colorbar": {
                          "outlinewidth": 0,
                          "ticks": ""
                        },
                        "colorscale": [
                          [
                            0,
                            "#0d0887"
                          ],
                          [
                            0.1111111111111111,
                            "#46039f"
                          ],
                          [
                            0.2222222222222222,
                            "#7201a8"
                          ],
                          [
                            0.3333333333333333,
                            "#9c179e"
                          ],
                          [
                            0.4444444444444444,
                            "#bd3786"
                          ],
                          [
                            0.5555555555555556,
                            "#d8576b"
                          ],
                          [
                            0.6666666666666666,
                            "#ed7953"
                          ],
                          [
                            0.7777777777777778,
                            "#fb9f3a"
                          ],
                          [
                            0.8888888888888888,
                            "#fdca26"
                          ],
                          [
                            1,
                            "#f0f921"
                          ]
                        ],
                        "type": "heatmapgl"
                      }
                    ],
                    "histogram": [
                      {
                        "marker": {
                          "pattern": {
                            "fillmode": "overlay",
                            "size": 10,
                            "solidity": 0.2
                          }
                        },
                        "type": "histogram"
                      }
                    ],
                    "histogram2d": [
                      {
                        "colorbar": {
                          "outlinewidth": 0,
                          "ticks": ""
                        },
                        "colorscale": [
                          [
                            0,
                            "#0d0887"
                          ],
                          [
                            0.1111111111111111,
                            "#46039f"
                          ],
                          [
                            0.2222222222222222,
                            "#7201a8"
                          ],
                          [
                            0.3333333333333333,
                            "#9c179e"
                          ],
                          [
                            0.4444444444444444,
                            "#bd3786"
                          ],
                          [
                            0.5555555555555556,
                            "#d8576b"
                          ],
                          [
                            0.6666666666666666,
                            "#ed7953"
                          ],
                          [
                            0.7777777777777778,
                            "#fb9f3a"
                          ],
                          [
                            0.8888888888888888,
                            "#fdca26"
                          ],
                          [
                            1,
                            "#f0f921"
                          ]
                        ],
                        "type": "histogram2d"
                      }
                    ],
                    "histogram2dcontour": [
                      {
                        "colorbar": {
                          "outlinewidth": 0,
                          "ticks": ""
                        },
                        "colorscale": [
                          [
                            0,
                            "#0d0887"
                          ],
                          [
                            0.1111111111111111,
                            "#46039f"
                          ],
                          [
                            0.2222222222222222,
                            "#7201a8"
                          ],
                          [
                            0.3333333333333333,
                            "#9c179e"
                          ],
                          [
                            0.4444444444444444,
                            "#bd3786"
                          ],
                          [
                            0.5555555555555556,
                            "#d8576b"
                          ],
                          [
                            0.6666666666666666,
                            "#ed7953"
                          ],
                          [
                            0.7777777777777778,
                            "#fb9f3a"
                          ],
                          [
                            0.8888888888888888,
                            "#fdca26"
                          ],
                          [
                            1,
                            "#f0f921"
                          ]
                        ],
                        "type": "histogram2dcontour"
                      }
                    ],
                    "mesh3d": [
                      {
                        "colorbar": {
                          "outlinewidth": 0,
                          "ticks": ""
                        },
                        "type": "mesh3d"
                      }
                    ],
                    "parcoords": [
                      {
                        "line": {
                          "colorbar": {
                            "outlinewidth": 0,
                            "ticks": ""
                          }
                        },
                        "type": "parcoords"
                      }
                    ],
                    "pie": [
                      {
                        "automargin": true,
                        "type": "pie"
                      }
                    ],
                    "scatter": [
                      {
                        "fillpattern": {
                          "fillmode": "overlay",
                          "size": 10,
                          "solidity": 0.2
                        },
                        "type": "scatter"
                      }
                    ],
                    "scatter3d": [
                      {
                        "line": {
                          "colorbar": {
                            "outlinewidth": 0,
                            "ticks": ""
                          }
                        },
                        "marker": {
                          "colorbar": {
                            "outlinewidth": 0,
                            "ticks": ""
                          }
                        },
                        "type": "scatter3d"
                      }
                    ],
                    "scattercarpet": [
                      {
                        "marker": {
                          "colorbar": {
                            "outlinewidth": 0,
                            "ticks": ""
                          }
                        },
                        "type": "scattercarpet"
                      }
                    ],
                    "scattergeo": [
                      {
                        "marker": {
                          "colorbar": {
                            "outlinewidth": 0,
                            "ticks": ""
                          }
                        },
                        "type": "scattergeo"
                      }
                    ],
                    "scattergl": [
                      {
                        "marker": {
                          "colorbar": {
                            "outlinewidth": 0,
                            "ticks": ""
                          }
                        },
                        "type": "scattergl"
                      }
                    ],
                    "scattermapbox": [
                      {
                        "marker": {
                          "colorbar": {
                            "outlinewidth": 0,
                            "ticks": ""
                          }
                        },
                        "type": "scattermapbox"
                      }
                    ],
                    "scatterpolar": [
                      {
                        "marker": {
                          "colorbar": {
                            "outlinewidth": 0,
                            "ticks": ""
                          }
                        },
                        "type": "scatterpolar"
                      }
                    ],
                    "scatterpolargl": [
                      {
                        "marker": {
                          "colorbar": {
                            "outlinewidth": 0,
                            "ticks": ""
                          }
                        },
                        "type": "scatterpolargl"
                      }
                    ],
                    "scatterternary": [
                      {
                        "marker": {
                          "colorbar": {
                            "outlinewidth": 0,
                            "ticks": ""
                          }
                        },
                        "type": "scatterternary"
                      }
                    ],
                    "surface": [
                      {
                        "colorbar": {
                          "outlinewidth": 0,
                          "ticks": ""
                        },
                        "colorscale": [
                          [
                            0,
                            "#0d0887"
                          ],
                          [
                            0.1111111111111111,
                            "#46039f"
                          ],
                          [
                            0.2222222222222222,
                            "#7201a8"
                          ],
                          [
                            0.3333333333333333,
                            "#9c179e"
                          ],
                          [
                            0.4444444444444444,
                            "#bd3786"
                          ],
                          [
                            0.5555555555555556,
                            "#d8576b"
                          ],
                          [
                            0.6666666666666666,
                            "#ed7953"
                          ],
                          [
                            0.7777777777777778,
                            "#fb9f3a"
                          ],
                          [
                            0.8888888888888888,
                            "#fdca26"
                          ],
                          [
                            1,
                            "#f0f921"
                          ]
                        ],
                        "type": "surface"
                      }
                    ],
                    "table": [
                      {
                        "cells": {
                          "fill": {
                            "color": "#EBF0F8"
                          },
                          "line": {
                            "color": "white"
                          }
                        },
                        "header": {
                          "fill": {
                            "color": "#C8D4E3"
                          },
                          "line": {
                            "color": "white"
                          }
                        },
                        "type": "table"
                      }
                    ]
                  },
                  "layout": {
                    "annotationdefaults": {
                      "arrowcolor": "#2a3f5f",
                      "arrowhead": 0,
                      "arrowwidth": 1
                    },
                    "autotypenumbers": "strict",
                    "coloraxis": {
                      "colorbar": {
                        "outlinewidth": 0,
                        "ticks": ""
                      }
                    },
                    "colorscale": {
                      "diverging": [
                        [
                          0,
                          "#8e0152"
                        ],
                        [
                          0.1,
                          "#c51b7d"
                        ],
                        [
                          0.2,
                          "#de77ae"
                        ],
                        [
                          0.3,
                          "#f1b6da"
                        ],
                        [
                          0.4,
                          "#fde0ef"
                        ],
                        [
                          0.5,
                          "#f7f7f7"
                        ],
                        [
                          0.6,
                          "#e6f5d0"
                        ],
                        [
                          0.7,
                          "#b8e186"
                        ],
                        [
                          0.8,
                          "#7fbc41"
                        ],
                        [
                          0.9,
                          "#4d9221"
                        ],
                        [
                          1,
                          "#276419"
                        ]
                      ],
                      "sequential": [
                        [
                          0,
                          "#0d0887"
                        ],
                        [
                          0.1111111111111111,
                          "#46039f"
                        ],
                        [
                          0.2222222222222222,
                          "#7201a8"
                        ],
                        [
                          0.3333333333333333,
                          "#9c179e"
                        ],
                        [
                          0.4444444444444444,
                          "#bd3786"
                        ],
                        [
                          0.5555555555555556,
                          "#d8576b"
                        ],
                        [
                          0.6666666666666666,
                          "#ed7953"
                        ],
                        [
                          0.7777777777777778,
                          "#fb9f3a"
                        ],
                        [
                          0.8888888888888888,
                          "#fdca26"
                        ],
                        [
                          1,
                          "#f0f921"
                        ]
                      ],
                      "sequentialminus": [
                        [
                          0,
                          "#0d0887"
                        ],
                        [
                          0.1111111111111111,
                          "#46039f"
                        ],
                        [
                          0.2222222222222222,
                          "#7201a8"
                        ],
                        [
                          0.3333333333333333,
                          "#9c179e"
                        ],
                        [
                          0.4444444444444444,
                          "#bd3786"
                        ],
                        [
                          0.5555555555555556,
                          "#d8576b"
                        ],
                        [
                          0.6666666666666666,
                          "#ed7953"
                        ],
                        [
                          0.7777777777777778,
                          "#fb9f3a"
                        ],
                        [
                          0.8888888888888888,
                          "#fdca26"
                        ],
                        [
                          1,
                          "#f0f921"
                        ]
                      ]
                    },
                    "colorway": [
                      "#636efa",
                      "#EF553B",
                      "#00cc96",
                      "#ab63fa",
                      "#FFA15A",
                      "#19d3f3",
                      "#FF6692",
                      "#B6E880",
                      "#FF97FF",
                      "#FECB52"
                    ],
                    "font": {
                      "color": "#2a3f5f"
                    },
                    "geo": {
                      "bgcolor": "white",
                      "lakecolor": "white",
                      "landcolor": "#E5ECF6",
                      "showlakes": true,
                      "showland": true,
                      "subunitcolor": "white"
                    },
                    "hoverlabel": {
                      "align": "left"
                    },
                    "hovermode": "closest",
                    "mapbox": {
                      "style": "light"
                    },
                    "paper_bgcolor": "white",
                    "plot_bgcolor": "#E5ECF6",
                    "polar": {
                      "angularaxis": {
                        "gridcolor": "white",
                        "linecolor": "white",
                        "ticks": ""
                      },
                      "bgcolor": "#E5ECF6",
                      "radialaxis": {
                        "gridcolor": "white",
                        "linecolor": "white",
                        "ticks": ""
                      }
                    },
                    "scene": {
                      "xaxis": {
                        "backgroundcolor": "#E5ECF6",
                        "gridcolor": "white",
                        "gridwidth": 2,
                        "linecolor": "white",
                        "showbackground": true,
                        "ticks": "",
                        "zerolinecolor": "white"
                      },
                      "yaxis": {
                        "backgroundcolor": "#E5ECF6",
                        "gridcolor": "white",
                        "gridwidth": 2,
                        "linecolor": "white",
                        "showbackground": true,
                        "ticks": "",
                        "zerolinecolor": "white"
                      },
                      "zaxis": {
                        "backgroundcolor": "#E5ECF6",
                        "gridcolor": "white",
                        "gridwidth": 2,
                        "linecolor": "white",
                        "showbackground": true,
                        "ticks": "",
                        "zerolinecolor": "white"
                      }
                    },
                    "shapedefaults": {
                      "line": {
                        "color": "#2a3f5f"
                      }
                    },
                    "ternary": {
                      "aaxis": {
                        "gridcolor": "white",
                        "linecolor": "white",
                        "ticks": ""
                      },
                      "baxis": {
                        "gridcolor": "white",
                        "linecolor": "white",
                        "ticks": ""
                      },
                      "bgcolor": "#E5ECF6",
                      "caxis": {
                        "gridcolor": "white",
                        "linecolor": "white",
                        "ticks": ""
                      }
                    },
                    "title": {
                      "x": 0.05
                    },
                    "xaxis": {
                      "automargin": true,
                      "gridcolor": "white",
                      "linecolor": "white",
                      "ticks": "",
                      "title": {
                        "standoff": 15
                      },
                      "zerolinecolor": "white",
                      "zerolinewidth": 2
                    },
                    "yaxis": {
                      "automargin": true,
                      "gridcolor": "white",
                      "linecolor": "white",
                      "ticks": "",
                      "title": {
                        "standoff": 15
                      },
                      "zerolinecolor": "white",
                      "zerolinewidth": 2
                    }
                  }
                },
                "title": {
                  "text": "Peligrosidad por  Estados"
                }
              }
            }
          },
          "metadata": {},
          "output_type": "display_data"
        }
      ],
      "source": [
        "estados_usa = {\n",
        "    'Alabama': 'AL',\n",
        "    'Alaska': 'AK',\n",
        "    'Arizona': 'AZ',\n",
        "    'Arkansas': 'AR',\n",
        "    'California': 'CA',\n",
        "    'Colorado': 'CO',\n",
        "    'Connecticut': 'CT',\n",
        "    'Delaware': 'DE',\n",
        "    'Florida': 'FL',\n",
        "    'Georgia': 'GA',\n",
        "    'Hawaii': 'HI',\n",
        "    'Idaho': 'ID',\n",
        "    'Illinois': 'IL',\n",
        "    'Indiana': 'IN',\n",
        "    'Iowa': 'IA',\n",
        "    'Kansas': 'KS',\n",
        "    'Kentucky': 'KY',\n",
        "    'Louisiana': 'LA',\n",
        "    'Maine': 'ME',\n",
        "    'Maryland': 'MD',\n",
        "    'Massachusetts': 'MA',\n",
        "    'Michigan': 'MI',\n",
        "    'Minnesota': 'MN',\n",
        "    'Mississippi': 'MS',\n",
        "    'Missouri': 'MO',\n",
        "    'Montana': 'MT',\n",
        "    'Nebraska': 'NE',\n",
        "    'Nevada': 'NV',\n",
        "    'New Hampshire': 'NH',\n",
        "    'New Jersey': 'NJ',\n",
        "    'New Mexico': 'NM',\n",
        "    'New York': 'NY',\n",
        "    'North Carolina': 'NC',\n",
        "    'North Dakota': 'ND',\n",
        "    'Ohio': 'OH',\n",
        "    'Oklahoma': 'OK',\n",
        "    'Oregon': 'OR',\n",
        "    'Pennsylvania': 'PA',\n",
        "    'Rhode Island': 'RI',\n",
        "    'South Carolina': 'SC',\n",
        "    'South Dakota': 'SD',\n",
        "    'Tennessee': 'TN',\n",
        "    'Texas': 'TX',\n",
        "    'Utah': 'UT',\n",
        "    'Vermont': 'VT',\n",
        "    'Virginia': 'VA',\n",
        "    'Washington': 'WA',\n",
        "    'West Virginia': 'WV',\n",
        "    'Wisconsin': 'WI',\n",
        "    'Wyoming': 'WY'\n",
        "}\n",
        "df_estados = pd.DataFrame(list(estados_usa.items()), columns=['Estado', 'Abreviatura'])\n",
        "df_map=df[[\"Estado\",\"Categoria\"]]\n",
        "df_estados[\"Estado\"]==df_map[\"Estado\"]\n",
        "df_estados[\"Peligrosidad\"]=df_map[[\"Categoria\"]]\n",
        "fig = px.choropleth(df_estados, locations=\"Abreviatura\", locationmode='USA-states',color='Peligrosidad',\n",
        "                    color_discrete_map={'alta': 'red', 'media': 'yellow', 'baja': 'green'},                        \n",
        "                    scope=\"usa\",  title= 'Peligrosidad de crimenes por  Estados'\n",
        "                    )\n",
        "\n",
        "fig.show()\n"
      ]
    },
    {
      "cell_type": "code",
      "execution_count": 20,
      "metadata": {},
      "outputs": [
        {
          "data": {
            "text/html": [
              "<div>\n",
              "<style scoped>\n",
              "    .dataframe tbody tr th:only-of-type {\n",
              "        vertical-align: middle;\n",
              "    }\n",
              "\n",
              "    .dataframe tbody tr th {\n",
              "        vertical-align: top;\n",
              "    }\n",
              "\n",
              "    .dataframe thead th {\n",
              "        text-align: right;\n",
              "    }\n",
              "</style>\n",
              "<table border=\"1\" class=\"dataframe\">\n",
              "  <thead>\n",
              "    <tr style=\"text-align: right;\">\n",
              "      <th></th>\n",
              "      <th>Estado</th>\n",
              "      <th>Abreviatura</th>\n",
              "      <th>Peligrosidad</th>\n",
              "    </tr>\n",
              "  </thead>\n",
              "  <tbody>\n",
              "    <tr>\n",
              "      <th>0</th>\n",
              "      <td>Alabama</td>\n",
              "      <td>AL</td>\n",
              "      <td>alta</td>\n",
              "    </tr>\n",
              "    <tr>\n",
              "      <th>1</th>\n",
              "      <td>Alaska</td>\n",
              "      <td>AK</td>\n",
              "      <td>alta</td>\n",
              "    </tr>\n",
              "    <tr>\n",
              "      <th>2</th>\n",
              "      <td>Arizona</td>\n",
              "      <td>AZ</td>\n",
              "      <td>alta</td>\n",
              "    </tr>\n",
              "    <tr>\n",
              "      <th>3</th>\n",
              "      <td>Arkansas</td>\n",
              "      <td>AR</td>\n",
              "      <td>bajo</td>\n",
              "    </tr>\n",
              "    <tr>\n",
              "      <th>4</th>\n",
              "      <td>California</td>\n",
              "      <td>CA</td>\n",
              "      <td>alta</td>\n",
              "    </tr>\n",
              "    <tr>\n",
              "      <th>5</th>\n",
              "      <td>Colorado</td>\n",
              "      <td>CO</td>\n",
              "      <td>alta</td>\n",
              "    </tr>\n",
              "    <tr>\n",
              "      <th>6</th>\n",
              "      <td>Connecticut</td>\n",
              "      <td>CT</td>\n",
              "      <td>medio</td>\n",
              "    </tr>\n",
              "    <tr>\n",
              "      <th>7</th>\n",
              "      <td>Delaware</td>\n",
              "      <td>DE</td>\n",
              "      <td>medio</td>\n",
              "    </tr>\n",
              "    <tr>\n",
              "      <th>8</th>\n",
              "      <td>Florida</td>\n",
              "      <td>FL</td>\n",
              "      <td>alta</td>\n",
              "    </tr>\n",
              "    <tr>\n",
              "      <th>9</th>\n",
              "      <td>Georgia</td>\n",
              "      <td>GA</td>\n",
              "      <td>alta</td>\n",
              "    </tr>\n",
              "    <tr>\n",
              "      <th>10</th>\n",
              "      <td>Hawaii</td>\n",
              "      <td>HI</td>\n",
              "      <td>medio</td>\n",
              "    </tr>\n",
              "    <tr>\n",
              "      <th>11</th>\n",
              "      <td>Idaho</td>\n",
              "      <td>ID</td>\n",
              "      <td>bajo</td>\n",
              "    </tr>\n",
              "    <tr>\n",
              "      <th>12</th>\n",
              "      <td>Illinois</td>\n",
              "      <td>IL</td>\n",
              "      <td>alta</td>\n",
              "    </tr>\n",
              "    <tr>\n",
              "      <th>13</th>\n",
              "      <td>Indiana</td>\n",
              "      <td>IN</td>\n",
              "      <td>medio</td>\n",
              "    </tr>\n",
              "    <tr>\n",
              "      <th>14</th>\n",
              "      <td>Iowa</td>\n",
              "      <td>IA</td>\n",
              "      <td>bajo</td>\n",
              "    </tr>\n",
              "    <tr>\n",
              "      <th>15</th>\n",
              "      <td>Kansas</td>\n",
              "      <td>KS</td>\n",
              "      <td>medio</td>\n",
              "    </tr>\n",
              "    <tr>\n",
              "      <th>16</th>\n",
              "      <td>Kentucky</td>\n",
              "      <td>KY</td>\n",
              "      <td>bajo</td>\n",
              "    </tr>\n",
              "    <tr>\n",
              "      <th>17</th>\n",
              "      <td>Louisiana</td>\n",
              "      <td>LA</td>\n",
              "      <td>alta</td>\n",
              "    </tr>\n",
              "    <tr>\n",
              "      <th>18</th>\n",
              "      <td>Maine</td>\n",
              "      <td>ME</td>\n",
              "      <td>bajo</td>\n",
              "    </tr>\n",
              "    <tr>\n",
              "      <th>19</th>\n",
              "      <td>Maryland</td>\n",
              "      <td>MD</td>\n",
              "      <td>alta</td>\n",
              "    </tr>\n",
              "    <tr>\n",
              "      <th>20</th>\n",
              "      <td>Massachusetts</td>\n",
              "      <td>MA</td>\n",
              "      <td>medio</td>\n",
              "    </tr>\n",
              "    <tr>\n",
              "      <th>21</th>\n",
              "      <td>Michigan</td>\n",
              "      <td>MI</td>\n",
              "      <td>alta</td>\n",
              "    </tr>\n",
              "    <tr>\n",
              "      <th>22</th>\n",
              "      <td>Minnesota</td>\n",
              "      <td>MN</td>\n",
              "      <td>bajo</td>\n",
              "    </tr>\n",
              "    <tr>\n",
              "      <th>23</th>\n",
              "      <td>Mississippi</td>\n",
              "      <td>MS</td>\n",
              "      <td>alta</td>\n",
              "    </tr>\n",
              "    <tr>\n",
              "      <th>24</th>\n",
              "      <td>Missouri</td>\n",
              "      <td>MO</td>\n",
              "      <td>alta</td>\n",
              "    </tr>\n",
              "    <tr>\n",
              "      <th>25</th>\n",
              "      <td>Montana</td>\n",
              "      <td>MT</td>\n",
              "      <td>bajo</td>\n",
              "    </tr>\n",
              "    <tr>\n",
              "      <th>26</th>\n",
              "      <td>Nebraska</td>\n",
              "      <td>NE</td>\n",
              "      <td>bajo</td>\n",
              "    </tr>\n",
              "    <tr>\n",
              "      <th>27</th>\n",
              "      <td>Nevada</td>\n",
              "      <td>NV</td>\n",
              "      <td>alta</td>\n",
              "    </tr>\n",
              "    <tr>\n",
              "      <th>28</th>\n",
              "      <td>New Hampshire</td>\n",
              "      <td>NH</td>\n",
              "      <td>bajo</td>\n",
              "    </tr>\n",
              "    <tr>\n",
              "      <th>29</th>\n",
              "      <td>New Jersey</td>\n",
              "      <td>NJ</td>\n",
              "      <td>medio</td>\n",
              "    </tr>\n",
              "    <tr>\n",
              "      <th>30</th>\n",
              "      <td>New Mexico</td>\n",
              "      <td>NM</td>\n",
              "      <td>alta</td>\n",
              "    </tr>\n",
              "    <tr>\n",
              "      <th>31</th>\n",
              "      <td>New York</td>\n",
              "      <td>NY</td>\n",
              "      <td>alta</td>\n",
              "    </tr>\n",
              "    <tr>\n",
              "      <th>32</th>\n",
              "      <td>North Carolina</td>\n",
              "      <td>NC</td>\n",
              "      <td>alta</td>\n",
              "    </tr>\n",
              "    <tr>\n",
              "      <th>33</th>\n",
              "      <td>North Dakota</td>\n",
              "      <td>ND</td>\n",
              "      <td>bajo</td>\n",
              "    </tr>\n",
              "    <tr>\n",
              "      <th>34</th>\n",
              "      <td>Ohio</td>\n",
              "      <td>OH</td>\n",
              "      <td>medio</td>\n",
              "    </tr>\n",
              "    <tr>\n",
              "      <th>35</th>\n",
              "      <td>Oklahoma</td>\n",
              "      <td>OK</td>\n",
              "      <td>medio</td>\n",
              "    </tr>\n",
              "    <tr>\n",
              "      <th>36</th>\n",
              "      <td>Oregon</td>\n",
              "      <td>OR</td>\n",
              "      <td>medio</td>\n",
              "    </tr>\n",
              "    <tr>\n",
              "      <th>37</th>\n",
              "      <td>Pennsylvania</td>\n",
              "      <td>PA</td>\n",
              "      <td>medio</td>\n",
              "    </tr>\n",
              "    <tr>\n",
              "      <th>38</th>\n",
              "      <td>Rhode Island</td>\n",
              "      <td>RI</td>\n",
              "      <td>medio</td>\n",
              "    </tr>\n",
              "    <tr>\n",
              "      <th>39</th>\n",
              "      <td>South Carolina</td>\n",
              "      <td>SC</td>\n",
              "      <td>alta</td>\n",
              "    </tr>\n",
              "    <tr>\n",
              "      <th>40</th>\n",
              "      <td>South Dakota</td>\n",
              "      <td>SD</td>\n",
              "      <td>bajo</td>\n",
              "    </tr>\n",
              "    <tr>\n",
              "      <th>41</th>\n",
              "      <td>Tennessee</td>\n",
              "      <td>TN</td>\n",
              "      <td>alta</td>\n",
              "    </tr>\n",
              "    <tr>\n",
              "      <th>42</th>\n",
              "      <td>Texas</td>\n",
              "      <td>TX</td>\n",
              "      <td>alta</td>\n",
              "    </tr>\n",
              "    <tr>\n",
              "      <th>43</th>\n",
              "      <td>Utah</td>\n",
              "      <td>UT</td>\n",
              "      <td>medio</td>\n",
              "    </tr>\n",
              "    <tr>\n",
              "      <th>44</th>\n",
              "      <td>Vermont</td>\n",
              "      <td>VT</td>\n",
              "      <td>bajo</td>\n",
              "    </tr>\n",
              "    <tr>\n",
              "      <th>45</th>\n",
              "      <td>Virginia</td>\n",
              "      <td>VA</td>\n",
              "      <td>medio</td>\n",
              "    </tr>\n",
              "    <tr>\n",
              "      <th>46</th>\n",
              "      <td>Washington</td>\n",
              "      <td>WA</td>\n",
              "      <td>medio</td>\n",
              "    </tr>\n",
              "    <tr>\n",
              "      <th>47</th>\n",
              "      <td>West Virginia</td>\n",
              "      <td>WV</td>\n",
              "      <td>bajo</td>\n",
              "    </tr>\n",
              "    <tr>\n",
              "      <th>48</th>\n",
              "      <td>Wisconsin</td>\n",
              "      <td>WI</td>\n",
              "      <td>bajo</td>\n",
              "    </tr>\n",
              "    <tr>\n",
              "      <th>49</th>\n",
              "      <td>Wyoming</td>\n",
              "      <td>WY</td>\n",
              "      <td>medio</td>\n",
              "    </tr>\n",
              "  </tbody>\n",
              "</table>\n",
              "</div>"
            ],
            "text/plain": [
              "            Estado Abreviatura Peligrosidad\n",
              "0          Alabama          AL         alta\n",
              "1           Alaska          AK         alta\n",
              "2          Arizona          AZ         alta\n",
              "3         Arkansas          AR         bajo\n",
              "4       California          CA         alta\n",
              "5         Colorado          CO         alta\n",
              "6      Connecticut          CT        medio\n",
              "7         Delaware          DE        medio\n",
              "8          Florida          FL         alta\n",
              "9          Georgia          GA         alta\n",
              "10          Hawaii          HI        medio\n",
              "11           Idaho          ID         bajo\n",
              "12        Illinois          IL         alta\n",
              "13         Indiana          IN        medio\n",
              "14            Iowa          IA         bajo\n",
              "15          Kansas          KS        medio\n",
              "16        Kentucky          KY         bajo\n",
              "17       Louisiana          LA         alta\n",
              "18           Maine          ME         bajo\n",
              "19        Maryland          MD         alta\n",
              "20   Massachusetts          MA        medio\n",
              "21        Michigan          MI         alta\n",
              "22       Minnesota          MN         bajo\n",
              "23     Mississippi          MS         alta\n",
              "24        Missouri          MO         alta\n",
              "25         Montana          MT         bajo\n",
              "26        Nebraska          NE         bajo\n",
              "27          Nevada          NV         alta\n",
              "28   New Hampshire          NH         bajo\n",
              "29      New Jersey          NJ        medio\n",
              "30      New Mexico          NM         alta\n",
              "31        New York          NY         alta\n",
              "32  North Carolina          NC         alta\n",
              "33    North Dakota          ND         bajo\n",
              "34            Ohio          OH        medio\n",
              "35        Oklahoma          OK        medio\n",
              "36          Oregon          OR        medio\n",
              "37    Pennsylvania          PA        medio\n",
              "38    Rhode Island          RI        medio\n",
              "39  South Carolina          SC         alta\n",
              "40    South Dakota          SD         bajo\n",
              "41       Tennessee          TN         alta\n",
              "42           Texas          TX         alta\n",
              "43            Utah          UT        medio\n",
              "44         Vermont          VT         bajo\n",
              "45        Virginia          VA        medio\n",
              "46      Washington          WA        medio\n",
              "47   West Virginia          WV         bajo\n",
              "48       Wisconsin          WI         bajo\n",
              "49         Wyoming          WY        medio"
            ]
          },
          "execution_count": 20,
          "metadata": {},
          "output_type": "execute_result"
        }
      ],
      "source": [
        "df_estados"
      ]
    },
    {
      "cell_type": "code",
      "execution_count": 21,
      "metadata": {},
      "outputs": [],
      "source": [
        "df[\"Estado_Abre\"]=df_estados[[\"Abreviatura\"]]"
      ]
    },
    {
      "cell_type": "code",
      "execution_count": 22,
      "metadata": {},
      "outputs": [
        {
          "data": {
            "text/html": [
              "<div>\n",
              "<style scoped>\n",
              "    .dataframe tbody tr th:only-of-type {\n",
              "        vertical-align: middle;\n",
              "    }\n",
              "\n",
              "    .dataframe tbody tr th {\n",
              "        vertical-align: top;\n",
              "    }\n",
              "\n",
              "    .dataframe thead th {\n",
              "        text-align: right;\n",
              "    }\n",
              "</style>\n",
              "<table border=\"1\" class=\"dataframe\">\n",
              "  <thead>\n",
              "    <tr style=\"text-align: right;\">\n",
              "      <th></th>\n",
              "      <th>Estado</th>\n",
              "      <th>Asesinatos</th>\n",
              "      <th>Asaltos</th>\n",
              "      <th>Poblacion Urbana</th>\n",
              "      <th>Violaciones</th>\n",
              "      <th>Cluster</th>\n",
              "      <th>Categoria</th>\n",
              "      <th>Estado_Abre</th>\n",
              "    </tr>\n",
              "  </thead>\n",
              "  <tbody>\n",
              "    <tr>\n",
              "      <th>0</th>\n",
              "      <td>Alabama</td>\n",
              "      <td>13.2</td>\n",
              "      <td>236</td>\n",
              "      <td>58</td>\n",
              "      <td>21.2</td>\n",
              "      <td>0</td>\n",
              "      <td>alta</td>\n",
              "      <td>AL</td>\n",
              "    </tr>\n",
              "    <tr>\n",
              "      <th>1</th>\n",
              "      <td>Alaska</td>\n",
              "      <td>10.0</td>\n",
              "      <td>263</td>\n",
              "      <td>48</td>\n",
              "      <td>44.5</td>\n",
              "      <td>0</td>\n",
              "      <td>alta</td>\n",
              "      <td>AK</td>\n",
              "    </tr>\n",
              "    <tr>\n",
              "      <th>2</th>\n",
              "      <td>Arizona</td>\n",
              "      <td>8.1</td>\n",
              "      <td>294</td>\n",
              "      <td>80</td>\n",
              "      <td>31.0</td>\n",
              "      <td>0</td>\n",
              "      <td>alta</td>\n",
              "      <td>AZ</td>\n",
              "    </tr>\n",
              "    <tr>\n",
              "      <th>3</th>\n",
              "      <td>Arkansas</td>\n",
              "      <td>8.8</td>\n",
              "      <td>190</td>\n",
              "      <td>50</td>\n",
              "      <td>19.5</td>\n",
              "      <td>2</td>\n",
              "      <td>bajo</td>\n",
              "      <td>AR</td>\n",
              "    </tr>\n",
              "    <tr>\n",
              "      <th>4</th>\n",
              "      <td>California</td>\n",
              "      <td>9.0</td>\n",
              "      <td>276</td>\n",
              "      <td>91</td>\n",
              "      <td>40.6</td>\n",
              "      <td>0</td>\n",
              "      <td>alta</td>\n",
              "      <td>CA</td>\n",
              "    </tr>\n",
              "    <tr>\n",
              "      <th>5</th>\n",
              "      <td>Colorado</td>\n",
              "      <td>7.9</td>\n",
              "      <td>204</td>\n",
              "      <td>78</td>\n",
              "      <td>38.7</td>\n",
              "      <td>0</td>\n",
              "      <td>alta</td>\n",
              "      <td>CO</td>\n",
              "    </tr>\n",
              "    <tr>\n",
              "      <th>6</th>\n",
              "      <td>Connecticut</td>\n",
              "      <td>3.3</td>\n",
              "      <td>110</td>\n",
              "      <td>77</td>\n",
              "      <td>11.1</td>\n",
              "      <td>1</td>\n",
              "      <td>medio</td>\n",
              "      <td>CT</td>\n",
              "    </tr>\n",
              "    <tr>\n",
              "      <th>7</th>\n",
              "      <td>Delaware</td>\n",
              "      <td>5.9</td>\n",
              "      <td>238</td>\n",
              "      <td>72</td>\n",
              "      <td>15.8</td>\n",
              "      <td>1</td>\n",
              "      <td>medio</td>\n",
              "      <td>DE</td>\n",
              "    </tr>\n",
              "    <tr>\n",
              "      <th>8</th>\n",
              "      <td>Florida</td>\n",
              "      <td>15.4</td>\n",
              "      <td>335</td>\n",
              "      <td>80</td>\n",
              "      <td>31.9</td>\n",
              "      <td>0</td>\n",
              "      <td>alta</td>\n",
              "      <td>FL</td>\n",
              "    </tr>\n",
              "    <tr>\n",
              "      <th>9</th>\n",
              "      <td>Georgia</td>\n",
              "      <td>17.4</td>\n",
              "      <td>211</td>\n",
              "      <td>60</td>\n",
              "      <td>25.8</td>\n",
              "      <td>0</td>\n",
              "      <td>alta</td>\n",
              "      <td>GA</td>\n",
              "    </tr>\n",
              "    <tr>\n",
              "      <th>10</th>\n",
              "      <td>Hawaii</td>\n",
              "      <td>5.3</td>\n",
              "      <td>46</td>\n",
              "      <td>83</td>\n",
              "      <td>20.2</td>\n",
              "      <td>1</td>\n",
              "      <td>medio</td>\n",
              "      <td>HI</td>\n",
              "    </tr>\n",
              "    <tr>\n",
              "      <th>11</th>\n",
              "      <td>Idaho</td>\n",
              "      <td>2.6</td>\n",
              "      <td>120</td>\n",
              "      <td>54</td>\n",
              "      <td>14.2</td>\n",
              "      <td>2</td>\n",
              "      <td>bajo</td>\n",
              "      <td>ID</td>\n",
              "    </tr>\n",
              "    <tr>\n",
              "      <th>12</th>\n",
              "      <td>Illinois</td>\n",
              "      <td>10.4</td>\n",
              "      <td>249</td>\n",
              "      <td>83</td>\n",
              "      <td>24.0</td>\n",
              "      <td>0</td>\n",
              "      <td>alta</td>\n",
              "      <td>IL</td>\n",
              "    </tr>\n",
              "    <tr>\n",
              "      <th>13</th>\n",
              "      <td>Indiana</td>\n",
              "      <td>7.2</td>\n",
              "      <td>113</td>\n",
              "      <td>65</td>\n",
              "      <td>21.0</td>\n",
              "      <td>1</td>\n",
              "      <td>medio</td>\n",
              "      <td>IN</td>\n",
              "    </tr>\n",
              "    <tr>\n",
              "      <th>14</th>\n",
              "      <td>Iowa</td>\n",
              "      <td>2.2</td>\n",
              "      <td>56</td>\n",
              "      <td>57</td>\n",
              "      <td>11.3</td>\n",
              "      <td>2</td>\n",
              "      <td>bajo</td>\n",
              "      <td>IA</td>\n",
              "    </tr>\n",
              "    <tr>\n",
              "      <th>15</th>\n",
              "      <td>Kansas</td>\n",
              "      <td>6.0</td>\n",
              "      <td>115</td>\n",
              "      <td>66</td>\n",
              "      <td>18.0</td>\n",
              "      <td>1</td>\n",
              "      <td>medio</td>\n",
              "      <td>KS</td>\n",
              "    </tr>\n",
              "    <tr>\n",
              "      <th>16</th>\n",
              "      <td>Kentucky</td>\n",
              "      <td>9.7</td>\n",
              "      <td>109</td>\n",
              "      <td>52</td>\n",
              "      <td>16.3</td>\n",
              "      <td>2</td>\n",
              "      <td>bajo</td>\n",
              "      <td>KY</td>\n",
              "    </tr>\n",
              "    <tr>\n",
              "      <th>17</th>\n",
              "      <td>Louisiana</td>\n",
              "      <td>15.4</td>\n",
              "      <td>249</td>\n",
              "      <td>66</td>\n",
              "      <td>22.2</td>\n",
              "      <td>0</td>\n",
              "      <td>alta</td>\n",
              "      <td>LA</td>\n",
              "    </tr>\n",
              "    <tr>\n",
              "      <th>18</th>\n",
              "      <td>Maine</td>\n",
              "      <td>2.1</td>\n",
              "      <td>83</td>\n",
              "      <td>51</td>\n",
              "      <td>7.8</td>\n",
              "      <td>2</td>\n",
              "      <td>bajo</td>\n",
              "      <td>ME</td>\n",
              "    </tr>\n",
              "    <tr>\n",
              "      <th>19</th>\n",
              "      <td>Maryland</td>\n",
              "      <td>11.3</td>\n",
              "      <td>300</td>\n",
              "      <td>67</td>\n",
              "      <td>27.8</td>\n",
              "      <td>0</td>\n",
              "      <td>alta</td>\n",
              "      <td>MD</td>\n",
              "    </tr>\n",
              "    <tr>\n",
              "      <th>20</th>\n",
              "      <td>Massachusetts</td>\n",
              "      <td>4.4</td>\n",
              "      <td>149</td>\n",
              "      <td>85</td>\n",
              "      <td>16.3</td>\n",
              "      <td>1</td>\n",
              "      <td>medio</td>\n",
              "      <td>MA</td>\n",
              "    </tr>\n",
              "    <tr>\n",
              "      <th>21</th>\n",
              "      <td>Michigan</td>\n",
              "      <td>12.1</td>\n",
              "      <td>255</td>\n",
              "      <td>74</td>\n",
              "      <td>35.1</td>\n",
              "      <td>0</td>\n",
              "      <td>alta</td>\n",
              "      <td>MI</td>\n",
              "    </tr>\n",
              "    <tr>\n",
              "      <th>22</th>\n",
              "      <td>Minnesota</td>\n",
              "      <td>2.7</td>\n",
              "      <td>72</td>\n",
              "      <td>66</td>\n",
              "      <td>14.9</td>\n",
              "      <td>2</td>\n",
              "      <td>bajo</td>\n",
              "      <td>MN</td>\n",
              "    </tr>\n",
              "    <tr>\n",
              "      <th>23</th>\n",
              "      <td>Mississippi</td>\n",
              "      <td>16.1</td>\n",
              "      <td>259</td>\n",
              "      <td>44</td>\n",
              "      <td>17.1</td>\n",
              "      <td>0</td>\n",
              "      <td>alta</td>\n",
              "      <td>MS</td>\n",
              "    </tr>\n",
              "    <tr>\n",
              "      <th>24</th>\n",
              "      <td>Missouri</td>\n",
              "      <td>9.0</td>\n",
              "      <td>178</td>\n",
              "      <td>70</td>\n",
              "      <td>28.2</td>\n",
              "      <td>0</td>\n",
              "      <td>alta</td>\n",
              "      <td>MO</td>\n",
              "    </tr>\n",
              "    <tr>\n",
              "      <th>25</th>\n",
              "      <td>Montana</td>\n",
              "      <td>6.0</td>\n",
              "      <td>109</td>\n",
              "      <td>53</td>\n",
              "      <td>16.4</td>\n",
              "      <td>2</td>\n",
              "      <td>bajo</td>\n",
              "      <td>MT</td>\n",
              "    </tr>\n",
              "    <tr>\n",
              "      <th>26</th>\n",
              "      <td>Nebraska</td>\n",
              "      <td>4.3</td>\n",
              "      <td>102</td>\n",
              "      <td>62</td>\n",
              "      <td>16.5</td>\n",
              "      <td>2</td>\n",
              "      <td>bajo</td>\n",
              "      <td>NE</td>\n",
              "    </tr>\n",
              "    <tr>\n",
              "      <th>27</th>\n",
              "      <td>Nevada</td>\n",
              "      <td>12.2</td>\n",
              "      <td>252</td>\n",
              "      <td>81</td>\n",
              "      <td>46.0</td>\n",
              "      <td>0</td>\n",
              "      <td>alta</td>\n",
              "      <td>NV</td>\n",
              "    </tr>\n",
              "    <tr>\n",
              "      <th>28</th>\n",
              "      <td>New Hampshire</td>\n",
              "      <td>2.1</td>\n",
              "      <td>57</td>\n",
              "      <td>56</td>\n",
              "      <td>9.5</td>\n",
              "      <td>2</td>\n",
              "      <td>bajo</td>\n",
              "      <td>NH</td>\n",
              "    </tr>\n",
              "    <tr>\n",
              "      <th>29</th>\n",
              "      <td>New Jersey</td>\n",
              "      <td>7.4</td>\n",
              "      <td>159</td>\n",
              "      <td>89</td>\n",
              "      <td>18.8</td>\n",
              "      <td>1</td>\n",
              "      <td>medio</td>\n",
              "      <td>NJ</td>\n",
              "    </tr>\n",
              "    <tr>\n",
              "      <th>30</th>\n",
              "      <td>New Mexico</td>\n",
              "      <td>11.4</td>\n",
              "      <td>285</td>\n",
              "      <td>70</td>\n",
              "      <td>32.1</td>\n",
              "      <td>0</td>\n",
              "      <td>alta</td>\n",
              "      <td>NM</td>\n",
              "    </tr>\n",
              "    <tr>\n",
              "      <th>31</th>\n",
              "      <td>New York</td>\n",
              "      <td>11.1</td>\n",
              "      <td>254</td>\n",
              "      <td>86</td>\n",
              "      <td>26.1</td>\n",
              "      <td>0</td>\n",
              "      <td>alta</td>\n",
              "      <td>NY</td>\n",
              "    </tr>\n",
              "    <tr>\n",
              "      <th>32</th>\n",
              "      <td>North Carolina</td>\n",
              "      <td>13.0</td>\n",
              "      <td>337</td>\n",
              "      <td>45</td>\n",
              "      <td>16.1</td>\n",
              "      <td>0</td>\n",
              "      <td>alta</td>\n",
              "      <td>NC</td>\n",
              "    </tr>\n",
              "    <tr>\n",
              "      <th>33</th>\n",
              "      <td>North Dakota</td>\n",
              "      <td>0.8</td>\n",
              "      <td>45</td>\n",
              "      <td>44</td>\n",
              "      <td>7.3</td>\n",
              "      <td>2</td>\n",
              "      <td>bajo</td>\n",
              "      <td>ND</td>\n",
              "    </tr>\n",
              "    <tr>\n",
              "      <th>34</th>\n",
              "      <td>Ohio</td>\n",
              "      <td>7.3</td>\n",
              "      <td>120</td>\n",
              "      <td>75</td>\n",
              "      <td>21.4</td>\n",
              "      <td>1</td>\n",
              "      <td>medio</td>\n",
              "      <td>OH</td>\n",
              "    </tr>\n",
              "    <tr>\n",
              "      <th>35</th>\n",
              "      <td>Oklahoma</td>\n",
              "      <td>6.6</td>\n",
              "      <td>151</td>\n",
              "      <td>68</td>\n",
              "      <td>20.0</td>\n",
              "      <td>1</td>\n",
              "      <td>medio</td>\n",
              "      <td>OK</td>\n",
              "    </tr>\n",
              "    <tr>\n",
              "      <th>36</th>\n",
              "      <td>Oregon</td>\n",
              "      <td>4.9</td>\n",
              "      <td>159</td>\n",
              "      <td>67</td>\n",
              "      <td>29.3</td>\n",
              "      <td>1</td>\n",
              "      <td>medio</td>\n",
              "      <td>OR</td>\n",
              "    </tr>\n",
              "    <tr>\n",
              "      <th>37</th>\n",
              "      <td>Pennsylvania</td>\n",
              "      <td>6.3</td>\n",
              "      <td>106</td>\n",
              "      <td>72</td>\n",
              "      <td>14.9</td>\n",
              "      <td>1</td>\n",
              "      <td>medio</td>\n",
              "      <td>PA</td>\n",
              "    </tr>\n",
              "    <tr>\n",
              "      <th>38</th>\n",
              "      <td>Rhode Island</td>\n",
              "      <td>3.4</td>\n",
              "      <td>174</td>\n",
              "      <td>87</td>\n",
              "      <td>8.3</td>\n",
              "      <td>1</td>\n",
              "      <td>medio</td>\n",
              "      <td>RI</td>\n",
              "    </tr>\n",
              "    <tr>\n",
              "      <th>39</th>\n",
              "      <td>South Carolina</td>\n",
              "      <td>14.4</td>\n",
              "      <td>279</td>\n",
              "      <td>48</td>\n",
              "      <td>22.5</td>\n",
              "      <td>0</td>\n",
              "      <td>alta</td>\n",
              "      <td>SC</td>\n",
              "    </tr>\n",
              "    <tr>\n",
              "      <th>40</th>\n",
              "      <td>South Dakota</td>\n",
              "      <td>3.8</td>\n",
              "      <td>86</td>\n",
              "      <td>45</td>\n",
              "      <td>12.8</td>\n",
              "      <td>2</td>\n",
              "      <td>bajo</td>\n",
              "      <td>SD</td>\n",
              "    </tr>\n",
              "    <tr>\n",
              "      <th>41</th>\n",
              "      <td>Tennessee</td>\n",
              "      <td>13.2</td>\n",
              "      <td>188</td>\n",
              "      <td>59</td>\n",
              "      <td>26.9</td>\n",
              "      <td>0</td>\n",
              "      <td>alta</td>\n",
              "      <td>TN</td>\n",
              "    </tr>\n",
              "    <tr>\n",
              "      <th>42</th>\n",
              "      <td>Texas</td>\n",
              "      <td>12.7</td>\n",
              "      <td>201</td>\n",
              "      <td>80</td>\n",
              "      <td>25.5</td>\n",
              "      <td>0</td>\n",
              "      <td>alta</td>\n",
              "      <td>TX</td>\n",
              "    </tr>\n",
              "    <tr>\n",
              "      <th>43</th>\n",
              "      <td>Utah</td>\n",
              "      <td>3.2</td>\n",
              "      <td>120</td>\n",
              "      <td>80</td>\n",
              "      <td>22.9</td>\n",
              "      <td>1</td>\n",
              "      <td>medio</td>\n",
              "      <td>UT</td>\n",
              "    </tr>\n",
              "    <tr>\n",
              "      <th>44</th>\n",
              "      <td>Vermont</td>\n",
              "      <td>2.2</td>\n",
              "      <td>48</td>\n",
              "      <td>32</td>\n",
              "      <td>11.2</td>\n",
              "      <td>2</td>\n",
              "      <td>bajo</td>\n",
              "      <td>VT</td>\n",
              "    </tr>\n",
              "    <tr>\n",
              "      <th>45</th>\n",
              "      <td>Virginia</td>\n",
              "      <td>8.5</td>\n",
              "      <td>156</td>\n",
              "      <td>63</td>\n",
              "      <td>20.7</td>\n",
              "      <td>1</td>\n",
              "      <td>medio</td>\n",
              "      <td>VA</td>\n",
              "    </tr>\n",
              "    <tr>\n",
              "      <th>46</th>\n",
              "      <td>Washington</td>\n",
              "      <td>4.0</td>\n",
              "      <td>145</td>\n",
              "      <td>73</td>\n",
              "      <td>26.2</td>\n",
              "      <td>1</td>\n",
              "      <td>medio</td>\n",
              "      <td>WA</td>\n",
              "    </tr>\n",
              "    <tr>\n",
              "      <th>47</th>\n",
              "      <td>West Virginia</td>\n",
              "      <td>5.7</td>\n",
              "      <td>81</td>\n",
              "      <td>39</td>\n",
              "      <td>9.3</td>\n",
              "      <td>2</td>\n",
              "      <td>bajo</td>\n",
              "      <td>WV</td>\n",
              "    </tr>\n",
              "    <tr>\n",
              "      <th>48</th>\n",
              "      <td>Wisconsin</td>\n",
              "      <td>2.6</td>\n",
              "      <td>53</td>\n",
              "      <td>66</td>\n",
              "      <td>10.8</td>\n",
              "      <td>2</td>\n",
              "      <td>bajo</td>\n",
              "      <td>WI</td>\n",
              "    </tr>\n",
              "    <tr>\n",
              "      <th>49</th>\n",
              "      <td>Wyoming</td>\n",
              "      <td>6.8</td>\n",
              "      <td>161</td>\n",
              "      <td>60</td>\n",
              "      <td>15.6</td>\n",
              "      <td>1</td>\n",
              "      <td>medio</td>\n",
              "      <td>WY</td>\n",
              "    </tr>\n",
              "  </tbody>\n",
              "</table>\n",
              "</div>"
            ],
            "text/plain": [
              "            Estado  Asesinatos  Asaltos  Poblacion Urbana  Violaciones  \\\n",
              "0          Alabama        13.2      236                58         21.2   \n",
              "1           Alaska        10.0      263                48         44.5   \n",
              "2          Arizona         8.1      294                80         31.0   \n",
              "3         Arkansas         8.8      190                50         19.5   \n",
              "4       California         9.0      276                91         40.6   \n",
              "5         Colorado         7.9      204                78         38.7   \n",
              "6      Connecticut         3.3      110                77         11.1   \n",
              "7         Delaware         5.9      238                72         15.8   \n",
              "8          Florida        15.4      335                80         31.9   \n",
              "9          Georgia        17.4      211                60         25.8   \n",
              "10          Hawaii         5.3       46                83         20.2   \n",
              "11           Idaho         2.6      120                54         14.2   \n",
              "12        Illinois        10.4      249                83         24.0   \n",
              "13         Indiana         7.2      113                65         21.0   \n",
              "14            Iowa         2.2       56                57         11.3   \n",
              "15          Kansas         6.0      115                66         18.0   \n",
              "16        Kentucky         9.7      109                52         16.3   \n",
              "17       Louisiana        15.4      249                66         22.2   \n",
              "18           Maine         2.1       83                51          7.8   \n",
              "19        Maryland        11.3      300                67         27.8   \n",
              "20   Massachusetts         4.4      149                85         16.3   \n",
              "21        Michigan        12.1      255                74         35.1   \n",
              "22       Minnesota         2.7       72                66         14.9   \n",
              "23     Mississippi        16.1      259                44         17.1   \n",
              "24        Missouri         9.0      178                70         28.2   \n",
              "25         Montana         6.0      109                53         16.4   \n",
              "26        Nebraska         4.3      102                62         16.5   \n",
              "27          Nevada        12.2      252                81         46.0   \n",
              "28   New Hampshire         2.1       57                56          9.5   \n",
              "29      New Jersey         7.4      159                89         18.8   \n",
              "30      New Mexico        11.4      285                70         32.1   \n",
              "31        New York        11.1      254                86         26.1   \n",
              "32  North Carolina        13.0      337                45         16.1   \n",
              "33    North Dakota         0.8       45                44          7.3   \n",
              "34            Ohio         7.3      120                75         21.4   \n",
              "35        Oklahoma         6.6      151                68         20.0   \n",
              "36          Oregon         4.9      159                67         29.3   \n",
              "37    Pennsylvania         6.3      106                72         14.9   \n",
              "38    Rhode Island         3.4      174                87          8.3   \n",
              "39  South Carolina        14.4      279                48         22.5   \n",
              "40    South Dakota         3.8       86                45         12.8   \n",
              "41       Tennessee        13.2      188                59         26.9   \n",
              "42           Texas        12.7      201                80         25.5   \n",
              "43            Utah         3.2      120                80         22.9   \n",
              "44         Vermont         2.2       48                32         11.2   \n",
              "45        Virginia         8.5      156                63         20.7   \n",
              "46      Washington         4.0      145                73         26.2   \n",
              "47   West Virginia         5.7       81                39          9.3   \n",
              "48       Wisconsin         2.6       53                66         10.8   \n",
              "49         Wyoming         6.8      161                60         15.6   \n",
              "\n",
              "    Cluster Categoria Estado_Abre  \n",
              "0         0      alta          AL  \n",
              "1         0      alta          AK  \n",
              "2         0      alta          AZ  \n",
              "3         2      bajo          AR  \n",
              "4         0      alta          CA  \n",
              "5         0      alta          CO  \n",
              "6         1     medio          CT  \n",
              "7         1     medio          DE  \n",
              "8         0      alta          FL  \n",
              "9         0      alta          GA  \n",
              "10        1     medio          HI  \n",
              "11        2      bajo          ID  \n",
              "12        0      alta          IL  \n",
              "13        1     medio          IN  \n",
              "14        2      bajo          IA  \n",
              "15        1     medio          KS  \n",
              "16        2      bajo          KY  \n",
              "17        0      alta          LA  \n",
              "18        2      bajo          ME  \n",
              "19        0      alta          MD  \n",
              "20        1     medio          MA  \n",
              "21        0      alta          MI  \n",
              "22        2      bajo          MN  \n",
              "23        0      alta          MS  \n",
              "24        0      alta          MO  \n",
              "25        2      bajo          MT  \n",
              "26        2      bajo          NE  \n",
              "27        0      alta          NV  \n",
              "28        2      bajo          NH  \n",
              "29        1     medio          NJ  \n",
              "30        0      alta          NM  \n",
              "31        0      alta          NY  \n",
              "32        0      alta          NC  \n",
              "33        2      bajo          ND  \n",
              "34        1     medio          OH  \n",
              "35        1     medio          OK  \n",
              "36        1     medio          OR  \n",
              "37        1     medio          PA  \n",
              "38        1     medio          RI  \n",
              "39        0      alta          SC  \n",
              "40        2      bajo          SD  \n",
              "41        0      alta          TN  \n",
              "42        0      alta          TX  \n",
              "43        1     medio          UT  \n",
              "44        2      bajo          VT  \n",
              "45        1     medio          VA  \n",
              "46        1     medio          WA  \n",
              "47        2      bajo          WV  \n",
              "48        2      bajo          WI  \n",
              "49        1     medio          WY  "
            ]
          },
          "execution_count": 22,
          "metadata": {},
          "output_type": "execute_result"
        }
      ],
      "source": [
        "df"
      ]
    },
    {
      "cell_type": "markdown",
      "metadata": {},
      "source": [
        "----------------------------------------------------------------------------------------------------------------------------------------------------------------------------"
      ]
    },
    {
      "cell_type": "markdown",
      "metadata": {},
      "source": [
        "EN ESTE PUNTO SE REALIZA DE OTRA MANERA.\n",
        "Se analiza cada tipo de crimen por separado en relación a la Poblacion Urbana"
      ]
    },
    {
      "cell_type": "markdown",
      "metadata": {},
      "source": [
        "1) ASALTOS "
      ]
    },
    {
      "cell_type": "markdown",
      "metadata": {},
      "source": [
        "Se genera un df con Asaltos y Poblacion"
      ]
    },
    {
      "cell_type": "code",
      "execution_count": 23,
      "metadata": {
        "id": "C7EJsI8Yo_mf"
      },
      "outputs": [],
      "source": [
        " \n",
        "X2=df[[\t\"Asaltos\",\t\"Poblacion Urbana\"]]"
      ]
    },
    {
      "cell_type": "markdown",
      "metadata": {},
      "source": [
        "Escala los datos para que tengan media cero y desviación estándar uno"
      ]
    },
    {
      "cell_type": "code",
      "execution_count": 24,
      "metadata": {
        "id": "2yc_cXI8o_mg"
      },
      "outputs": [],
      "source": [
        "scaler = StandardScaler()\n",
        "X_scaled = scaler.fit_transform(X2)"
      ]
    },
    {
      "cell_type": "markdown",
      "metadata": {},
      "source": [
        "Se busca el número óptimo de clusters utilizando el método del codo"
      ]
    },
    {
      "cell_type": "code",
      "execution_count": 25,
      "metadata": {
        "colab": {
          "base_uri": "https://localhost:8080/",
          "height": 564
        },
        "id": "JcOXvAYno_mg",
        "outputId": "6a22174d-6d51-41b7-9cb6-4560ba464025"
      },
      "outputs": [
        {
          "data": {
            "image/png": "[encoded data removed]",
            "text/plain": [
              "<Figure size 800x600 with 1 Axes>"
            ]
          },
          "metadata": {},
          "output_type": "display_data"
        }
      ],
      "source": [
        "wcss = []\n",
        "for i in range(1, 11):\n",
        "    kmeans = KMeans(n_clusters=i, init='k-means++', max_iter=300, n_init=10, random_state=0)\n",
        "    kmeans.fit(X_scaled)\n",
        "    wcss.append(kmeans.inertia_)\n",
        "\n",
        "# Visualiza el método del codo\n",
        "plt.figure(figsize=(8, 6))\n",
        "plt.plot(range(1, 11), wcss, marker='o', linestyle='--')\n",
        "plt.title('Método del Codo')\n",
        "plt.xlabel('Número de clusters')\n",
        "plt.ylabel('WCSS')  # Within-Cluster-Sum-of-Squares\n",
        "plt.show()"
      ]
    },
    {
      "cell_type": "markdown",
      "metadata": {},
      "source": [
        "Se elige k=3 y se aplica kMeans"
      ]
    },
    {
      "cell_type": "code",
      "execution_count": 26,
      "metadata": {
        "id": "FHAuEG1To_mi"
      },
      "outputs": [],
      "source": [
        "k_optimo = 3 \n",
        "kmeans = KMeans(n_clusters=k_optimo, init='k-means++', max_iter=300, n_init=10, random_state=0)\n",
        "df['Clus_asalto'] = kmeans.fit_predict(X_scaled)\n"
      ]
    },
    {
      "cell_type": "markdown",
      "metadata": {},
      "source": [
        "Se obtienen las estadísticas descriptivas de la columna ASALTOS"
      ]
    },
    {
      "cell_type": "code",
      "execution_count": 27,
      "metadata": {},
      "outputs": [
        {
          "data": {
            "text/html": [
              "<div>\n",
              "<style scoped>\n",
              "    .dataframe tbody tr th:only-of-type {\n",
              "        vertical-align: middle;\n",
              "    }\n",
              "\n",
              "    .dataframe tbody tr th {\n",
              "        vertical-align: top;\n",
              "    }\n",
              "\n",
              "    .dataframe thead th {\n",
              "        text-align: right;\n",
              "    }\n",
              "</style>\n",
              "<table border=\"1\" class=\"dataframe\">\n",
              "  <thead>\n",
              "    <tr style=\"text-align: right;\">\n",
              "      <th></th>\n",
              "      <th>count</th>\n",
              "      <th>mean</th>\n",
              "      <th>std</th>\n",
              "      <th>min</th>\n",
              "      <th>25%</th>\n",
              "      <th>50%</th>\n",
              "      <th>75%</th>\n",
              "      <th>max</th>\n",
              "    </tr>\n",
              "    <tr>\n",
              "      <th>Clus_asalto</th>\n",
              "      <th></th>\n",
              "      <th></th>\n",
              "      <th></th>\n",
              "      <th></th>\n",
              "      <th></th>\n",
              "      <th></th>\n",
              "      <th></th>\n",
              "      <th></th>\n",
              "    </tr>\n",
              "  </thead>\n",
              "  <tbody>\n",
              "    <tr>\n",
              "      <th>0</th>\n",
              "      <td>11.0</td>\n",
              "      <td>254.272727</td>\n",
              "      <td>46.201928</td>\n",
              "      <td>188.0</td>\n",
              "      <td>223.5</td>\n",
              "      <td>259.0</td>\n",
              "      <td>282.00</td>\n",
              "      <td>337.0</td>\n",
              "    </tr>\n",
              "    <tr>\n",
              "      <th>1</th>\n",
              "      <td>17.0</td>\n",
              "      <td>92.117647</td>\n",
              "      <td>35.455751</td>\n",
              "      <td>45.0</td>\n",
              "      <td>57.0</td>\n",
              "      <td>86.0</td>\n",
              "      <td>113.00</td>\n",
              "      <td>161.0</td>\n",
              "    </tr>\n",
              "    <tr>\n",
              "      <th>2</th>\n",
              "      <td>22.0</td>\n",
              "      <td>189.772727</td>\n",
              "      <td>72.059454</td>\n",
              "      <td>46.0</td>\n",
              "      <td>146.0</td>\n",
              "      <td>176.0</td>\n",
              "      <td>251.25</td>\n",
              "      <td>335.0</td>\n",
              "    </tr>\n",
              "  </tbody>\n",
              "</table>\n",
              "</div>"
            ],
            "text/plain": [
              "             count        mean        std    min    25%    50%     75%    max\n",
              "Clus_asalto                                                                  \n",
              "0             11.0  254.272727  46.201928  188.0  223.5  259.0  282.00  337.0\n",
              "1             17.0   92.117647  35.455751   45.0   57.0   86.0  113.00  161.0\n",
              "2             22.0  189.772727  72.059454   46.0  146.0  176.0  251.25  335.0"
            ]
          },
          "execution_count": 27,
          "metadata": {},
          "output_type": "execute_result"
        }
      ],
      "source": [
        "\n",
        "cluster_solo_asaltos = df.groupby('Clus_asalto')['Asaltos'].describe()\n",
        "cluster_solo_asaltos"
      ]
    },
    {
      "cell_type": "markdown",
      "metadata": {},
      "source": [
        "Se separan para tener el mismo tipo de grupo que el analisis anterior, y NORMALIZAR que figuren en el mismo cluster 0=alta 1=media 2=baja"
      ]
    },
    {
      "cell_type": "code",
      "execution_count": 28,
      "metadata": {},
      "outputs": [],
      "source": [
        "grupo_max = cluster_solo_asaltos[cluster_solo_asaltos['mean'] == cluster_solo_asaltos['mean'].max()].index[0]\n",
        "grupo_medio = cluster_solo_asaltos[cluster_solo_asaltos['mean'] == cluster_solo_asaltos['mean'].median()].index[0]\n",
        "grupo_min = cluster_solo_asaltos[cluster_solo_asaltos['mean'] == cluster_solo_asaltos['mean'].min()].index[0]\n",
        "\n",
        "\n",
        "df['Cat_asalto'] = df['Clus_asalto'].apply(lambda x: 'bajo' if x == grupo_min else (\"alta\" if x==grupo_max else \"medio\" ))\n",
        "df['Clus_asalto_nor'] = df['Clus_asalto'].apply(lambda x: 2 if x == grupo_min else (0 if x==grupo_max else 1 ))\n",
        "df.drop('Clus_asalto', axis=1, inplace=True)"
      ]
    },
    {
      "cell_type": "markdown",
      "metadata": {},
      "source": [
        "Se genera un diagrama de caja (boxplot) que representa la distribución estadística de los ASALTOS en diferentes categorías y niveles de clúster. Y manteniendo los colores representativos"
      ]
    },
    {
      "cell_type": "code",
      "execution_count": 29,
      "metadata": {},
      "outputs": [
        {
          "data": {
            "image/png": "[encoded data removed]",
            "text/plain": [
              "<Figure size 640x480 with 1 Axes>"
            ]
          },
          "metadata": {},
          "output_type": "display_data"
        }
      ],
      "source": [
        "sns.boxplot(x=\"Clus_asalto_nor\", y=\"Asaltos\",\n",
        "            hue=\"Cat_asalto\", palette=[\"r\", \"y\",\"g\"],\n",
        "            data=df)\n",
        "sns.despine(offset=10, trim=True)"
      ]
    },
    {
      "cell_type": "markdown",
      "metadata": {},
      "source": [
        "2) ASESINATOS"
      ]
    },
    {
      "cell_type": "markdown",
      "metadata": {},
      "source": [
        "Se genera un df con ASESINATOS y Poblacion"
      ]
    },
    {
      "cell_type": "markdown",
      "metadata": {},
      "source": [
        "mismos pasos anteriores en asalto - para obtener una columna en el df general de los asesinatos normalizados con el k=3"
      ]
    },
    {
      "cell_type": "code",
      "execution_count": 30,
      "metadata": {
        "id": "Y8WCS1q-qltG"
      },
      "outputs": [],
      "source": [
        "\n",
        "X3=df[[\"Asesinatos\", \"Poblacion Urbana\"]]\n",
        "çscaler = StandardScaler()\n",
        "X_scaled = scaler.fit_transform(X3)"
      ]
    },
    {
      "cell_type": "code",
      "execution_count": 31,
      "metadata": {
        "colab": {
          "base_uri": "https://localhost:8080/",
          "height": 564
        },
        "id": "SRp8ZM4ZrQrF",
        "outputId": "5ced77a0-7d7f-4414-8fb1-ece553ac64ef"
      },
      "outputs": [
        {
          "data": {
            "image/png": "[encoded data removed]",
            "text/plain": [
              "<Figure size 800x600 with 1 Axes>"
            ]
          },
          "metadata": {},
          "output_type": "display_data"
        }
      ],
      "source": [
        "wcss = []\n",
        "for i in range(1, 11):\n",
        "    kmeans = KMeans(n_clusters=i, init='k-means++', max_iter=300, n_init=10, random_state=0)\n",
        "    kmeans.fit(X_scaled)\n",
        "    wcss.append(kmeans.inertia_)\n",
        "\n",
        "# Visualiza el método del codo\n",
        "plt.figure(figsize=(8, 6))\n",
        "plt.plot(range(1, 11), wcss, marker='o', linestyle='--')\n",
        "plt.title('Método del Codo')\n",
        "plt.xlabel('Número de clusters')\n",
        "plt.ylabel('WCSS')  # Within-Cluster-Sum-of-Squares\n",
        "plt.show()"
      ]
    },
    {
      "cell_type": "code",
      "execution_count": 32,
      "metadata": {
        "id": "C8MqKRb4raaD"
      },
      "outputs": [],
      "source": [
        "k_optimo = 3# ajusta este valor  método del codo\n",
        "kmeans = KMeans(n_clusters=k_optimo, init='k-means++', max_iter=300, n_init=10, random_state=0)\n",
        "df['Clus_asesinato'] = kmeans.fit_predict(X_scaled)"
      ]
    },
    {
      "cell_type": "code",
      "execution_count": 33,
      "metadata": {},
      "outputs": [],
      "source": [
        "cluster_solo_asesinatos = df.groupby('Clus_asesinato')['Asesinatos'].describe()\n",
        "\n",
        "grupo_max = cluster_solo_asesinatos[cluster_solo_asesinatos['mean'] == cluster_solo_asesinatos['mean'].max()].index[0]\n",
        "grupo_medio = cluster_solo_asesinatos[cluster_solo_asesinatos['mean'] == cluster_solo_asesinatos['mean'].median()].index[0]\n",
        "grupo_min = cluster_solo_asesinatos[cluster_solo_asesinatos['mean'] == cluster_solo_asesinatos['mean'].min()].index[0]\n",
        "\n",
        "\n",
        "df['Cat_asesinato'] = df['Clus_asesinato'].apply(lambda x: 'bajo' if x == grupo_min else (\"alta\" if x==grupo_max else \"medio\" ))\n",
        "df['Clus_asesinato_nor'] = df['Clus_asesinato'].apply(lambda x: 2 if x == grupo_min else (0 if x==grupo_max else 1 ))\n",
        "df.drop('Clus_asesinato', axis=1, inplace=True)"
      ]
    },
    {
      "cell_type": "markdown",
      "metadata": {},
      "source": [
        "Se genera un diagrama de caja (boxplot) que representa la distribución estadística de los ASESINATOS en diferentes categorías y niveles de clúster. Y manteniendo los colores representativos"
      ]
    },
    {
      "cell_type": "code",
      "execution_count": 34,
      "metadata": {},
      "outputs": [
        {
          "data": {
            "image/png": "[encoded data removed]",
            "text/plain": [
              "<Figure size 640x480 with 1 Axes>"
            ]
          },
          "metadata": {},
          "output_type": "display_data"
        }
      ],
      "source": [
        "sns.boxplot(x=\"Clus_asesinato_nor\", y=\"Asesinatos\",\n",
        "            hue=\"Cat_asesinato\", palette=[\"r\", \"y\",\"g\"],\n",
        "            data=df)\n",
        "sns.despine(offset=10, trim=True)\n"
      ]
    },
    {
      "cell_type": "markdown",
      "metadata": {},
      "source": [
        "3) VIOLACIONES"
      ]
    },
    {
      "cell_type": "markdown",
      "metadata": {},
      "source": [
        "Se genera un df con violaciones y población.\n",
        "mismos pasos anteriores en asalto y asesinatos - para obtener una columna en el df general de los asesinatos normalizados con el k=3"
      ]
    },
    {
      "cell_type": "code",
      "execution_count": 35,
      "metadata": {
        "id": "SjXk-35CsWzp"
      },
      "outputs": [],
      "source": [
        "\n",
        "X4=df[[\"Violaciones\", \"Poblacion Urbana\"]]\n",
        "scaler = StandardScaler()\n",
        "X_scaled = scaler.fit_transform(X4)"
      ]
    },
    {
      "cell_type": "code",
      "execution_count": 36,
      "metadata": {
        "colab": {
          "base_uri": "https://localhost:8080/",
          "height": 564
        },
        "id": "aAYshV68tV36",
        "outputId": "765e7682-1f13-4e76-d5be-ae39fcc64640"
      },
      "outputs": [
        {
          "data": {
            "image/png": "[encoded data removed]",
            "text/plain": [
              "<Figure size 800x600 with 1 Axes>"
            ]
          },
          "metadata": {},
          "output_type": "display_data"
        }
      ],
      "source": [
        "\n",
        "wcss = []\n",
        "for i in range(1, 11):\n",
        "    kmeans = KMeans(n_clusters=i, init='k-means++', max_iter=300, n_init=10, random_state=0)\n",
        "    kmeans.fit(X_scaled)\n",
        "    wcss.append(kmeans.inertia_)\n",
        "\n",
        "# Visualiza el método del codo\n",
        "plt.figure(figsize=(8, 6))\n",
        "plt.plot(range(1, 11), wcss, marker='o', linestyle='--')\n",
        "plt.title('Método del Codo')\n",
        "plt.xlabel('Número de clusters')\n",
        "plt.ylabel('WCSS')  # Within-Cluster-Sum-of-Squares\n",
        "plt.show()"
      ]
    },
    {
      "cell_type": "code",
      "execution_count": 37,
      "metadata": {
        "id": "MoVjQoWg5C3f"
      },
      "outputs": [],
      "source": [
        "k_optimo = 3# ajusta este valor  método del codo\n",
        "kmeans = KMeans(n_clusters=k_optimo, init='k-means++', max_iter=300, n_init=10, random_state=0)\n",
        "df['Clus_violacion'] = kmeans.fit_predict(X_scaled)"
      ]
    },
    {
      "cell_type": "markdown",
      "metadata": {},
      "source": [
        "se NORMALIZA para que figuren el mismo numero de cluster en cada categoria"
      ]
    },
    {
      "cell_type": "code",
      "execution_count": 38,
      "metadata": {},
      "outputs": [],
      "source": [
        "cluster_solo_violaciones = df.groupby('Clus_violacion')['Violaciones'].describe()\n",
        "\n",
        "grupo_max = cluster_solo_violaciones[cluster_solo_violaciones['mean'] == cluster_solo_violaciones['mean'].max()].index[0]\n",
        "grupo_medio = cluster_solo_violaciones[cluster_solo_violaciones['mean'] == cluster_solo_violaciones['mean'].median()].index[0]\n",
        "grupo_min = cluster_solo_violaciones[cluster_solo_violaciones['mean'] == cluster_solo_violaciones['mean'].min()].index[0]\n",
        "\n",
        "\n",
        "df['Cat_violacion'] = df['Clus_violacion'].apply(lambda x: 'bajo' if x == grupo_min else (\"alta\" if x==grupo_max else \"medio\" ))\n",
        "df['Clus_violacion_nor'] = df['Clus_violacion'].apply(lambda x: 2 if x == grupo_min else (0 if x==grupo_max else 1 ))\n",
        "df.drop('Clus_violacion', axis=1, inplace=True)"
      ]
    },
    {
      "cell_type": "code",
      "execution_count": 39,
      "metadata": {},
      "outputs": [
        {
          "data": {
            "text/html": [
              "<div>\n",
              "<style scoped>\n",
              "    .dataframe tbody tr th:only-of-type {\n",
              "        vertical-align: middle;\n",
              "    }\n",
              "\n",
              "    .dataframe tbody tr th {\n",
              "        vertical-align: top;\n",
              "    }\n",
              "\n",
              "    .dataframe thead th {\n",
              "        text-align: right;\n",
              "    }\n",
              "</style>\n",
              "<table border=\"1\" class=\"dataframe\">\n",
              "  <thead>\n",
              "    <tr style=\"text-align: right;\">\n",
              "      <th></th>\n",
              "      <th>Estado</th>\n",
              "      <th>Asesinatos</th>\n",
              "      <th>Asaltos</th>\n",
              "      <th>Poblacion Urbana</th>\n",
              "      <th>Violaciones</th>\n",
              "      <th>Cluster</th>\n",
              "      <th>Categoria</th>\n",
              "      <th>Estado_Abre</th>\n",
              "      <th>Cat_asalto</th>\n",
              "      <th>Clus_asalto_nor</th>\n",
              "      <th>Cat_asesinato</th>\n",
              "      <th>Clus_asesinato_nor</th>\n",
              "      <th>Cat_violacion</th>\n",
              "      <th>Clus_violacion_nor</th>\n",
              "    </tr>\n",
              "  </thead>\n",
              "  <tbody>\n",
              "    <tr>\n",
              "      <th>0</th>\n",
              "      <td>Alabama</td>\n",
              "      <td>13.2</td>\n",
              "      <td>236</td>\n",
              "      <td>58</td>\n",
              "      <td>21.2</td>\n",
              "      <td>0</td>\n",
              "      <td>alta</td>\n",
              "      <td>AL</td>\n",
              "      <td>alta</td>\n",
              "      <td>0</td>\n",
              "      <td>alta</td>\n",
              "      <td>0</td>\n",
              "      <td>bajo</td>\n",
              "      <td>2</td>\n",
              "    </tr>\n",
              "    <tr>\n",
              "      <th>1</th>\n",
              "      <td>Alaska</td>\n",
              "      <td>10.0</td>\n",
              "      <td>263</td>\n",
              "      <td>48</td>\n",
              "      <td>44.5</td>\n",
              "      <td>0</td>\n",
              "      <td>alta</td>\n",
              "      <td>AK</td>\n",
              "      <td>alta</td>\n",
              "      <td>0</td>\n",
              "      <td>alta</td>\n",
              "      <td>0</td>\n",
              "      <td>alta</td>\n",
              "      <td>0</td>\n",
              "    </tr>\n",
              "    <tr>\n",
              "      <th>2</th>\n",
              "      <td>Arizona</td>\n",
              "      <td>8.1</td>\n",
              "      <td>294</td>\n",
              "      <td>80</td>\n",
              "      <td>31.0</td>\n",
              "      <td>0</td>\n",
              "      <td>alta</td>\n",
              "      <td>AZ</td>\n",
              "      <td>medio</td>\n",
              "      <td>1</td>\n",
              "      <td>medio</td>\n",
              "      <td>1</td>\n",
              "      <td>alta</td>\n",
              "      <td>0</td>\n",
              "    </tr>\n",
              "    <tr>\n",
              "      <th>3</th>\n",
              "      <td>Arkansas</td>\n",
              "      <td>8.8</td>\n",
              "      <td>190</td>\n",
              "      <td>50</td>\n",
              "      <td>19.5</td>\n",
              "      <td>2</td>\n",
              "      <td>bajo</td>\n",
              "      <td>AR</td>\n",
              "      <td>alta</td>\n",
              "      <td>0</td>\n",
              "      <td>alta</td>\n",
              "      <td>0</td>\n",
              "      <td>bajo</td>\n",
              "      <td>2</td>\n",
              "    </tr>\n",
              "    <tr>\n",
              "      <th>4</th>\n",
              "      <td>California</td>\n",
              "      <td>9.0</td>\n",
              "      <td>276</td>\n",
              "      <td>91</td>\n",
              "      <td>40.6</td>\n",
              "      <td>0</td>\n",
              "      <td>alta</td>\n",
              "      <td>CA</td>\n",
              "      <td>medio</td>\n",
              "      <td>1</td>\n",
              "      <td>medio</td>\n",
              "      <td>1</td>\n",
              "      <td>alta</td>\n",
              "      <td>0</td>\n",
              "    </tr>\n",
              "    <tr>\n",
              "      <th>5</th>\n",
              "      <td>Colorado</td>\n",
              "      <td>7.9</td>\n",
              "      <td>204</td>\n",
              "      <td>78</td>\n",
              "      <td>38.7</td>\n",
              "      <td>0</td>\n",
              "      <td>alta</td>\n",
              "      <td>CO</td>\n",
              "      <td>medio</td>\n",
              "      <td>1</td>\n",
              "      <td>medio</td>\n",
              "      <td>1</td>\n",
              "      <td>alta</td>\n",
              "      <td>0</td>\n",
              "    </tr>\n",
              "    <tr>\n",
              "      <th>6</th>\n",
              "      <td>Connecticut</td>\n",
              "      <td>3.3</td>\n",
              "      <td>110</td>\n",
              "      <td>77</td>\n",
              "      <td>11.1</td>\n",
              "      <td>1</td>\n",
              "      <td>medio</td>\n",
              "      <td>CT</td>\n",
              "      <td>medio</td>\n",
              "      <td>1</td>\n",
              "      <td>medio</td>\n",
              "      <td>1</td>\n",
              "      <td>medio</td>\n",
              "      <td>1</td>\n",
              "    </tr>\n",
              "    <tr>\n",
              "      <th>7</th>\n",
              "      <td>Delaware</td>\n",
              "      <td>5.9</td>\n",
              "      <td>238</td>\n",
              "      <td>72</td>\n",
              "      <td>15.8</td>\n",
              "      <td>1</td>\n",
              "      <td>medio</td>\n",
              "      <td>DE</td>\n",
              "      <td>medio</td>\n",
              "      <td>1</td>\n",
              "      <td>medio</td>\n",
              "      <td>1</td>\n",
              "      <td>medio</td>\n",
              "      <td>1</td>\n",
              "    </tr>\n",
              "    <tr>\n",
              "      <th>8</th>\n",
              "      <td>Florida</td>\n",
              "      <td>15.4</td>\n",
              "      <td>335</td>\n",
              "      <td>80</td>\n",
              "      <td>31.9</td>\n",
              "      <td>0</td>\n",
              "      <td>alta</td>\n",
              "      <td>FL</td>\n",
              "      <td>medio</td>\n",
              "      <td>1</td>\n",
              "      <td>alta</td>\n",
              "      <td>0</td>\n",
              "      <td>alta</td>\n",
              "      <td>0</td>\n",
              "    </tr>\n",
              "    <tr>\n",
              "      <th>9</th>\n",
              "      <td>Georgia</td>\n",
              "      <td>17.4</td>\n",
              "      <td>211</td>\n",
              "      <td>60</td>\n",
              "      <td>25.8</td>\n",
              "      <td>0</td>\n",
              "      <td>alta</td>\n",
              "      <td>GA</td>\n",
              "      <td>alta</td>\n",
              "      <td>0</td>\n",
              "      <td>alta</td>\n",
              "      <td>0</td>\n",
              "      <td>alta</td>\n",
              "      <td>0</td>\n",
              "    </tr>\n",
              "    <tr>\n",
              "      <th>10</th>\n",
              "      <td>Hawaii</td>\n",
              "      <td>5.3</td>\n",
              "      <td>46</td>\n",
              "      <td>83</td>\n",
              "      <td>20.2</td>\n",
              "      <td>1</td>\n",
              "      <td>medio</td>\n",
              "      <td>HI</td>\n",
              "      <td>medio</td>\n",
              "      <td>1</td>\n",
              "      <td>medio</td>\n",
              "      <td>1</td>\n",
              "      <td>medio</td>\n",
              "      <td>1</td>\n",
              "    </tr>\n",
              "    <tr>\n",
              "      <th>11</th>\n",
              "      <td>Idaho</td>\n",
              "      <td>2.6</td>\n",
              "      <td>120</td>\n",
              "      <td>54</td>\n",
              "      <td>14.2</td>\n",
              "      <td>2</td>\n",
              "      <td>bajo</td>\n",
              "      <td>ID</td>\n",
              "      <td>bajo</td>\n",
              "      <td>2</td>\n",
              "      <td>bajo</td>\n",
              "      <td>2</td>\n",
              "      <td>bajo</td>\n",
              "      <td>2</td>\n",
              "    </tr>\n",
              "    <tr>\n",
              "      <th>12</th>\n",
              "      <td>Illinois</td>\n",
              "      <td>10.4</td>\n",
              "      <td>249</td>\n",
              "      <td>83</td>\n",
              "      <td>24.0</td>\n",
              "      <td>0</td>\n",
              "      <td>alta</td>\n",
              "      <td>IL</td>\n",
              "      <td>medio</td>\n",
              "      <td>1</td>\n",
              "      <td>medio</td>\n",
              "      <td>1</td>\n",
              "      <td>medio</td>\n",
              "      <td>1</td>\n",
              "    </tr>\n",
              "    <tr>\n",
              "      <th>13</th>\n",
              "      <td>Indiana</td>\n",
              "      <td>7.2</td>\n",
              "      <td>113</td>\n",
              "      <td>65</td>\n",
              "      <td>21.0</td>\n",
              "      <td>1</td>\n",
              "      <td>medio</td>\n",
              "      <td>IN</td>\n",
              "      <td>bajo</td>\n",
              "      <td>2</td>\n",
              "      <td>medio</td>\n",
              "      <td>1</td>\n",
              "      <td>medio</td>\n",
              "      <td>1</td>\n",
              "    </tr>\n",
              "    <tr>\n",
              "      <th>14</th>\n",
              "      <td>Iowa</td>\n",
              "      <td>2.2</td>\n",
              "      <td>56</td>\n",
              "      <td>57</td>\n",
              "      <td>11.3</td>\n",
              "      <td>2</td>\n",
              "      <td>bajo</td>\n",
              "      <td>IA</td>\n",
              "      <td>bajo</td>\n",
              "      <td>2</td>\n",
              "      <td>bajo</td>\n",
              "      <td>2</td>\n",
              "      <td>bajo</td>\n",
              "      <td>2</td>\n",
              "    </tr>\n",
              "    <tr>\n",
              "      <th>15</th>\n",
              "      <td>Kansas</td>\n",
              "      <td>6.0</td>\n",
              "      <td>115</td>\n",
              "      <td>66</td>\n",
              "      <td>18.0</td>\n",
              "      <td>1</td>\n",
              "      <td>medio</td>\n",
              "      <td>KS</td>\n",
              "      <td>bajo</td>\n",
              "      <td>2</td>\n",
              "      <td>medio</td>\n",
              "      <td>1</td>\n",
              "      <td>medio</td>\n",
              "      <td>1</td>\n",
              "    </tr>\n",
              "    <tr>\n",
              "      <th>16</th>\n",
              "      <td>Kentucky</td>\n",
              "      <td>9.7</td>\n",
              "      <td>109</td>\n",
              "      <td>52</td>\n",
              "      <td>16.3</td>\n",
              "      <td>2</td>\n",
              "      <td>bajo</td>\n",
              "      <td>KY</td>\n",
              "      <td>bajo</td>\n",
              "      <td>2</td>\n",
              "      <td>alta</td>\n",
              "      <td>0</td>\n",
              "      <td>bajo</td>\n",
              "      <td>2</td>\n",
              "    </tr>\n",
              "    <tr>\n",
              "      <th>17</th>\n",
              "      <td>Louisiana</td>\n",
              "      <td>15.4</td>\n",
              "      <td>249</td>\n",
              "      <td>66</td>\n",
              "      <td>22.2</td>\n",
              "      <td>0</td>\n",
              "      <td>alta</td>\n",
              "      <td>LA</td>\n",
              "      <td>alta</td>\n",
              "      <td>0</td>\n",
              "      <td>alta</td>\n",
              "      <td>0</td>\n",
              "      <td>medio</td>\n",
              "      <td>1</td>\n",
              "    </tr>\n",
              "    <tr>\n",
              "      <th>18</th>\n",
              "      <td>Maine</td>\n",
              "      <td>2.1</td>\n",
              "      <td>83</td>\n",
              "      <td>51</td>\n",
              "      <td>7.8</td>\n",
              "      <td>2</td>\n",
              "      <td>bajo</td>\n",
              "      <td>ME</td>\n",
              "      <td>bajo</td>\n",
              "      <td>2</td>\n",
              "      <td>bajo</td>\n",
              "      <td>2</td>\n",
              "      <td>bajo</td>\n",
              "      <td>2</td>\n",
              "    </tr>\n",
              "    <tr>\n",
              "      <th>19</th>\n",
              "      <td>Maryland</td>\n",
              "      <td>11.3</td>\n",
              "      <td>300</td>\n",
              "      <td>67</td>\n",
              "      <td>27.8</td>\n",
              "      <td>0</td>\n",
              "      <td>alta</td>\n",
              "      <td>MD</td>\n",
              "      <td>alta</td>\n",
              "      <td>0</td>\n",
              "      <td>alta</td>\n",
              "      <td>0</td>\n",
              "      <td>alta</td>\n",
              "      <td>0</td>\n",
              "    </tr>\n",
              "    <tr>\n",
              "      <th>20</th>\n",
              "      <td>Massachusetts</td>\n",
              "      <td>4.4</td>\n",
              "      <td>149</td>\n",
              "      <td>85</td>\n",
              "      <td>16.3</td>\n",
              "      <td>1</td>\n",
              "      <td>medio</td>\n",
              "      <td>MA</td>\n",
              "      <td>medio</td>\n",
              "      <td>1</td>\n",
              "      <td>medio</td>\n",
              "      <td>1</td>\n",
              "      <td>medio</td>\n",
              "      <td>1</td>\n",
              "    </tr>\n",
              "    <tr>\n",
              "      <th>21</th>\n",
              "      <td>Michigan</td>\n",
              "      <td>12.1</td>\n",
              "      <td>255</td>\n",
              "      <td>74</td>\n",
              "      <td>35.1</td>\n",
              "      <td>0</td>\n",
              "      <td>alta</td>\n",
              "      <td>MI</td>\n",
              "      <td>medio</td>\n",
              "      <td>1</td>\n",
              "      <td>medio</td>\n",
              "      <td>1</td>\n",
              "      <td>alta</td>\n",
              "      <td>0</td>\n",
              "    </tr>\n",
              "    <tr>\n",
              "      <th>22</th>\n",
              "      <td>Minnesota</td>\n",
              "      <td>2.7</td>\n",
              "      <td>72</td>\n",
              "      <td>66</td>\n",
              "      <td>14.9</td>\n",
              "      <td>2</td>\n",
              "      <td>bajo</td>\n",
              "      <td>MN</td>\n",
              "      <td>bajo</td>\n",
              "      <td>2</td>\n",
              "      <td>bajo</td>\n",
              "      <td>2</td>\n",
              "      <td>medio</td>\n",
              "      <td>1</td>\n",
              "    </tr>\n",
              "    <tr>\n",
              "      <th>23</th>\n",
              "      <td>Mississippi</td>\n",
              "      <td>16.1</td>\n",
              "      <td>259</td>\n",
              "      <td>44</td>\n",
              "      <td>17.1</td>\n",
              "      <td>0</td>\n",
              "      <td>alta</td>\n",
              "      <td>MS</td>\n",
              "      <td>alta</td>\n",
              "      <td>0</td>\n",
              "      <td>alta</td>\n",
              "      <td>0</td>\n",
              "      <td>bajo</td>\n",
              "      <td>2</td>\n",
              "    </tr>\n",
              "    <tr>\n",
              "      <th>24</th>\n",
              "      <td>Missouri</td>\n",
              "      <td>9.0</td>\n",
              "      <td>178</td>\n",
              "      <td>70</td>\n",
              "      <td>28.2</td>\n",
              "      <td>0</td>\n",
              "      <td>alta</td>\n",
              "      <td>MO</td>\n",
              "      <td>medio</td>\n",
              "      <td>1</td>\n",
              "      <td>medio</td>\n",
              "      <td>1</td>\n",
              "      <td>alta</td>\n",
              "      <td>0</td>\n",
              "    </tr>\n",
              "    <tr>\n",
              "      <th>25</th>\n",
              "      <td>Montana</td>\n",
              "      <td>6.0</td>\n",
              "      <td>109</td>\n",
              "      <td>53</td>\n",
              "      <td>16.4</td>\n",
              "      <td>2</td>\n",
              "      <td>bajo</td>\n",
              "      <td>MT</td>\n",
              "      <td>bajo</td>\n",
              "      <td>2</td>\n",
              "      <td>bajo</td>\n",
              "      <td>2</td>\n",
              "      <td>bajo</td>\n",
              "      <td>2</td>\n",
              "    </tr>\n",
              "    <tr>\n",
              "      <th>26</th>\n",
              "      <td>Nebraska</td>\n",
              "      <td>4.3</td>\n",
              "      <td>102</td>\n",
              "      <td>62</td>\n",
              "      <td>16.5</td>\n",
              "      <td>2</td>\n",
              "      <td>bajo</td>\n",
              "      <td>NE</td>\n",
              "      <td>bajo</td>\n",
              "      <td>2</td>\n",
              "      <td>bajo</td>\n",
              "      <td>2</td>\n",
              "      <td>medio</td>\n",
              "      <td>1</td>\n",
              "    </tr>\n",
              "    <tr>\n",
              "      <th>27</th>\n",
              "      <td>Nevada</td>\n",
              "      <td>12.2</td>\n",
              "      <td>252</td>\n",
              "      <td>81</td>\n",
              "      <td>46.0</td>\n",
              "      <td>0</td>\n",
              "      <td>alta</td>\n",
              "      <td>NV</td>\n",
              "      <td>medio</td>\n",
              "      <td>1</td>\n",
              "      <td>medio</td>\n",
              "      <td>1</td>\n",
              "      <td>alta</td>\n",
              "      <td>0</td>\n",
              "    </tr>\n",
              "    <tr>\n",
              "      <th>28</th>\n",
              "      <td>New Hampshire</td>\n",
              "      <td>2.1</td>\n",
              "      <td>57</td>\n",
              "      <td>56</td>\n",
              "      <td>9.5</td>\n",
              "      <td>2</td>\n",
              "      <td>bajo</td>\n",
              "      <td>NH</td>\n",
              "      <td>bajo</td>\n",
              "      <td>2</td>\n",
              "      <td>bajo</td>\n",
              "      <td>2</td>\n",
              "      <td>bajo</td>\n",
              "      <td>2</td>\n",
              "    </tr>\n",
              "    <tr>\n",
              "      <th>29</th>\n",
              "      <td>New Jersey</td>\n",
              "      <td>7.4</td>\n",
              "      <td>159</td>\n",
              "      <td>89</td>\n",
              "      <td>18.8</td>\n",
              "      <td>1</td>\n",
              "      <td>medio</td>\n",
              "      <td>NJ</td>\n",
              "      <td>medio</td>\n",
              "      <td>1</td>\n",
              "      <td>medio</td>\n",
              "      <td>1</td>\n",
              "      <td>medio</td>\n",
              "      <td>1</td>\n",
              "    </tr>\n",
              "    <tr>\n",
              "      <th>30</th>\n",
              "      <td>New Mexico</td>\n",
              "      <td>11.4</td>\n",
              "      <td>285</td>\n",
              "      <td>70</td>\n",
              "      <td>32.1</td>\n",
              "      <td>0</td>\n",
              "      <td>alta</td>\n",
              "      <td>NM</td>\n",
              "      <td>alta</td>\n",
              "      <td>0</td>\n",
              "      <td>alta</td>\n",
              "      <td>0</td>\n",
              "      <td>alta</td>\n",
              "      <td>0</td>\n",
              "    </tr>\n",
              "    <tr>\n",
              "      <th>31</th>\n",
              "      <td>New York</td>\n",
              "      <td>11.1</td>\n",
              "      <td>254</td>\n",
              "      <td>86</td>\n",
              "      <td>26.1</td>\n",
              "      <td>0</td>\n",
              "      <td>alta</td>\n",
              "      <td>NY</td>\n",
              "      <td>medio</td>\n",
              "      <td>1</td>\n",
              "      <td>medio</td>\n",
              "      <td>1</td>\n",
              "      <td>alta</td>\n",
              "      <td>0</td>\n",
              "    </tr>\n",
              "    <tr>\n",
              "      <th>32</th>\n",
              "      <td>North Carolina</td>\n",
              "      <td>13.0</td>\n",
              "      <td>337</td>\n",
              "      <td>45</td>\n",
              "      <td>16.1</td>\n",
              "      <td>0</td>\n",
              "      <td>alta</td>\n",
              "      <td>NC</td>\n",
              "      <td>alta</td>\n",
              "      <td>0</td>\n",
              "      <td>alta</td>\n",
              "      <td>0</td>\n",
              "      <td>bajo</td>\n",
              "      <td>2</td>\n",
              "    </tr>\n",
              "    <tr>\n",
              "      <th>33</th>\n",
              "      <td>North Dakota</td>\n",
              "      <td>0.8</td>\n",
              "      <td>45</td>\n",
              "      <td>44</td>\n",
              "      <td>7.3</td>\n",
              "      <td>2</td>\n",
              "      <td>bajo</td>\n",
              "      <td>ND</td>\n",
              "      <td>bajo</td>\n",
              "      <td>2</td>\n",
              "      <td>bajo</td>\n",
              "      <td>2</td>\n",
              "      <td>bajo</td>\n",
              "      <td>2</td>\n",
              "    </tr>\n",
              "    <tr>\n",
              "      <th>34</th>\n",
              "      <td>Ohio</td>\n",
              "      <td>7.3</td>\n",
              "      <td>120</td>\n",
              "      <td>75</td>\n",
              "      <td>21.4</td>\n",
              "      <td>1</td>\n",
              "      <td>medio</td>\n",
              "      <td>OH</td>\n",
              "      <td>medio</td>\n",
              "      <td>1</td>\n",
              "      <td>medio</td>\n",
              "      <td>1</td>\n",
              "      <td>medio</td>\n",
              "      <td>1</td>\n",
              "    </tr>\n",
              "    <tr>\n",
              "      <th>35</th>\n",
              "      <td>Oklahoma</td>\n",
              "      <td>6.6</td>\n",
              "      <td>151</td>\n",
              "      <td>68</td>\n",
              "      <td>20.0</td>\n",
              "      <td>1</td>\n",
              "      <td>medio</td>\n",
              "      <td>OK</td>\n",
              "      <td>medio</td>\n",
              "      <td>1</td>\n",
              "      <td>medio</td>\n",
              "      <td>1</td>\n",
              "      <td>medio</td>\n",
              "      <td>1</td>\n",
              "    </tr>\n",
              "    <tr>\n",
              "      <th>36</th>\n",
              "      <td>Oregon</td>\n",
              "      <td>4.9</td>\n",
              "      <td>159</td>\n",
              "      <td>67</td>\n",
              "      <td>29.3</td>\n",
              "      <td>1</td>\n",
              "      <td>medio</td>\n",
              "      <td>OR</td>\n",
              "      <td>medio</td>\n",
              "      <td>1</td>\n",
              "      <td>medio</td>\n",
              "      <td>1</td>\n",
              "      <td>alta</td>\n",
              "      <td>0</td>\n",
              "    </tr>\n",
              "    <tr>\n",
              "      <th>37</th>\n",
              "      <td>Pennsylvania</td>\n",
              "      <td>6.3</td>\n",
              "      <td>106</td>\n",
              "      <td>72</td>\n",
              "      <td>14.9</td>\n",
              "      <td>1</td>\n",
              "      <td>medio</td>\n",
              "      <td>PA</td>\n",
              "      <td>medio</td>\n",
              "      <td>1</td>\n",
              "      <td>medio</td>\n",
              "      <td>1</td>\n",
              "      <td>medio</td>\n",
              "      <td>1</td>\n",
              "    </tr>\n",
              "    <tr>\n",
              "      <th>38</th>\n",
              "      <td>Rhode Island</td>\n",
              "      <td>3.4</td>\n",
              "      <td>174</td>\n",
              "      <td>87</td>\n",
              "      <td>8.3</td>\n",
              "      <td>1</td>\n",
              "      <td>medio</td>\n",
              "      <td>RI</td>\n",
              "      <td>medio</td>\n",
              "      <td>1</td>\n",
              "      <td>medio</td>\n",
              "      <td>1</td>\n",
              "      <td>medio</td>\n",
              "      <td>1</td>\n",
              "    </tr>\n",
              "    <tr>\n",
              "      <th>39</th>\n",
              "      <td>South Carolina</td>\n",
              "      <td>14.4</td>\n",
              "      <td>279</td>\n",
              "      <td>48</td>\n",
              "      <td>22.5</td>\n",
              "      <td>0</td>\n",
              "      <td>alta</td>\n",
              "      <td>SC</td>\n",
              "      <td>alta</td>\n",
              "      <td>0</td>\n",
              "      <td>alta</td>\n",
              "      <td>0</td>\n",
              "      <td>bajo</td>\n",
              "      <td>2</td>\n",
              "    </tr>\n",
              "    <tr>\n",
              "      <th>40</th>\n",
              "      <td>South Dakota</td>\n",
              "      <td>3.8</td>\n",
              "      <td>86</td>\n",
              "      <td>45</td>\n",
              "      <td>12.8</td>\n",
              "      <td>2</td>\n",
              "      <td>bajo</td>\n",
              "      <td>SD</td>\n",
              "      <td>bajo</td>\n",
              "      <td>2</td>\n",
              "      <td>bajo</td>\n",
              "      <td>2</td>\n",
              "      <td>bajo</td>\n",
              "      <td>2</td>\n",
              "    </tr>\n",
              "    <tr>\n",
              "      <th>41</th>\n",
              "      <td>Tennessee</td>\n",
              "      <td>13.2</td>\n",
              "      <td>188</td>\n",
              "      <td>59</td>\n",
              "      <td>26.9</td>\n",
              "      <td>0</td>\n",
              "      <td>alta</td>\n",
              "      <td>TN</td>\n",
              "      <td>alta</td>\n",
              "      <td>0</td>\n",
              "      <td>alta</td>\n",
              "      <td>0</td>\n",
              "      <td>alta</td>\n",
              "      <td>0</td>\n",
              "    </tr>\n",
              "    <tr>\n",
              "      <th>42</th>\n",
              "      <td>Texas</td>\n",
              "      <td>12.7</td>\n",
              "      <td>201</td>\n",
              "      <td>80</td>\n",
              "      <td>25.5</td>\n",
              "      <td>0</td>\n",
              "      <td>alta</td>\n",
              "      <td>TX</td>\n",
              "      <td>medio</td>\n",
              "      <td>1</td>\n",
              "      <td>medio</td>\n",
              "      <td>1</td>\n",
              "      <td>alta</td>\n",
              "      <td>0</td>\n",
              "    </tr>\n",
              "    <tr>\n",
              "      <th>43</th>\n",
              "      <td>Utah</td>\n",
              "      <td>3.2</td>\n",
              "      <td>120</td>\n",
              "      <td>80</td>\n",
              "      <td>22.9</td>\n",
              "      <td>1</td>\n",
              "      <td>medio</td>\n",
              "      <td>UT</td>\n",
              "      <td>medio</td>\n",
              "      <td>1</td>\n",
              "      <td>medio</td>\n",
              "      <td>1</td>\n",
              "      <td>medio</td>\n",
              "      <td>1</td>\n",
              "    </tr>\n",
              "    <tr>\n",
              "      <th>44</th>\n",
              "      <td>Vermont</td>\n",
              "      <td>2.2</td>\n",
              "      <td>48</td>\n",
              "      <td>32</td>\n",
              "      <td>11.2</td>\n",
              "      <td>2</td>\n",
              "      <td>bajo</td>\n",
              "      <td>VT</td>\n",
              "      <td>bajo</td>\n",
              "      <td>2</td>\n",
              "      <td>bajo</td>\n",
              "      <td>2</td>\n",
              "      <td>bajo</td>\n",
              "      <td>2</td>\n",
              "    </tr>\n",
              "    <tr>\n",
              "      <th>45</th>\n",
              "      <td>Virginia</td>\n",
              "      <td>8.5</td>\n",
              "      <td>156</td>\n",
              "      <td>63</td>\n",
              "      <td>20.7</td>\n",
              "      <td>1</td>\n",
              "      <td>medio</td>\n",
              "      <td>VA</td>\n",
              "      <td>bajo</td>\n",
              "      <td>2</td>\n",
              "      <td>medio</td>\n",
              "      <td>1</td>\n",
              "      <td>medio</td>\n",
              "      <td>1</td>\n",
              "    </tr>\n",
              "    <tr>\n",
              "      <th>46</th>\n",
              "      <td>Washington</td>\n",
              "      <td>4.0</td>\n",
              "      <td>145</td>\n",
              "      <td>73</td>\n",
              "      <td>26.2</td>\n",
              "      <td>1</td>\n",
              "      <td>medio</td>\n",
              "      <td>WA</td>\n",
              "      <td>medio</td>\n",
              "      <td>1</td>\n",
              "      <td>medio</td>\n",
              "      <td>1</td>\n",
              "      <td>alta</td>\n",
              "      <td>0</td>\n",
              "    </tr>\n",
              "    <tr>\n",
              "      <th>47</th>\n",
              "      <td>West Virginia</td>\n",
              "      <td>5.7</td>\n",
              "      <td>81</td>\n",
              "      <td>39</td>\n",
              "      <td>9.3</td>\n",
              "      <td>2</td>\n",
              "      <td>bajo</td>\n",
              "      <td>WV</td>\n",
              "      <td>bajo</td>\n",
              "      <td>2</td>\n",
              "      <td>bajo</td>\n",
              "      <td>2</td>\n",
              "      <td>bajo</td>\n",
              "      <td>2</td>\n",
              "    </tr>\n",
              "    <tr>\n",
              "      <th>48</th>\n",
              "      <td>Wisconsin</td>\n",
              "      <td>2.6</td>\n",
              "      <td>53</td>\n",
              "      <td>66</td>\n",
              "      <td>10.8</td>\n",
              "      <td>2</td>\n",
              "      <td>bajo</td>\n",
              "      <td>WI</td>\n",
              "      <td>bajo</td>\n",
              "      <td>2</td>\n",
              "      <td>bajo</td>\n",
              "      <td>2</td>\n",
              "      <td>medio</td>\n",
              "      <td>1</td>\n",
              "    </tr>\n",
              "    <tr>\n",
              "      <th>49</th>\n",
              "      <td>Wyoming</td>\n",
              "      <td>6.8</td>\n",
              "      <td>161</td>\n",
              "      <td>60</td>\n",
              "      <td>15.6</td>\n",
              "      <td>1</td>\n",
              "      <td>medio</td>\n",
              "      <td>WY</td>\n",
              "      <td>bajo</td>\n",
              "      <td>2</td>\n",
              "      <td>bajo</td>\n",
              "      <td>2</td>\n",
              "      <td>bajo</td>\n",
              "      <td>2</td>\n",
              "    </tr>\n",
              "  </tbody>\n",
              "</table>\n",
              "</div>"
            ],
            "text/plain": [
              "            Estado  Asesinatos  Asaltos  Poblacion Urbana  Violaciones  \\\n",
              "0          Alabama        13.2      236                58         21.2   \n",
              "1           Alaska        10.0      263                48         44.5   \n",
              "2          Arizona         8.1      294                80         31.0   \n",
              "3         Arkansas         8.8      190                50         19.5   \n",
              "4       California         9.0      276                91         40.6   \n",
              "5         Colorado         7.9      204                78         38.7   \n",
              "6      Connecticut         3.3      110                77         11.1   \n",
              "7         Delaware         5.9      238                72         15.8   \n",
              "8          Florida        15.4      335                80         31.9   \n",
              "9          Georgia        17.4      211                60         25.8   \n",
              "10          Hawaii         5.3       46                83         20.2   \n",
              "11           Idaho         2.6      120                54         14.2   \n",
              "12        Illinois        10.4      249                83         24.0   \n",
              "13         Indiana         7.2      113                65         21.0   \n",
              "14            Iowa         2.2       56                57         11.3   \n",
              "15          Kansas         6.0      115                66         18.0   \n",
              "16        Kentucky         9.7      109                52         16.3   \n",
              "17       Louisiana        15.4      249                66         22.2   \n",
              "18           Maine         2.1       83                51          7.8   \n",
              "19        Maryland        11.3      300                67         27.8   \n",
              "20   Massachusetts         4.4      149                85         16.3   \n",
              "21        Michigan        12.1      255                74         35.1   \n",
              "22       Minnesota         2.7       72                66         14.9   \n",
              "23     Mississippi        16.1      259                44         17.1   \n",
              "24        Missouri         9.0      178                70         28.2   \n",
              "25         Montana         6.0      109                53         16.4   \n",
              "26        Nebraska         4.3      102                62         16.5   \n",
              "27          Nevada        12.2      252                81         46.0   \n",
              "28   New Hampshire         2.1       57                56          9.5   \n",
              "29      New Jersey         7.4      159                89         18.8   \n",
              "30      New Mexico        11.4      285                70         32.1   \n",
              "31        New York        11.1      254                86         26.1   \n",
              "32  North Carolina        13.0      337                45         16.1   \n",
              "33    North Dakota         0.8       45                44          7.3   \n",
              "34            Ohio         7.3      120                75         21.4   \n",
              "35        Oklahoma         6.6      151                68         20.0   \n",
              "36          Oregon         4.9      159                67         29.3   \n",
              "37    Pennsylvania         6.3      106                72         14.9   \n",
              "38    Rhode Island         3.4      174                87          8.3   \n",
              "39  South Carolina        14.4      279                48         22.5   \n",
              "40    South Dakota         3.8       86                45         12.8   \n",
              "41       Tennessee        13.2      188                59         26.9   \n",
              "42           Texas        12.7      201                80         25.5   \n",
              "43            Utah         3.2      120                80         22.9   \n",
              "44         Vermont         2.2       48                32         11.2   \n",
              "45        Virginia         8.5      156                63         20.7   \n",
              "46      Washington         4.0      145                73         26.2   \n",
              "47   West Virginia         5.7       81                39          9.3   \n",
              "48       Wisconsin         2.6       53                66         10.8   \n",
              "49         Wyoming         6.8      161                60         15.6   \n",
              "\n",
              "    Cluster Categoria Estado_Abre Cat_asalto  Clus_asalto_nor Cat_asesinato  \\\n",
              "0         0      alta          AL       alta                0          alta   \n",
              "1         0      alta          AK       alta                0          alta   \n",
              "2         0      alta          AZ      medio                1         medio   \n",
              "3         2      bajo          AR       alta                0          alta   \n",
              "4         0      alta          CA      medio                1         medio   \n",
              "5         0      alta          CO      medio                1         medio   \n",
              "6         1     medio          CT      medio                1         medio   \n",
              "7         1     medio          DE      medio                1         medio   \n",
              "8         0      alta          FL      medio                1          alta   \n",
              "9         0      alta          GA       alta                0          alta   \n",
              "10        1     medio          HI      medio                1         medio   \n",
              "11        2      bajo          ID       bajo                2          bajo   \n",
              "12        0      alta          IL      medio                1         medio   \n",
              "13        1     medio          IN       bajo                2         medio   \n",
              "14        2      bajo          IA       bajo                2          bajo   \n",
              "15        1     medio          KS       bajo                2         medio   \n",
              "16        2      bajo          KY       bajo                2          alta   \n",
              "17        0      alta          LA       alta                0          alta   \n",
              "18        2      bajo          ME       bajo                2          bajo   \n",
              "19        0      alta          MD       alta                0          alta   \n",
              "20        1     medio          MA      medio                1         medio   \n",
              "21        0      alta          MI      medio                1         medio   \n",
              "22        2      bajo          MN       bajo                2          bajo   \n",
              "23        0      alta          MS       alta                0          alta   \n",
              "24        0      alta          MO      medio                1         medio   \n",
              "25        2      bajo          MT       bajo                2          bajo   \n",
              "26        2      bajo          NE       bajo                2          bajo   \n",
              "27        0      alta          NV      medio                1         medio   \n",
              "28        2      bajo          NH       bajo                2          bajo   \n",
              "29        1     medio          NJ      medio                1         medio   \n",
              "30        0      alta          NM       alta                0          alta   \n",
              "31        0      alta          NY      medio                1         medio   \n",
              "32        0      alta          NC       alta                0          alta   \n",
              "33        2      bajo          ND       bajo                2          bajo   \n",
              "34        1     medio          OH      medio                1         medio   \n",
              "35        1     medio          OK      medio                1         medio   \n",
              "36        1     medio          OR      medio                1         medio   \n",
              "37        1     medio          PA      medio                1         medio   \n",
              "38        1     medio          RI      medio                1         medio   \n",
              "39        0      alta          SC       alta                0          alta   \n",
              "40        2      bajo          SD       bajo                2          bajo   \n",
              "41        0      alta          TN       alta                0          alta   \n",
              "42        0      alta          TX      medio                1         medio   \n",
              "43        1     medio          UT      medio                1         medio   \n",
              "44        2      bajo          VT       bajo                2          bajo   \n",
              "45        1     medio          VA       bajo                2         medio   \n",
              "46        1     medio          WA      medio                1         medio   \n",
              "47        2      bajo          WV       bajo                2          bajo   \n",
              "48        2      bajo          WI       bajo                2          bajo   \n",
              "49        1     medio          WY       bajo                2          bajo   \n",
              "\n",
              "    Clus_asesinato_nor Cat_violacion  Clus_violacion_nor  \n",
              "0                    0          bajo                   2  \n",
              "1                    0          alta                   0  \n",
              "2                    1          alta                   0  \n",
              "3                    0          bajo                   2  \n",
              "4                    1          alta                   0  \n",
              "5                    1          alta                   0  \n",
              "6                    1         medio                   1  \n",
              "7                    1         medio                   1  \n",
              "8                    0          alta                   0  \n",
              "9                    0          alta                   0  \n",
              "10                   1         medio                   1  \n",
              "11                   2          bajo                   2  \n",
              "12                   1         medio                   1  \n",
              "13                   1         medio                   1  \n",
              "14                   2          bajo                   2  \n",
              "15                   1         medio                   1  \n",
              "16                   0          bajo                   2  \n",
              "17                   0         medio                   1  \n",
              "18                   2          bajo                   2  \n",
              "19                   0          alta                   0  \n",
              "20                   1         medio                   1  \n",
              "21                   1          alta                   0  \n",
              "22                   2         medio                   1  \n",
              "23                   0          bajo                   2  \n",
              "24                   1          alta                   0  \n",
              "25                   2          bajo                   2  \n",
              "26                   2         medio                   1  \n",
              "27                   1          alta                   0  \n",
              "28                   2          bajo                   2  \n",
              "29                   1         medio                   1  \n",
              "30                   0          alta                   0  \n",
              "31                   1          alta                   0  \n",
              "32                   0          bajo                   2  \n",
              "33                   2          bajo                   2  \n",
              "34                   1         medio                   1  \n",
              "35                   1         medio                   1  \n",
              "36                   1          alta                   0  \n",
              "37                   1         medio                   1  \n",
              "38                   1         medio                   1  \n",
              "39                   0          bajo                   2  \n",
              "40                   2          bajo                   2  \n",
              "41                   0          alta                   0  \n",
              "42                   1          alta                   0  \n",
              "43                   1         medio                   1  \n",
              "44                   2          bajo                   2  \n",
              "45                   1         medio                   1  \n",
              "46                   1          alta                   0  \n",
              "47                   2          bajo                   2  \n",
              "48                   2         medio                   1  \n",
              "49                   2          bajo                   2  "
            ]
          },
          "execution_count": 39,
          "metadata": {},
          "output_type": "execute_result"
        }
      ],
      "source": [
        "df"
      ]
    },
    {
      "cell_type": "code",
      "execution_count": 40,
      "metadata": {},
      "outputs": [
        {
          "data": {
            "text/plain": [
              "<Axes: xlabel='Clus_violacion_nor', ylabel='Violaciones'>"
            ]
          },
          "execution_count": 40,
          "metadata": {},
          "output_type": "execute_result"
        },
        {
          "data": {
            "image/png": "[encoded data removed]",
            "text/plain": [
              "<Figure size 640x480 with 1 Axes>"
            ]
          },
          "metadata": {},
          "output_type": "display_data"
        }
      ],
      "source": [
        "\n",
        "sns.boxplot(x=\"Clus_violacion_nor\", y=\"Violaciones\",\n",
        "            hue=\"Cat_violacion\", palette=[\"r\", \"y\",\"g\"],\n",
        "            data=df)\n",
        "#sns.despine(offset=10, trim=True)"
      ]
    },
    {
      "cell_type": "markdown",
      "metadata": {},
      "source": [
        "------------------------------------------------------------------------------------------------------------------------------------------------------------------------\n",
        "Habiendo analizado cada delito de manera independiente, simamos los resultados, como estan normalizados cada numero de clustes pertenece a una categoria caracteristica:\n",
        "\n",
        "0=alta 1=media 2=baja"
      ]
    },
    {
      "cell_type": "markdown",
      "metadata": {},
      "source": [
        "Se suman los cluster normalizados a una general, de esta manera se obtendran valores de 0 a 6, con los valos mas bajos como mas peligrosos, se divide por 3 para obtener el promedio y de esta manera volver a normalizar el resultado y poder comparar."
      ]
    },
    {
      "cell_type": "code",
      "execution_count": 48,
      "metadata": {},
      "outputs": [
        {
          "data": {
            "text/html": [
              "<div>\n",
              "<style scoped>\n",
              "    .dataframe tbody tr th:only-of-type {\n",
              "        vertical-align: middle;\n",
              "    }\n",
              "\n",
              "    .dataframe tbody tr th {\n",
              "        vertical-align: top;\n",
              "    }\n",
              "\n",
              "    .dataframe thead th {\n",
              "        text-align: right;\n",
              "    }\n",
              "</style>\n",
              "<table border=\"1\" class=\"dataframe\">\n",
              "  <thead>\n",
              "    <tr style=\"text-align: right;\">\n",
              "      <th></th>\n",
              "      <th>Estado</th>\n",
              "      <th>Asesinatos</th>\n",
              "      <th>Asaltos</th>\n",
              "      <th>Poblacion Urbana</th>\n",
              "      <th>Violaciones</th>\n",
              "      <th>Cluster</th>\n",
              "      <th>Categoria</th>\n",
              "      <th>Estado_Abre</th>\n",
              "      <th>Cat_asalto</th>\n",
              "      <th>Clus_asalto_nor</th>\n",
              "      <th>Cat_asesinato</th>\n",
              "      <th>Clus_asesinato_nor</th>\n",
              "      <th>Cat_violacion</th>\n",
              "      <th>Clus_violacion_nor</th>\n",
              "      <th>suma_nor</th>\n",
              "      <th>Cat_suma_crimenes</th>\n",
              "      <th>suma_crimenes_nor</th>\n",
              "    </tr>\n",
              "  </thead>\n",
              "  <tbody>\n",
              "    <tr>\n",
              "      <th>0</th>\n",
              "      <td>Alabama</td>\n",
              "      <td>13.2</td>\n",
              "      <td>236</td>\n",
              "      <td>58</td>\n",
              "      <td>21.2</td>\n",
              "      <td>0</td>\n",
              "      <td>alta</td>\n",
              "      <td>AL</td>\n",
              "      <td>alta</td>\n",
              "      <td>0</td>\n",
              "      <td>alta</td>\n",
              "      <td>0</td>\n",
              "      <td>bajo</td>\n",
              "      <td>2</td>\n",
              "      <td>1</td>\n",
              "      <td>medio</td>\n",
              "      <td>2</td>\n",
              "    </tr>\n",
              "    <tr>\n",
              "      <th>1</th>\n",
              "      <td>Alaska</td>\n",
              "      <td>10.0</td>\n",
              "      <td>263</td>\n",
              "      <td>48</td>\n",
              "      <td>44.5</td>\n",
              "      <td>0</td>\n",
              "      <td>alta</td>\n",
              "      <td>AK</td>\n",
              "      <td>alta</td>\n",
              "      <td>0</td>\n",
              "      <td>alta</td>\n",
              "      <td>0</td>\n",
              "      <td>alta</td>\n",
              "      <td>0</td>\n",
              "      <td>0</td>\n",
              "      <td>alta</td>\n",
              "      <td>0</td>\n",
              "    </tr>\n",
              "    <tr>\n",
              "      <th>2</th>\n",
              "      <td>Arizona</td>\n",
              "      <td>8.1</td>\n",
              "      <td>294</td>\n",
              "      <td>80</td>\n",
              "      <td>31.0</td>\n",
              "      <td>0</td>\n",
              "      <td>alta</td>\n",
              "      <td>AZ</td>\n",
              "      <td>medio</td>\n",
              "      <td>1</td>\n",
              "      <td>medio</td>\n",
              "      <td>1</td>\n",
              "      <td>alta</td>\n",
              "      <td>0</td>\n",
              "      <td>1</td>\n",
              "      <td>medio</td>\n",
              "      <td>2</td>\n",
              "    </tr>\n",
              "    <tr>\n",
              "      <th>3</th>\n",
              "      <td>Arkansas</td>\n",
              "      <td>8.8</td>\n",
              "      <td>190</td>\n",
              "      <td>50</td>\n",
              "      <td>19.5</td>\n",
              "      <td>2</td>\n",
              "      <td>bajo</td>\n",
              "      <td>AR</td>\n",
              "      <td>alta</td>\n",
              "      <td>0</td>\n",
              "      <td>alta</td>\n",
              "      <td>0</td>\n",
              "      <td>bajo</td>\n",
              "      <td>2</td>\n",
              "      <td>1</td>\n",
              "      <td>medio</td>\n",
              "      <td>2</td>\n",
              "    </tr>\n",
              "    <tr>\n",
              "      <th>4</th>\n",
              "      <td>California</td>\n",
              "      <td>9.0</td>\n",
              "      <td>276</td>\n",
              "      <td>91</td>\n",
              "      <td>40.6</td>\n",
              "      <td>0</td>\n",
              "      <td>alta</td>\n",
              "      <td>CA</td>\n",
              "      <td>medio</td>\n",
              "      <td>1</td>\n",
              "      <td>medio</td>\n",
              "      <td>1</td>\n",
              "      <td>alta</td>\n",
              "      <td>0</td>\n",
              "      <td>1</td>\n",
              "      <td>medio</td>\n",
              "      <td>2</td>\n",
              "    </tr>\n",
              "    <tr>\n",
              "      <th>5</th>\n",
              "      <td>Colorado</td>\n",
              "      <td>7.9</td>\n",
              "      <td>204</td>\n",
              "      <td>78</td>\n",
              "      <td>38.7</td>\n",
              "      <td>0</td>\n",
              "      <td>alta</td>\n",
              "      <td>CO</td>\n",
              "      <td>medio</td>\n",
              "      <td>1</td>\n",
              "      <td>medio</td>\n",
              "      <td>1</td>\n",
              "      <td>alta</td>\n",
              "      <td>0</td>\n",
              "      <td>1</td>\n",
              "      <td>medio</td>\n",
              "      <td>2</td>\n",
              "    </tr>\n",
              "    <tr>\n",
              "      <th>6</th>\n",
              "      <td>Connecticut</td>\n",
              "      <td>3.3</td>\n",
              "      <td>110</td>\n",
              "      <td>77</td>\n",
              "      <td>11.1</td>\n",
              "      <td>1</td>\n",
              "      <td>medio</td>\n",
              "      <td>CT</td>\n",
              "      <td>medio</td>\n",
              "      <td>1</td>\n",
              "      <td>medio</td>\n",
              "      <td>1</td>\n",
              "      <td>medio</td>\n",
              "      <td>1</td>\n",
              "      <td>1</td>\n",
              "      <td>medio</td>\n",
              "      <td>3</td>\n",
              "    </tr>\n",
              "    <tr>\n",
              "      <th>7</th>\n",
              "      <td>Delaware</td>\n",
              "      <td>5.9</td>\n",
              "      <td>238</td>\n",
              "      <td>72</td>\n",
              "      <td>15.8</td>\n",
              "      <td>1</td>\n",
              "      <td>medio</td>\n",
              "      <td>DE</td>\n",
              "      <td>medio</td>\n",
              "      <td>1</td>\n",
              "      <td>medio</td>\n",
              "      <td>1</td>\n",
              "      <td>medio</td>\n",
              "      <td>1</td>\n",
              "      <td>1</td>\n",
              "      <td>medio</td>\n",
              "      <td>3</td>\n",
              "    </tr>\n",
              "    <tr>\n",
              "      <th>8</th>\n",
              "      <td>Florida</td>\n",
              "      <td>15.4</td>\n",
              "      <td>335</td>\n",
              "      <td>80</td>\n",
              "      <td>31.9</td>\n",
              "      <td>0</td>\n",
              "      <td>alta</td>\n",
              "      <td>FL</td>\n",
              "      <td>medio</td>\n",
              "      <td>1</td>\n",
              "      <td>alta</td>\n",
              "      <td>0</td>\n",
              "      <td>alta</td>\n",
              "      <td>0</td>\n",
              "      <td>0</td>\n",
              "      <td>alta</td>\n",
              "      <td>1</td>\n",
              "    </tr>\n",
              "    <tr>\n",
              "      <th>9</th>\n",
              "      <td>Georgia</td>\n",
              "      <td>17.4</td>\n",
              "      <td>211</td>\n",
              "      <td>60</td>\n",
              "      <td>25.8</td>\n",
              "      <td>0</td>\n",
              "      <td>alta</td>\n",
              "      <td>GA</td>\n",
              "      <td>alta</td>\n",
              "      <td>0</td>\n",
              "      <td>alta</td>\n",
              "      <td>0</td>\n",
              "      <td>alta</td>\n",
              "      <td>0</td>\n",
              "      <td>0</td>\n",
              "      <td>alta</td>\n",
              "      <td>0</td>\n",
              "    </tr>\n",
              "    <tr>\n",
              "      <th>10</th>\n",
              "      <td>Hawaii</td>\n",
              "      <td>5.3</td>\n",
              "      <td>46</td>\n",
              "      <td>83</td>\n",
              "      <td>20.2</td>\n",
              "      <td>1</td>\n",
              "      <td>medio</td>\n",
              "      <td>HI</td>\n",
              "      <td>medio</td>\n",
              "      <td>1</td>\n",
              "      <td>medio</td>\n",
              "      <td>1</td>\n",
              "      <td>medio</td>\n",
              "      <td>1</td>\n",
              "      <td>1</td>\n",
              "      <td>medio</td>\n",
              "      <td>3</td>\n",
              "    </tr>\n",
              "    <tr>\n",
              "      <th>11</th>\n",
              "      <td>Idaho</td>\n",
              "      <td>2.6</td>\n",
              "      <td>120</td>\n",
              "      <td>54</td>\n",
              "      <td>14.2</td>\n",
              "      <td>2</td>\n",
              "      <td>bajo</td>\n",
              "      <td>ID</td>\n",
              "      <td>bajo</td>\n",
              "      <td>2</td>\n",
              "      <td>bajo</td>\n",
              "      <td>2</td>\n",
              "      <td>bajo</td>\n",
              "      <td>2</td>\n",
              "      <td>2</td>\n",
              "      <td>bajo</td>\n",
              "      <td>6</td>\n",
              "    </tr>\n",
              "    <tr>\n",
              "      <th>12</th>\n",
              "      <td>Illinois</td>\n",
              "      <td>10.4</td>\n",
              "      <td>249</td>\n",
              "      <td>83</td>\n",
              "      <td>24.0</td>\n",
              "      <td>0</td>\n",
              "      <td>alta</td>\n",
              "      <td>IL</td>\n",
              "      <td>medio</td>\n",
              "      <td>1</td>\n",
              "      <td>medio</td>\n",
              "      <td>1</td>\n",
              "      <td>medio</td>\n",
              "      <td>1</td>\n",
              "      <td>1</td>\n",
              "      <td>medio</td>\n",
              "      <td>3</td>\n",
              "    </tr>\n",
              "    <tr>\n",
              "      <th>13</th>\n",
              "      <td>Indiana</td>\n",
              "      <td>7.2</td>\n",
              "      <td>113</td>\n",
              "      <td>65</td>\n",
              "      <td>21.0</td>\n",
              "      <td>1</td>\n",
              "      <td>medio</td>\n",
              "      <td>IN</td>\n",
              "      <td>bajo</td>\n",
              "      <td>2</td>\n",
              "      <td>medio</td>\n",
              "      <td>1</td>\n",
              "      <td>medio</td>\n",
              "      <td>1</td>\n",
              "      <td>1</td>\n",
              "      <td>medio</td>\n",
              "      <td>4</td>\n",
              "    </tr>\n",
              "    <tr>\n",
              "      <th>14</th>\n",
              "      <td>Iowa</td>\n",
              "      <td>2.2</td>\n",
              "      <td>56</td>\n",
              "      <td>57</td>\n",
              "      <td>11.3</td>\n",
              "      <td>2</td>\n",
              "      <td>bajo</td>\n",
              "      <td>IA</td>\n",
              "      <td>bajo</td>\n",
              "      <td>2</td>\n",
              "      <td>bajo</td>\n",
              "      <td>2</td>\n",
              "      <td>bajo</td>\n",
              "      <td>2</td>\n",
              "      <td>2</td>\n",
              "      <td>bajo</td>\n",
              "      <td>6</td>\n",
              "    </tr>\n",
              "    <tr>\n",
              "      <th>15</th>\n",
              "      <td>Kansas</td>\n",
              "      <td>6.0</td>\n",
              "      <td>115</td>\n",
              "      <td>66</td>\n",
              "      <td>18.0</td>\n",
              "      <td>1</td>\n",
              "      <td>medio</td>\n",
              "      <td>KS</td>\n",
              "      <td>bajo</td>\n",
              "      <td>2</td>\n",
              "      <td>medio</td>\n",
              "      <td>1</td>\n",
              "      <td>medio</td>\n",
              "      <td>1</td>\n",
              "      <td>1</td>\n",
              "      <td>medio</td>\n",
              "      <td>4</td>\n",
              "    </tr>\n",
              "    <tr>\n",
              "      <th>16</th>\n",
              "      <td>Kentucky</td>\n",
              "      <td>9.7</td>\n",
              "      <td>109</td>\n",
              "      <td>52</td>\n",
              "      <td>16.3</td>\n",
              "      <td>2</td>\n",
              "      <td>bajo</td>\n",
              "      <td>KY</td>\n",
              "      <td>bajo</td>\n",
              "      <td>2</td>\n",
              "      <td>alta</td>\n",
              "      <td>0</td>\n",
              "      <td>bajo</td>\n",
              "      <td>2</td>\n",
              "      <td>1</td>\n",
              "      <td>medio</td>\n",
              "      <td>4</td>\n",
              "    </tr>\n",
              "    <tr>\n",
              "      <th>17</th>\n",
              "      <td>Louisiana</td>\n",
              "      <td>15.4</td>\n",
              "      <td>249</td>\n",
              "      <td>66</td>\n",
              "      <td>22.2</td>\n",
              "      <td>0</td>\n",
              "      <td>alta</td>\n",
              "      <td>LA</td>\n",
              "      <td>alta</td>\n",
              "      <td>0</td>\n",
              "      <td>alta</td>\n",
              "      <td>0</td>\n",
              "      <td>medio</td>\n",
              "      <td>1</td>\n",
              "      <td>0</td>\n",
              "      <td>alta</td>\n",
              "      <td>1</td>\n",
              "    </tr>\n",
              "    <tr>\n",
              "      <th>18</th>\n",
              "      <td>Maine</td>\n",
              "      <td>2.1</td>\n",
              "      <td>83</td>\n",
              "      <td>51</td>\n",
              "      <td>7.8</td>\n",
              "      <td>2</td>\n",
              "      <td>bajo</td>\n",
              "      <td>ME</td>\n",
              "      <td>bajo</td>\n",
              "      <td>2</td>\n",
              "      <td>bajo</td>\n",
              "      <td>2</td>\n",
              "      <td>bajo</td>\n",
              "      <td>2</td>\n",
              "      <td>2</td>\n",
              "      <td>bajo</td>\n",
              "      <td>6</td>\n",
              "    </tr>\n",
              "    <tr>\n",
              "      <th>19</th>\n",
              "      <td>Maryland</td>\n",
              "      <td>11.3</td>\n",
              "      <td>300</td>\n",
              "      <td>67</td>\n",
              "      <td>27.8</td>\n",
              "      <td>0</td>\n",
              "      <td>alta</td>\n",
              "      <td>MD</td>\n",
              "      <td>alta</td>\n",
              "      <td>0</td>\n",
              "      <td>alta</td>\n",
              "      <td>0</td>\n",
              "      <td>alta</td>\n",
              "      <td>0</td>\n",
              "      <td>0</td>\n",
              "      <td>alta</td>\n",
              "      <td>0</td>\n",
              "    </tr>\n",
              "    <tr>\n",
              "      <th>20</th>\n",
              "      <td>Massachusetts</td>\n",
              "      <td>4.4</td>\n",
              "      <td>149</td>\n",
              "      <td>85</td>\n",
              "      <td>16.3</td>\n",
              "      <td>1</td>\n",
              "      <td>medio</td>\n",
              "      <td>MA</td>\n",
              "      <td>medio</td>\n",
              "      <td>1</td>\n",
              "      <td>medio</td>\n",
              "      <td>1</td>\n",
              "      <td>medio</td>\n",
              "      <td>1</td>\n",
              "      <td>1</td>\n",
              "      <td>medio</td>\n",
              "      <td>3</td>\n",
              "    </tr>\n",
              "    <tr>\n",
              "      <th>21</th>\n",
              "      <td>Michigan</td>\n",
              "      <td>12.1</td>\n",
              "      <td>255</td>\n",
              "      <td>74</td>\n",
              "      <td>35.1</td>\n",
              "      <td>0</td>\n",
              "      <td>alta</td>\n",
              "      <td>MI</td>\n",
              "      <td>medio</td>\n",
              "      <td>1</td>\n",
              "      <td>medio</td>\n",
              "      <td>1</td>\n",
              "      <td>alta</td>\n",
              "      <td>0</td>\n",
              "      <td>1</td>\n",
              "      <td>medio</td>\n",
              "      <td>2</td>\n",
              "    </tr>\n",
              "    <tr>\n",
              "      <th>22</th>\n",
              "      <td>Minnesota</td>\n",
              "      <td>2.7</td>\n",
              "      <td>72</td>\n",
              "      <td>66</td>\n",
              "      <td>14.9</td>\n",
              "      <td>2</td>\n",
              "      <td>bajo</td>\n",
              "      <td>MN</td>\n",
              "      <td>bajo</td>\n",
              "      <td>2</td>\n",
              "      <td>bajo</td>\n",
              "      <td>2</td>\n",
              "      <td>medio</td>\n",
              "      <td>1</td>\n",
              "      <td>2</td>\n",
              "      <td>bajo</td>\n",
              "      <td>5</td>\n",
              "    </tr>\n",
              "    <tr>\n",
              "      <th>23</th>\n",
              "      <td>Mississippi</td>\n",
              "      <td>16.1</td>\n",
              "      <td>259</td>\n",
              "      <td>44</td>\n",
              "      <td>17.1</td>\n",
              "      <td>0</td>\n",
              "      <td>alta</td>\n",
              "      <td>MS</td>\n",
              "      <td>alta</td>\n",
              "      <td>0</td>\n",
              "      <td>alta</td>\n",
              "      <td>0</td>\n",
              "      <td>bajo</td>\n",
              "      <td>2</td>\n",
              "      <td>1</td>\n",
              "      <td>medio</td>\n",
              "      <td>2</td>\n",
              "    </tr>\n",
              "    <tr>\n",
              "      <th>24</th>\n",
              "      <td>Missouri</td>\n",
              "      <td>9.0</td>\n",
              "      <td>178</td>\n",
              "      <td>70</td>\n",
              "      <td>28.2</td>\n",
              "      <td>0</td>\n",
              "      <td>alta</td>\n",
              "      <td>MO</td>\n",
              "      <td>medio</td>\n",
              "      <td>1</td>\n",
              "      <td>medio</td>\n",
              "      <td>1</td>\n",
              "      <td>alta</td>\n",
              "      <td>0</td>\n",
              "      <td>1</td>\n",
              "      <td>medio</td>\n",
              "      <td>2</td>\n",
              "    </tr>\n",
              "    <tr>\n",
              "      <th>25</th>\n",
              "      <td>Montana</td>\n",
              "      <td>6.0</td>\n",
              "      <td>109</td>\n",
              "      <td>53</td>\n",
              "      <td>16.4</td>\n",
              "      <td>2</td>\n",
              "      <td>bajo</td>\n",
              "      <td>MT</td>\n",
              "      <td>bajo</td>\n",
              "      <td>2</td>\n",
              "      <td>bajo</td>\n",
              "      <td>2</td>\n",
              "      <td>bajo</td>\n",
              "      <td>2</td>\n",
              "      <td>2</td>\n",
              "      <td>bajo</td>\n",
              "      <td>6</td>\n",
              "    </tr>\n",
              "    <tr>\n",
              "      <th>26</th>\n",
              "      <td>Nebraska</td>\n",
              "      <td>4.3</td>\n",
              "      <td>102</td>\n",
              "      <td>62</td>\n",
              "      <td>16.5</td>\n",
              "      <td>2</td>\n",
              "      <td>bajo</td>\n",
              "      <td>NE</td>\n",
              "      <td>bajo</td>\n",
              "      <td>2</td>\n",
              "      <td>bajo</td>\n",
              "      <td>2</td>\n",
              "      <td>medio</td>\n",
              "      <td>1</td>\n",
              "      <td>2</td>\n",
              "      <td>bajo</td>\n",
              "      <td>5</td>\n",
              "    </tr>\n",
              "    <tr>\n",
              "      <th>27</th>\n",
              "      <td>Nevada</td>\n",
              "      <td>12.2</td>\n",
              "      <td>252</td>\n",
              "      <td>81</td>\n",
              "      <td>46.0</td>\n",
              "      <td>0</td>\n",
              "      <td>alta</td>\n",
              "      <td>NV</td>\n",
              "      <td>medio</td>\n",
              "      <td>1</td>\n",
              "      <td>medio</td>\n",
              "      <td>1</td>\n",
              "      <td>alta</td>\n",
              "      <td>0</td>\n",
              "      <td>1</td>\n",
              "      <td>medio</td>\n",
              "      <td>2</td>\n",
              "    </tr>\n",
              "    <tr>\n",
              "      <th>28</th>\n",
              "      <td>New Hampshire</td>\n",
              "      <td>2.1</td>\n",
              "      <td>57</td>\n",
              "      <td>56</td>\n",
              "      <td>9.5</td>\n",
              "      <td>2</td>\n",
              "      <td>bajo</td>\n",
              "      <td>NH</td>\n",
              "      <td>bajo</td>\n",
              "      <td>2</td>\n",
              "      <td>bajo</td>\n",
              "      <td>2</td>\n",
              "      <td>bajo</td>\n",
              "      <td>2</td>\n",
              "      <td>2</td>\n",
              "      <td>bajo</td>\n",
              "      <td>6</td>\n",
              "    </tr>\n",
              "    <tr>\n",
              "      <th>29</th>\n",
              "      <td>New Jersey</td>\n",
              "      <td>7.4</td>\n",
              "      <td>159</td>\n",
              "      <td>89</td>\n",
              "      <td>18.8</td>\n",
              "      <td>1</td>\n",
              "      <td>medio</td>\n",
              "      <td>NJ</td>\n",
              "      <td>medio</td>\n",
              "      <td>1</td>\n",
              "      <td>medio</td>\n",
              "      <td>1</td>\n",
              "      <td>medio</td>\n",
              "      <td>1</td>\n",
              "      <td>1</td>\n",
              "      <td>medio</td>\n",
              "      <td>3</td>\n",
              "    </tr>\n",
              "    <tr>\n",
              "      <th>30</th>\n",
              "      <td>New Mexico</td>\n",
              "      <td>11.4</td>\n",
              "      <td>285</td>\n",
              "      <td>70</td>\n",
              "      <td>32.1</td>\n",
              "      <td>0</td>\n",
              "      <td>alta</td>\n",
              "      <td>NM</td>\n",
              "      <td>alta</td>\n",
              "      <td>0</td>\n",
              "      <td>alta</td>\n",
              "      <td>0</td>\n",
              "      <td>alta</td>\n",
              "      <td>0</td>\n",
              "      <td>0</td>\n",
              "      <td>alta</td>\n",
              "      <td>0</td>\n",
              "    </tr>\n",
              "    <tr>\n",
              "      <th>31</th>\n",
              "      <td>New York</td>\n",
              "      <td>11.1</td>\n",
              "      <td>254</td>\n",
              "      <td>86</td>\n",
              "      <td>26.1</td>\n",
              "      <td>0</td>\n",
              "      <td>alta</td>\n",
              "      <td>NY</td>\n",
              "      <td>medio</td>\n",
              "      <td>1</td>\n",
              "      <td>medio</td>\n",
              "      <td>1</td>\n",
              "      <td>alta</td>\n",
              "      <td>0</td>\n",
              "      <td>1</td>\n",
              "      <td>medio</td>\n",
              "      <td>2</td>\n",
              "    </tr>\n",
              "    <tr>\n",
              "      <th>32</th>\n",
              "      <td>North Carolina</td>\n",
              "      <td>13.0</td>\n",
              "      <td>337</td>\n",
              "      <td>45</td>\n",
              "      <td>16.1</td>\n",
              "      <td>0</td>\n",
              "      <td>alta</td>\n",
              "      <td>NC</td>\n",
              "      <td>alta</td>\n",
              "      <td>0</td>\n",
              "      <td>alta</td>\n",
              "      <td>0</td>\n",
              "      <td>bajo</td>\n",
              "      <td>2</td>\n",
              "      <td>1</td>\n",
              "      <td>medio</td>\n",
              "      <td>2</td>\n",
              "    </tr>\n",
              "    <tr>\n",
              "      <th>33</th>\n",
              "      <td>North Dakota</td>\n",
              "      <td>0.8</td>\n",
              "      <td>45</td>\n",
              "      <td>44</td>\n",
              "      <td>7.3</td>\n",
              "      <td>2</td>\n",
              "      <td>bajo</td>\n",
              "      <td>ND</td>\n",
              "      <td>bajo</td>\n",
              "      <td>2</td>\n",
              "      <td>bajo</td>\n",
              "      <td>2</td>\n",
              "      <td>bajo</td>\n",
              "      <td>2</td>\n",
              "      <td>2</td>\n",
              "      <td>bajo</td>\n",
              "      <td>6</td>\n",
              "    </tr>\n",
              "    <tr>\n",
              "      <th>34</th>\n",
              "      <td>Ohio</td>\n",
              "      <td>7.3</td>\n",
              "      <td>120</td>\n",
              "      <td>75</td>\n",
              "      <td>21.4</td>\n",
              "      <td>1</td>\n",
              "      <td>medio</td>\n",
              "      <td>OH</td>\n",
              "      <td>medio</td>\n",
              "      <td>1</td>\n",
              "      <td>medio</td>\n",
              "      <td>1</td>\n",
              "      <td>medio</td>\n",
              "      <td>1</td>\n",
              "      <td>1</td>\n",
              "      <td>medio</td>\n",
              "      <td>3</td>\n",
              "    </tr>\n",
              "    <tr>\n",
              "      <th>35</th>\n",
              "      <td>Oklahoma</td>\n",
              "      <td>6.6</td>\n",
              "      <td>151</td>\n",
              "      <td>68</td>\n",
              "      <td>20.0</td>\n",
              "      <td>1</td>\n",
              "      <td>medio</td>\n",
              "      <td>OK</td>\n",
              "      <td>medio</td>\n",
              "      <td>1</td>\n",
              "      <td>medio</td>\n",
              "      <td>1</td>\n",
              "      <td>medio</td>\n",
              "      <td>1</td>\n",
              "      <td>1</td>\n",
              "      <td>medio</td>\n",
              "      <td>3</td>\n",
              "    </tr>\n",
              "    <tr>\n",
              "      <th>36</th>\n",
              "      <td>Oregon</td>\n",
              "      <td>4.9</td>\n",
              "      <td>159</td>\n",
              "      <td>67</td>\n",
              "      <td>29.3</td>\n",
              "      <td>1</td>\n",
              "      <td>medio</td>\n",
              "      <td>OR</td>\n",
              "      <td>medio</td>\n",
              "      <td>1</td>\n",
              "      <td>medio</td>\n",
              "      <td>1</td>\n",
              "      <td>alta</td>\n",
              "      <td>0</td>\n",
              "      <td>1</td>\n",
              "      <td>medio</td>\n",
              "      <td>2</td>\n",
              "    </tr>\n",
              "    <tr>\n",
              "      <th>37</th>\n",
              "      <td>Pennsylvania</td>\n",
              "      <td>6.3</td>\n",
              "      <td>106</td>\n",
              "      <td>72</td>\n",
              "      <td>14.9</td>\n",
              "      <td>1</td>\n",
              "      <td>medio</td>\n",
              "      <td>PA</td>\n",
              "      <td>medio</td>\n",
              "      <td>1</td>\n",
              "      <td>medio</td>\n",
              "      <td>1</td>\n",
              "      <td>medio</td>\n",
              "      <td>1</td>\n",
              "      <td>1</td>\n",
              "      <td>medio</td>\n",
              "      <td>3</td>\n",
              "    </tr>\n",
              "    <tr>\n",
              "      <th>38</th>\n",
              "      <td>Rhode Island</td>\n",
              "      <td>3.4</td>\n",
              "      <td>174</td>\n",
              "      <td>87</td>\n",
              "      <td>8.3</td>\n",
              "      <td>1</td>\n",
              "      <td>medio</td>\n",
              "      <td>RI</td>\n",
              "      <td>medio</td>\n",
              "      <td>1</td>\n",
              "      <td>medio</td>\n",
              "      <td>1</td>\n",
              "      <td>medio</td>\n",
              "      <td>1</td>\n",
              "      <td>1</td>\n",
              "      <td>medio</td>\n",
              "      <td>3</td>\n",
              "    </tr>\n",
              "    <tr>\n",
              "      <th>39</th>\n",
              "      <td>South Carolina</td>\n",
              "      <td>14.4</td>\n",
              "      <td>279</td>\n",
              "      <td>48</td>\n",
              "      <td>22.5</td>\n",
              "      <td>0</td>\n",
              "      <td>alta</td>\n",
              "      <td>SC</td>\n",
              "      <td>alta</td>\n",
              "      <td>0</td>\n",
              "      <td>alta</td>\n",
              "      <td>0</td>\n",
              "      <td>bajo</td>\n",
              "      <td>2</td>\n",
              "      <td>1</td>\n",
              "      <td>medio</td>\n",
              "      <td>2</td>\n",
              "    </tr>\n",
              "    <tr>\n",
              "      <th>40</th>\n",
              "      <td>South Dakota</td>\n",
              "      <td>3.8</td>\n",
              "      <td>86</td>\n",
              "      <td>45</td>\n",
              "      <td>12.8</td>\n",
              "      <td>2</td>\n",
              "      <td>bajo</td>\n",
              "      <td>SD</td>\n",
              "      <td>bajo</td>\n",
              "      <td>2</td>\n",
              "      <td>bajo</td>\n",
              "      <td>2</td>\n",
              "      <td>bajo</td>\n",
              "      <td>2</td>\n",
              "      <td>2</td>\n",
              "      <td>bajo</td>\n",
              "      <td>6</td>\n",
              "    </tr>\n",
              "    <tr>\n",
              "      <th>41</th>\n",
              "      <td>Tennessee</td>\n",
              "      <td>13.2</td>\n",
              "      <td>188</td>\n",
              "      <td>59</td>\n",
              "      <td>26.9</td>\n",
              "      <td>0</td>\n",
              "      <td>alta</td>\n",
              "      <td>TN</td>\n",
              "      <td>alta</td>\n",
              "      <td>0</td>\n",
              "      <td>alta</td>\n",
              "      <td>0</td>\n",
              "      <td>alta</td>\n",
              "      <td>0</td>\n",
              "      <td>0</td>\n",
              "      <td>alta</td>\n",
              "      <td>0</td>\n",
              "    </tr>\n",
              "    <tr>\n",
              "      <th>42</th>\n",
              "      <td>Texas</td>\n",
              "      <td>12.7</td>\n",
              "      <td>201</td>\n",
              "      <td>80</td>\n",
              "      <td>25.5</td>\n",
              "      <td>0</td>\n",
              "      <td>alta</td>\n",
              "      <td>TX</td>\n",
              "      <td>medio</td>\n",
              "      <td>1</td>\n",
              "      <td>medio</td>\n",
              "      <td>1</td>\n",
              "      <td>alta</td>\n",
              "      <td>0</td>\n",
              "      <td>1</td>\n",
              "      <td>medio</td>\n",
              "      <td>2</td>\n",
              "    </tr>\n",
              "    <tr>\n",
              "      <th>43</th>\n",
              "      <td>Utah</td>\n",
              "      <td>3.2</td>\n",
              "      <td>120</td>\n",
              "      <td>80</td>\n",
              "      <td>22.9</td>\n",
              "      <td>1</td>\n",
              "      <td>medio</td>\n",
              "      <td>UT</td>\n",
              "      <td>medio</td>\n",
              "      <td>1</td>\n",
              "      <td>medio</td>\n",
              "      <td>1</td>\n",
              "      <td>medio</td>\n",
              "      <td>1</td>\n",
              "      <td>1</td>\n",
              "      <td>medio</td>\n",
              "      <td>3</td>\n",
              "    </tr>\n",
              "    <tr>\n",
              "      <th>44</th>\n",
              "      <td>Vermont</td>\n",
              "      <td>2.2</td>\n",
              "      <td>48</td>\n",
              "      <td>32</td>\n",
              "      <td>11.2</td>\n",
              "      <td>2</td>\n",
              "      <td>bajo</td>\n",
              "      <td>VT</td>\n",
              "      <td>bajo</td>\n",
              "      <td>2</td>\n",
              "      <td>bajo</td>\n",
              "      <td>2</td>\n",
              "      <td>bajo</td>\n",
              "      <td>2</td>\n",
              "      <td>2</td>\n",
              "      <td>bajo</td>\n",
              "      <td>6</td>\n",
              "    </tr>\n",
              "    <tr>\n",
              "      <th>45</th>\n",
              "      <td>Virginia</td>\n",
              "      <td>8.5</td>\n",
              "      <td>156</td>\n",
              "      <td>63</td>\n",
              "      <td>20.7</td>\n",
              "      <td>1</td>\n",
              "      <td>medio</td>\n",
              "      <td>VA</td>\n",
              "      <td>bajo</td>\n",
              "      <td>2</td>\n",
              "      <td>medio</td>\n",
              "      <td>1</td>\n",
              "      <td>medio</td>\n",
              "      <td>1</td>\n",
              "      <td>1</td>\n",
              "      <td>medio</td>\n",
              "      <td>4</td>\n",
              "    </tr>\n",
              "    <tr>\n",
              "      <th>46</th>\n",
              "      <td>Washington</td>\n",
              "      <td>4.0</td>\n",
              "      <td>145</td>\n",
              "      <td>73</td>\n",
              "      <td>26.2</td>\n",
              "      <td>1</td>\n",
              "      <td>medio</td>\n",
              "      <td>WA</td>\n",
              "      <td>medio</td>\n",
              "      <td>1</td>\n",
              "      <td>medio</td>\n",
              "      <td>1</td>\n",
              "      <td>alta</td>\n",
              "      <td>0</td>\n",
              "      <td>1</td>\n",
              "      <td>medio</td>\n",
              "      <td>2</td>\n",
              "    </tr>\n",
              "    <tr>\n",
              "      <th>47</th>\n",
              "      <td>West Virginia</td>\n",
              "      <td>5.7</td>\n",
              "      <td>81</td>\n",
              "      <td>39</td>\n",
              "      <td>9.3</td>\n",
              "      <td>2</td>\n",
              "      <td>bajo</td>\n",
              "      <td>WV</td>\n",
              "      <td>bajo</td>\n",
              "      <td>2</td>\n",
              "      <td>bajo</td>\n",
              "      <td>2</td>\n",
              "      <td>bajo</td>\n",
              "      <td>2</td>\n",
              "      <td>2</td>\n",
              "      <td>bajo</td>\n",
              "      <td>6</td>\n",
              "    </tr>\n",
              "    <tr>\n",
              "      <th>48</th>\n",
              "      <td>Wisconsin</td>\n",
              "      <td>2.6</td>\n",
              "      <td>53</td>\n",
              "      <td>66</td>\n",
              "      <td>10.8</td>\n",
              "      <td>2</td>\n",
              "      <td>bajo</td>\n",
              "      <td>WI</td>\n",
              "      <td>bajo</td>\n",
              "      <td>2</td>\n",
              "      <td>bajo</td>\n",
              "      <td>2</td>\n",
              "      <td>medio</td>\n",
              "      <td>1</td>\n",
              "      <td>2</td>\n",
              "      <td>bajo</td>\n",
              "      <td>5</td>\n",
              "    </tr>\n",
              "    <tr>\n",
              "      <th>49</th>\n",
              "      <td>Wyoming</td>\n",
              "      <td>6.8</td>\n",
              "      <td>161</td>\n",
              "      <td>60</td>\n",
              "      <td>15.6</td>\n",
              "      <td>1</td>\n",
              "      <td>medio</td>\n",
              "      <td>WY</td>\n",
              "      <td>bajo</td>\n",
              "      <td>2</td>\n",
              "      <td>bajo</td>\n",
              "      <td>2</td>\n",
              "      <td>bajo</td>\n",
              "      <td>2</td>\n",
              "      <td>2</td>\n",
              "      <td>bajo</td>\n",
              "      <td>6</td>\n",
              "    </tr>\n",
              "  </tbody>\n",
              "</table>\n",
              "</div>"
            ],
            "text/plain": [
              "            Estado  Asesinatos  Asaltos  Poblacion Urbana  Violaciones  \\\n",
              "0          Alabama        13.2      236                58         21.2   \n",
              "1           Alaska        10.0      263                48         44.5   \n",
              "2          Arizona         8.1      294                80         31.0   \n",
              "3         Arkansas         8.8      190                50         19.5   \n",
              "4       California         9.0      276                91         40.6   \n",
              "5         Colorado         7.9      204                78         38.7   \n",
              "6      Connecticut         3.3      110                77         11.1   \n",
              "7         Delaware         5.9      238                72         15.8   \n",
              "8          Florida        15.4      335                80         31.9   \n",
              "9          Georgia        17.4      211                60         25.8   \n",
              "10          Hawaii         5.3       46                83         20.2   \n",
              "11           Idaho         2.6      120                54         14.2   \n",
              "12        Illinois        10.4      249                83         24.0   \n",
              "13         Indiana         7.2      113                65         21.0   \n",
              "14            Iowa         2.2       56                57         11.3   \n",
              "15          Kansas         6.0      115                66         18.0   \n",
              "16        Kentucky         9.7      109                52         16.3   \n",
              "17       Louisiana        15.4      249                66         22.2   \n",
              "18           Maine         2.1       83                51          7.8   \n",
              "19        Maryland        11.3      300                67         27.8   \n",
              "20   Massachusetts         4.4      149                85         16.3   \n",
              "21        Michigan        12.1      255                74         35.1   \n",
              "22       Minnesota         2.7       72                66         14.9   \n",
              "23     Mississippi        16.1      259                44         17.1   \n",
              "24        Missouri         9.0      178                70         28.2   \n",
              "25         Montana         6.0      109                53         16.4   \n",
              "26        Nebraska         4.3      102                62         16.5   \n",
              "27          Nevada        12.2      252                81         46.0   \n",
              "28   New Hampshire         2.1       57                56          9.5   \n",
              "29      New Jersey         7.4      159                89         18.8   \n",
              "30      New Mexico        11.4      285                70         32.1   \n",
              "31        New York        11.1      254                86         26.1   \n",
              "32  North Carolina        13.0      337                45         16.1   \n",
              "33    North Dakota         0.8       45                44          7.3   \n",
              "34            Ohio         7.3      120                75         21.4   \n",
              "35        Oklahoma         6.6      151                68         20.0   \n",
              "36          Oregon         4.9      159                67         29.3   \n",
              "37    Pennsylvania         6.3      106                72         14.9   \n",
              "38    Rhode Island         3.4      174                87          8.3   \n",
              "39  South Carolina        14.4      279                48         22.5   \n",
              "40    South Dakota         3.8       86                45         12.8   \n",
              "41       Tennessee        13.2      188                59         26.9   \n",
              "42           Texas        12.7      201                80         25.5   \n",
              "43            Utah         3.2      120                80         22.9   \n",
              "44         Vermont         2.2       48                32         11.2   \n",
              "45        Virginia         8.5      156                63         20.7   \n",
              "46      Washington         4.0      145                73         26.2   \n",
              "47   West Virginia         5.7       81                39          9.3   \n",
              "48       Wisconsin         2.6       53                66         10.8   \n",
              "49         Wyoming         6.8      161                60         15.6   \n",
              "\n",
              "    Cluster Categoria Estado_Abre Cat_asalto  Clus_asalto_nor Cat_asesinato  \\\n",
              "0         0      alta          AL       alta                0          alta   \n",
              "1         0      alta          AK       alta                0          alta   \n",
              "2         0      alta          AZ      medio                1         medio   \n",
              "3         2      bajo          AR       alta                0          alta   \n",
              "4         0      alta          CA      medio                1         medio   \n",
              "5         0      alta          CO      medio                1         medio   \n",
              "6         1     medio          CT      medio                1         medio   \n",
              "7         1     medio          DE      medio                1         medio   \n",
              "8         0      alta          FL      medio                1          alta   \n",
              "9         0      alta          GA       alta                0          alta   \n",
              "10        1     medio          HI      medio                1         medio   \n",
              "11        2      bajo          ID       bajo                2          bajo   \n",
              "12        0      alta          IL      medio                1         medio   \n",
              "13        1     medio          IN       bajo                2         medio   \n",
              "14        2      bajo          IA       bajo                2          bajo   \n",
              "15        1     medio          KS       bajo                2         medio   \n",
              "16        2      bajo          KY       bajo                2          alta   \n",
              "17        0      alta          LA       alta                0          alta   \n",
              "18        2      bajo          ME       bajo                2          bajo   \n",
              "19        0      alta          MD       alta                0          alta   \n",
              "20        1     medio          MA      medio                1         medio   \n",
              "21        0      alta          MI      medio                1         medio   \n",
              "22        2      bajo          MN       bajo                2          bajo   \n",
              "23        0      alta          MS       alta                0          alta   \n",
              "24        0      alta          MO      medio                1         medio   \n",
              "25        2      bajo          MT       bajo                2          bajo   \n",
              "26        2      bajo          NE       bajo                2          bajo   \n",
              "27        0      alta          NV      medio                1         medio   \n",
              "28        2      bajo          NH       bajo                2          bajo   \n",
              "29        1     medio          NJ      medio                1         medio   \n",
              "30        0      alta          NM       alta                0          alta   \n",
              "31        0      alta          NY      medio                1         medio   \n",
              "32        0      alta          NC       alta                0          alta   \n",
              "33        2      bajo          ND       bajo                2          bajo   \n",
              "34        1     medio          OH      medio                1         medio   \n",
              "35        1     medio          OK      medio                1         medio   \n",
              "36        1     medio          OR      medio                1         medio   \n",
              "37        1     medio          PA      medio                1         medio   \n",
              "38        1     medio          RI      medio                1         medio   \n",
              "39        0      alta          SC       alta                0          alta   \n",
              "40        2      bajo          SD       bajo                2          bajo   \n",
              "41        0      alta          TN       alta                0          alta   \n",
              "42        0      alta          TX      medio                1         medio   \n",
              "43        1     medio          UT      medio                1         medio   \n",
              "44        2      bajo          VT       bajo                2          bajo   \n",
              "45        1     medio          VA       bajo                2         medio   \n",
              "46        1     medio          WA      medio                1         medio   \n",
              "47        2      bajo          WV       bajo                2          bajo   \n",
              "48        2      bajo          WI       bajo                2          bajo   \n",
              "49        1     medio          WY       bajo                2          bajo   \n",
              "\n",
              "    Clus_asesinato_nor Cat_violacion  Clus_violacion_nor  suma_nor  \\\n",
              "0                    0          bajo                   2         1   \n",
              "1                    0          alta                   0         0   \n",
              "2                    1          alta                   0         1   \n",
              "3                    0          bajo                   2         1   \n",
              "4                    1          alta                   0         1   \n",
              "5                    1          alta                   0         1   \n",
              "6                    1         medio                   1         1   \n",
              "7                    1         medio                   1         1   \n",
              "8                    0          alta                   0         0   \n",
              "9                    0          alta                   0         0   \n",
              "10                   1         medio                   1         1   \n",
              "11                   2          bajo                   2         2   \n",
              "12                   1         medio                   1         1   \n",
              "13                   1         medio                   1         1   \n",
              "14                   2          bajo                   2         2   \n",
              "15                   1         medio                   1         1   \n",
              "16                   0          bajo                   2         1   \n",
              "17                   0         medio                   1         0   \n",
              "18                   2          bajo                   2         2   \n",
              "19                   0          alta                   0         0   \n",
              "20                   1         medio                   1         1   \n",
              "21                   1          alta                   0         1   \n",
              "22                   2         medio                   1         2   \n",
              "23                   0          bajo                   2         1   \n",
              "24                   1          alta                   0         1   \n",
              "25                   2          bajo                   2         2   \n",
              "26                   2         medio                   1         2   \n",
              "27                   1          alta                   0         1   \n",
              "28                   2          bajo                   2         2   \n",
              "29                   1         medio                   1         1   \n",
              "30                   0          alta                   0         0   \n",
              "31                   1          alta                   0         1   \n",
              "32                   0          bajo                   2         1   \n",
              "33                   2          bajo                   2         2   \n",
              "34                   1         medio                   1         1   \n",
              "35                   1         medio                   1         1   \n",
              "36                   1          alta                   0         1   \n",
              "37                   1         medio                   1         1   \n",
              "38                   1         medio                   1         1   \n",
              "39                   0          bajo                   2         1   \n",
              "40                   2          bajo                   2         2   \n",
              "41                   0          alta                   0         0   \n",
              "42                   1          alta                   0         1   \n",
              "43                   1         medio                   1         1   \n",
              "44                   2          bajo                   2         2   \n",
              "45                   1         medio                   1         1   \n",
              "46                   1          alta                   0         1   \n",
              "47                   2          bajo                   2         2   \n",
              "48                   2         medio                   1         2   \n",
              "49                   2          bajo                   2         2   \n",
              "\n",
              "   Cat_suma_crimenes  suma_crimenes_nor  \n",
              "0              medio                  2  \n",
              "1               alta                  0  \n",
              "2              medio                  2  \n",
              "3              medio                  2  \n",
              "4              medio                  2  \n",
              "5              medio                  2  \n",
              "6              medio                  3  \n",
              "7              medio                  3  \n",
              "8               alta                  1  \n",
              "9               alta                  0  \n",
              "10             medio                  3  \n",
              "11              bajo                  6  \n",
              "12             medio                  3  \n",
              "13             medio                  4  \n",
              "14              bajo                  6  \n",
              "15             medio                  4  \n",
              "16             medio                  4  \n",
              "17              alta                  1  \n",
              "18              bajo                  6  \n",
              "19              alta                  0  \n",
              "20             medio                  3  \n",
              "21             medio                  2  \n",
              "22              bajo                  5  \n",
              "23             medio                  2  \n",
              "24             medio                  2  \n",
              "25              bajo                  6  \n",
              "26              bajo                  5  \n",
              "27             medio                  2  \n",
              "28              bajo                  6  \n",
              "29             medio                  3  \n",
              "30              alta                  0  \n",
              "31             medio                  2  \n",
              "32             medio                  2  \n",
              "33              bajo                  6  \n",
              "34             medio                  3  \n",
              "35             medio                  3  \n",
              "36             medio                  2  \n",
              "37             medio                  3  \n",
              "38             medio                  3  \n",
              "39             medio                  2  \n",
              "40              bajo                  6  \n",
              "41              alta                  0  \n",
              "42             medio                  2  \n",
              "43             medio                  3  \n",
              "44              bajo                  6  \n",
              "45             medio                  4  \n",
              "46             medio                  2  \n",
              "47              bajo                  6  \n",
              "48              bajo                  5  \n",
              "49              bajo                  6  "
            ]
          },
          "execution_count": 48,
          "metadata": {},
          "output_type": "execute_result"
        }
      ],
      "source": [
        "#sumamos los clusters\n",
        "df['suma_crimenes_nor']=(df['Clus_asalto_nor']+df['Clus_asesinato_nor']+df['Clus_violacion_nor'])\n",
        "df['suma_nor']=(df['suma_crimenes_nor']/3).round().astype(int)\n",
        "\n",
        "df['Cat_suma_crimenes'] = df['suma_nor'].apply(lambda x: 'bajo' if x == 2 else (\"alta\" if x==0 else \"medio\" ))\n",
        "\n",
        "df"
      ]
    },
    {
      "cell_type": "markdown",
      "metadata": {},
      "source": [
        "Como final, se grafica el resultado normalizado de la sumatoria de cada tipo de crimen analizado por separado y luego sumado."
      ]
    },
    {
      "cell_type": "code",
      "execution_count": 49,
      "metadata": {},
      "outputs": [
        {
          "data": {
            "application/vnd.plotly.v1+json": {
              "config": {
                "plotlyServerURL": "https://plot.ly"
              },
              "data": [
                {
                  "colorscale": [
                    [
                      0,
                      "#ab63fa"
                    ],
                    [
                      1,
                      "#ab63fa"
                    ]
                  ],
                  "geo": "geo",
                  "hovertemplate": "Peligrosidad=medio<br>Abreviatura=%{location}<extra></extra>",
                  "locationmode": "USA-states",
                  "locations": [
                    "AL",
                    "AZ",
                    "AR",
                    "CA",
                    "CO",
                    "CT",
                    "DE",
                    "HI",
                    "IL",
                    "IN",
                    "KS",
                    "KY",
                    "MA",
                    "MI",
                    "MS",
                    "MO",
                    "NV",
                    "NJ",
                    "NY",
                    "NC",
                    "OH",
                    "OK",
                    "OR",
                    "PA",
                    "RI",
                    "SC",
                    "TX",
                    "UT",
                    "VA",
                    "WA"
                  ],
                  "name": "medio",
                  "showlegend": true,
                  "showscale": false,
                  "type": "choropleth",
                  "z": [
                    1,
                    1,
                    1,
                    1,
                    1,
                    1,
                    1,
                    1,
                    1,
                    1,
                    1,
                    1,
                    1,
                    1,
                    1,
                    1,
                    1,
                    1,
                    1,
                    1,
                    1,
                    1,
                    1,
                    1,
                    1,
                    1,
                    1,
                    1,
                    1,
                    1
                  ]
                },
                {
                  "colorscale": [
                    [
                      0,
                      "red"
                    ],
                    [
                      1,
                      "red"
                    ]
                  ],
                  "geo": "geo",
                  "hovertemplate": "Peligrosidad=alta<br>Abreviatura=%{location}<extra></extra>",
                  "locationmode": "USA-states",
                  "locations": [
                    "AK",
                    "FL",
                    "GA",
                    "LA",
                    "MD",
                    "NM",
                    "TN"
                  ],
                  "name": "alta",
                  "showlegend": true,
                  "showscale": false,
                  "type": "choropleth",
                  "z": [
                    1,
                    1,
                    1,
                    1,
                    1,
                    1,
                    1
                  ]
                },
                {
                  "colorscale": [
                    [
                      0,
                      "#FFA15A"
                    ],
                    [
                      1,
                      "#FFA15A"
                    ]
                  ],
                  "geo": "geo",
                  "hovertemplate": "Peligrosidad=bajo<br>Abreviatura=%{location}<extra></extra>",
                  "locationmode": "USA-states",
                  "locations": [
                    "ID",
                    "IA",
                    "ME",
                    "MN",
                    "MT",
                    "NE",
                    "NH",
                    "ND",
                    "SD",
                    "VT",
                    "WV",
                    "WI",
                    "WY"
                  ],
                  "name": "bajo",
                  "showlegend": true,
                  "showscale": false,
                  "type": "choropleth",
                  "z": [
                    1,
                    1,
                    1,
                    1,
                    1,
                    1,
                    1,
                    1,
                    1,
                    1,
                    1,
                    1,
                    1
                  ]
                }
              ],
              "layout": {
                "geo": {
                  "center": {},
                  "domain": {
                    "x": [
                      0,
                      1
                    ],
                    "y": [
                      0,
                      1
                    ]
                  },
                  "scope": "usa"
                },
                "legend": {
                  "title": {
                    "text": "Peligrosidad"
                  },
                  "tracegroupgap": 0
                },
                "template": {
                  "data": {
                    "bar": [
                      {
                        "error_x": {
                          "color": "#2a3f5f"
                        },
                        "error_y": {
                          "color": "#2a3f5f"
                        },
                        "marker": {
                          "line": {
                            "color": "#E5ECF6",
                            "width": 0.5
                          },
                          "pattern": {
                            "fillmode": "overlay",
                            "size": 10,
                            "solidity": 0.2
                          }
                        },
                        "type": "bar"
                      }
                    ],
                    "barpolar": [
                      {
                        "marker": {
                          "line": {
                            "color": "#E5ECF6",
                            "width": 0.5
                          },
                          "pattern": {
                            "fillmode": "overlay",
                            "size": 10,
                            "solidity": 0.2
                          }
                        },
                        "type": "barpolar"
                      }
                    ],
                    "carpet": [
                      {
                        "aaxis": {
                          "endlinecolor": "#2a3f5f",
                          "gridcolor": "white",
                          "linecolor": "white",
                          "minorgridcolor": "white",
                          "startlinecolor": "#2a3f5f"
                        },
                        "baxis": {
                          "endlinecolor": "#2a3f5f",
                          "gridcolor": "white",
                          "linecolor": "white",
                          "minorgridcolor": "white",
                          "startlinecolor": "#2a3f5f"
                        },
                        "type": "carpet"
                      }
                    ],
                    "choropleth": [
                      {
                        "colorbar": {
                          "outlinewidth": 0,
                          "ticks": ""
                        },
                        "type": "choropleth"
                      }
                    ],
                    "contour": [
                      {
                        "colorbar": {
                          "outlinewidth": 0,
                          "ticks": ""
                        },
                        "colorscale": [
                          [
                            0,
                            "#0d0887"
                          ],
                          [
                            0.1111111111111111,
                            "#46039f"
                          ],
                          [
                            0.2222222222222222,
                            "#7201a8"
                          ],
                          [
                            0.3333333333333333,
                            "#9c179e"
                          ],
                          [
                            0.4444444444444444,
                            "#bd3786"
                          ],
                          [
                            0.5555555555555556,
                            "#d8576b"
                          ],
                          [
                            0.6666666666666666,
                            "#ed7953"
                          ],
                          [
                            0.7777777777777778,
                            "#fb9f3a"
                          ],
                          [
                            0.8888888888888888,
                            "#fdca26"
                          ],
                          [
                            1,
                            "#f0f921"
                          ]
                        ],
                        "type": "contour"
                      }
                    ],
                    "contourcarpet": [
                      {
                        "colorbar": {
                          "outlinewidth": 0,
                          "ticks": ""
                        },
                        "type": "contourcarpet"
                      }
                    ],
                    "heatmap": [
                      {
                        "colorbar": {
                          "outlinewidth": 0,
                          "ticks": ""
                        },
                        "colorscale": [
                          [
                            0,
                            "#0d0887"
                          ],
                          [
                            0.1111111111111111,
                            "#46039f"
                          ],
                          [
                            0.2222222222222222,
                            "#7201a8"
                          ],
                          [
                            0.3333333333333333,
                            "#9c179e"
                          ],
                          [
                            0.4444444444444444,
                            "#bd3786"
                          ],
                          [
                            0.5555555555555556,
                            "#d8576b"
                          ],
                          [
                            0.6666666666666666,
                            "#ed7953"
                          ],
                          [
                            0.7777777777777778,
                            "#fb9f3a"
                          ],
                          [
                            0.8888888888888888,
                            "#fdca26"
                          ],
                          [
                            1,
                            "#f0f921"
                          ]
                        ],
                        "type": "heatmap"
                      }
                    ],
                    "heatmapgl": [
                      {
                        "colorbar": {
                          "outlinewidth": 0,
                          "ticks": ""
                        },
                        "colorscale": [
                          [
                            0,
                            "#0d0887"
                          ],
                          [
                            0.1111111111111111,
                            "#46039f"
                          ],
                          [
                            0.2222222222222222,
                            "#7201a8"
                          ],
                          [
                            0.3333333333333333,
                            "#9c179e"
                          ],
                          [
                            0.4444444444444444,
                            "#bd3786"
                          ],
                          [
                            0.5555555555555556,
                            "#d8576b"
                          ],
                          [
                            0.6666666666666666,
                            "#ed7953"
                          ],
                          [
                            0.7777777777777778,
                            "#fb9f3a"
                          ],
                          [
                            0.8888888888888888,
                            "#fdca26"
                          ],
                          [
                            1,
                            "#f0f921"
                          ]
                        ],
                        "type": "heatmapgl"
                      }
                    ],
                    "histogram": [
                      {
                        "marker": {
                          "pattern": {
                            "fillmode": "overlay",
                            "size": 10,
                            "solidity": 0.2
                          }
                        },
                        "type": "histogram"
                      }
                    ],
                    "histogram2d": [
                      {
                        "colorbar": {
                          "outlinewidth": 0,
                          "ticks": ""
                        },
                        "colorscale": [
                          [
                            0,
                            "#0d0887"
                          ],
                          [
                            0.1111111111111111,
                            "#46039f"
                          ],
                          [
                            0.2222222222222222,
                            "#7201a8"
                          ],
                          [
                            0.3333333333333333,
                            "#9c179e"
                          ],
                          [
                            0.4444444444444444,
                            "#bd3786"
                          ],
                          [
                            0.5555555555555556,
                            "#d8576b"
                          ],
                          [
                            0.6666666666666666,
                            "#ed7953"
                          ],
                          [
                            0.7777777777777778,
                            "#fb9f3a"
                          ],
                          [
                            0.8888888888888888,
                            "#fdca26"
                          ],
                          [
                            1,
                            "#f0f921"
                          ]
                        ],
                        "type": "histogram2d"
                      }
                    ],
                    "histogram2dcontour": [
                      {
                        "colorbar": {
                          "outlinewidth": 0,
                          "ticks": ""
                        },
                        "colorscale": [
                          [
                            0,
                            "#0d0887"
                          ],
                          [
                            0.1111111111111111,
                            "#46039f"
                          ],
                          [
                            0.2222222222222222,
                            "#7201a8"
                          ],
                          [
                            0.3333333333333333,
                            "#9c179e"
                          ],
                          [
                            0.4444444444444444,
                            "#bd3786"
                          ],
                          [
                            0.5555555555555556,
                            "#d8576b"
                          ],
                          [
                            0.6666666666666666,
                            "#ed7953"
                          ],
                          [
                            0.7777777777777778,
                            "#fb9f3a"
                          ],
                          [
                            0.8888888888888888,
                            "#fdca26"
                          ],
                          [
                            1,
                            "#f0f921"
                          ]
                        ],
                        "type": "histogram2dcontour"
                      }
                    ],
                    "mesh3d": [
                      {
                        "colorbar": {
                          "outlinewidth": 0,
                          "ticks": ""
                        },
                        "type": "mesh3d"
                      }
                    ],
                    "parcoords": [
                      {
                        "line": {
                          "colorbar": {
                            "outlinewidth": 0,
                            "ticks": ""
                          }
                        },
                        "type": "parcoords"
                      }
                    ],
                    "pie": [
                      {
                        "automargin": true,
                        "type": "pie"
                      }
                    ],
                    "scatter": [
                      {
                        "fillpattern": {
                          "fillmode": "overlay",
                          "size": 10,
                          "solidity": 0.2
                        },
                        "type": "scatter"
                      }
                    ],
                    "scatter3d": [
                      {
                        "line": {
                          "colorbar": {
                            "outlinewidth": 0,
                            "ticks": ""
                          }
                        },
                        "marker": {
                          "colorbar": {
                            "outlinewidth": 0,
                            "ticks": ""
                          }
                        },
                        "type": "scatter3d"
                      }
                    ],
                    "scattercarpet": [
                      {
                        "marker": {
                          "colorbar": {
                            "outlinewidth": 0,
                            "ticks": ""
                          }
                        },
                        "type": "scattercarpet"
                      }
                    ],
                    "scattergeo": [
                      {
                        "marker": {
                          "colorbar": {
                            "outlinewidth": 0,
                            "ticks": ""
                          }
                        },
                        "type": "scattergeo"
                      }
                    ],
                    "scattergl": [
                      {
                        "marker": {
                          "colorbar": {
                            "outlinewidth": 0,
                            "ticks": ""
                          }
                        },
                        "type": "scattergl"
                      }
                    ],
                    "scattermapbox": [
                      {
                        "marker": {
                          "colorbar": {
                            "outlinewidth": 0,
                            "ticks": ""
                          }
                        },
                        "type": "scattermapbox"
                      }
                    ],
                    "scatterpolar": [
                      {
                        "marker": {
                          "colorbar": {
                            "outlinewidth": 0,
                            "ticks": ""
                          }
                        },
                        "type": "scatterpolar"
                      }
                    ],
                    "scatterpolargl": [
                      {
                        "marker": {
                          "colorbar": {
                            "outlinewidth": 0,
                            "ticks": ""
                          }
                        },
                        "type": "scatterpolargl"
                      }
                    ],
                    "scatterternary": [
                      {
                        "marker": {
                          "colorbar": {
                            "outlinewidth": 0,
                            "ticks": ""
                          }
                        },
                        "type": "scatterternary"
                      }
                    ],
                    "surface": [
                      {
                        "colorbar": {
                          "outlinewidth": 0,
                          "ticks": ""
                        },
                        "colorscale": [
                          [
                            0,
                            "#0d0887"
                          ],
                          [
                            0.1111111111111111,
                            "#46039f"
                          ],
                          [
                            0.2222222222222222,
                            "#7201a8"
                          ],
                          [
                            0.3333333333333333,
                            "#9c179e"
                          ],
                          [
                            0.4444444444444444,
                            "#bd3786"
                          ],
                          [
                            0.5555555555555556,
                            "#d8576b"
                          ],
                          [
                            0.6666666666666666,
                            "#ed7953"
                          ],
                          [
                            0.7777777777777778,
                            "#fb9f3a"
                          ],
                          [
                            0.8888888888888888,
                            "#fdca26"
                          ],
                          [
                            1,
                            "#f0f921"
                          ]
                        ],
                        "type": "surface"
                      }
                    ],
                    "table": [
                      {
                        "cells": {
                          "fill": {
                            "color": "#EBF0F8"
                          },
                          "line": {
                            "color": "white"
                          }
                        },
                        "header": {
                          "fill": {
                            "color": "#C8D4E3"
                          },
                          "line": {
                            "color": "white"
                          }
                        },
                        "type": "table"
                      }
                    ]
                  },
                  "layout": {
                    "annotationdefaults": {
                      "arrowcolor": "#2a3f5f",
                      "arrowhead": 0,
                      "arrowwidth": 1
                    },
                    "autotypenumbers": "strict",
                    "coloraxis": {
                      "colorbar": {
                        "outlinewidth": 0,
                        "ticks": ""
                      }
                    },
                    "colorscale": {
                      "diverging": [
                        [
                          0,
                          "#8e0152"
                        ],
                        [
                          0.1,
                          "#c51b7d"
                        ],
                        [
                          0.2,
                          "#de77ae"
                        ],
                        [
                          0.3,
                          "#f1b6da"
                        ],
                        [
                          0.4,
                          "#fde0ef"
                        ],
                        [
                          0.5,
                          "#f7f7f7"
                        ],
                        [
                          0.6,
                          "#e6f5d0"
                        ],
                        [
                          0.7,
                          "#b8e186"
                        ],
                        [
                          0.8,
                          "#7fbc41"
                        ],
                        [
                          0.9,
                          "#4d9221"
                        ],
                        [
                          1,
                          "#276419"
                        ]
                      ],
                      "sequential": [
                        [
                          0,
                          "#0d0887"
                        ],
                        [
                          0.1111111111111111,
                          "#46039f"
                        ],
                        [
                          0.2222222222222222,
                          "#7201a8"
                        ],
                        [
                          0.3333333333333333,
                          "#9c179e"
                        ],
                        [
                          0.4444444444444444,
                          "#bd3786"
                        ],
                        [
                          0.5555555555555556,
                          "#d8576b"
                        ],
                        [
                          0.6666666666666666,
                          "#ed7953"
                        ],
                        [
                          0.7777777777777778,
                          "#fb9f3a"
                        ],
                        [
                          0.8888888888888888,
                          "#fdca26"
                        ],
                        [
                          1,
                          "#f0f921"
                        ]
                      ],
                      "sequentialminus": [
                        [
                          0,
                          "#0d0887"
                        ],
                        [
                          0.1111111111111111,
                          "#46039f"
                        ],
                        [
                          0.2222222222222222,
                          "#7201a8"
                        ],
                        [
                          0.3333333333333333,
                          "#9c179e"
                        ],
                        [
                          0.4444444444444444,
                          "#bd3786"
                        ],
                        [
                          0.5555555555555556,
                          "#d8576b"
                        ],
                        [
                          0.6666666666666666,
                          "#ed7953"
                        ],
                        [
                          0.7777777777777778,
                          "#fb9f3a"
                        ],
                        [
                          0.8888888888888888,
                          "#fdca26"
                        ],
                        [
                          1,
                          "#f0f921"
                        ]
                      ]
                    },
                    "colorway": [
                      "#636efa",
                      "#EF553B",
                      "#00cc96",
                      "#ab63fa",
                      "#FFA15A",
                      "#19d3f3",
                      "#FF6692",
                      "#B6E880",
                      "#FF97FF",
                      "#FECB52"
                    ],
                    "font": {
                      "color": "#2a3f5f"
                    },
                    "geo": {
                      "bgcolor": "white",
                      "lakecolor": "white",
                      "landcolor": "#E5ECF6",
                      "showlakes": true,
                      "showland": true,
                      "subunitcolor": "white"
                    },
                    "hoverlabel": {
                      "align": "left"
                    },
                    "hovermode": "closest",
                    "mapbox": {
                      "style": "light"
                    },
                    "paper_bgcolor": "white",
                    "plot_bgcolor": "#E5ECF6",
                    "polar": {
                      "angularaxis": {
                        "gridcolor": "white",
                        "linecolor": "white",
                        "ticks": ""
                      },
                      "bgcolor": "#E5ECF6",
                      "radialaxis": {
                        "gridcolor": "white",
                        "linecolor": "white",
                        "ticks": ""
                      }
                    },
                    "scene": {
                      "xaxis": {
                        "backgroundcolor": "#E5ECF6",
                        "gridcolor": "white",
                        "gridwidth": 2,
                        "linecolor": "white",
                        "showbackground": true,
                        "ticks": "",
                        "zerolinecolor": "white"
                      },
                      "yaxis": {
                        "backgroundcolor": "#E5ECF6",
                        "gridcolor": "white",
                        "gridwidth": 2,
                        "linecolor": "white",
                        "showbackground": true,
                        "ticks": "",
                        "zerolinecolor": "white"
                      },
                      "zaxis": {
                        "backgroundcolor": "#E5ECF6",
                        "gridcolor": "white",
                        "gridwidth": 2,
                        "linecolor": "white",
                        "showbackground": true,
                        "ticks": "",
                        "zerolinecolor": "white"
                      }
                    },
                    "shapedefaults": {
                      "line": {
                        "color": "#2a3f5f"
                      }
                    },
                    "ternary": {
                      "aaxis": {
                        "gridcolor": "white",
                        "linecolor": "white",
                        "ticks": ""
                      },
                      "baxis": {
                        "gridcolor": "white",
                        "linecolor": "white",
                        "ticks": ""
                      },
                      "bgcolor": "#E5ECF6",
                      "caxis": {
                        "gridcolor": "white",
                        "linecolor": "white",
                        "ticks": ""
                      }
                    },
                    "title": {
                      "x": 0.05
                    },
                    "xaxis": {
                      "automargin": true,
                      "gridcolor": "white",
                      "linecolor": "white",
                      "ticks": "",
                      "title": {
                        "standoff": 15
                      },
                      "zerolinecolor": "white",
                      "zerolinewidth": 2
                    },
                    "yaxis": {
                      "automargin": true,
                      "gridcolor": "white",
                      "linecolor": "white",
                      "ticks": "",
                      "title": {
                        "standoff": 15
                      },
                      "zerolinecolor": "white",
                      "zerolinewidth": 2
                    }
                  }
                },
                "title": {
                  "text": "Peligrosidad por  Estados total normalizado"
                }
              }
            }
          },
          "metadata": {},
          "output_type": "display_data"
        }
      ],
      "source": [
        "\n",
        "df_estados = pd.DataFrame(list(estados_usa.items()), columns=['Estado', 'Abreviatura'])\n",
        "df_map=df[[\"Estado\",\"Cat_suma_crimenes\"]]\n",
        "df_estados[\"Estado\"]==df_map[\"Estado\"]\n",
        "df_estados[\"Peligrosidad\"]=df_map[[\"Cat_suma_crimenes\"]]\n",
        "fig = px.choropleth(df_estados, locations=\"Abreviatura\", locationmode='USA-states',color='Peligrosidad',\n",
        "                    color_discrete_map={'alta': 'red', 'media': 'yellow', 'baja': 'green'},                        \n",
        "                    scope=\"usa\",  title= 'Peligrosidad por  Estados total normalizado'\n",
        "                    )\n",
        "\n",
        "fig.show()"
      ]
    }
  ],
  "metadata": {
    "colab": {
      "provenance": []
    },
    "kernelspec": {
      "display_name": "Python 3",
      "language": "python",
      "name": "python3"
    },
    "language_info": {
      "codemirror_mode": {
        "name": "ipython",
        "version": 3
      },
      "file_extension": ".py",
      "mimetype": "text/x-python",
      "name": "python",
      "nbconvert_exporter": "python",
      "pygments_lexer": "ipython3",
      "version": "3.12.0"
    }
  },
  "nbformat": 4,
  "nbformat_minor": 0
}
